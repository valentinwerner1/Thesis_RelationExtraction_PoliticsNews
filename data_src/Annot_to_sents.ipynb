{
 "cells": [
  {
   "cell_type": "code",
   "execution_count": 13,
   "metadata": {},
   "outputs": [],
   "source": [
    "import pandas as pd\n",
    "import numpy as np \n",
    "import json\n",
    "import os\n",
    "import re\n",
    "import spacy \n",
    "spacy.prefer_gpu(1)\n",
    "nlp = spacy.load(\"en_core_web_trf\")"
   ]
  },
  {
   "cell_type": "code",
   "execution_count": 14,
   "metadata": {},
   "outputs": [
    {
     "data": {
      "text/html": [
       "<div>\n",
       "<style scoped>\n",
       "    .dataframe tbody tr th:only-of-type {\n",
       "        vertical-align: middle;\n",
       "    }\n",
       "\n",
       "    .dataframe tbody tr th {\n",
       "        vertical-align: top;\n",
       "    }\n",
       "\n",
       "    .dataframe thead th {\n",
       "        text-align: right;\n",
       "    }\n",
       "</style>\n",
       "<table border=\"1\" class=\"dataframe\">\n",
       "  <thead>\n",
       "    <tr style=\"text-align: right;\">\n",
       "      <th></th>\n",
       "      <th>text</th>\n",
       "      <th>article_id</th>\n",
       "      <th>_input_hash</th>\n",
       "      <th>_task_hash</th>\n",
       "      <th>_is_binary</th>\n",
       "      <th>spans</th>\n",
       "      <th>tokens</th>\n",
       "      <th>_view_id</th>\n",
       "      <th>relations</th>\n",
       "      <th>answer</th>\n",
       "      <th>_timestamp</th>\n",
       "    </tr>\n",
       "  </thead>\n",
       "  <tbody>\n",
       "    <tr>\n",
       "      <th>0</th>\n",
       "      <td>Ukraine war: Russian tactics on eastern front ...</td>\n",
       "      <td>0</td>\n",
       "      <td>1192826571</td>\n",
       "      <td>1725000051</td>\n",
       "      <td>False</td>\n",
       "      <td>[{'start': 0, 'end': 7, 'token_start': 0, 'tok...</td>\n",
       "      <td>[{'text': 'Ukraine', 'start': 0, 'end': 7, 'id...</td>\n",
       "      <td>relations</td>\n",
       "      <td>[{'head': 3, 'child': 0, 'head_span': {'start'...</td>\n",
       "      <td>accept</td>\n",
       "      <td>1666853824</td>\n",
       "    </tr>\n",
       "    <tr>\n",
       "      <th>2</th>\n",
       "      <td>Lee Jae-yong: Samsung appoints Lee Jae-yong to...</td>\n",
       "      <td>2</td>\n",
       "      <td>-386898449</td>\n",
       "      <td>495824270</td>\n",
       "      <td>False</td>\n",
       "      <td>[{'start': 0, 'end': 12, 'token_start': 0, 'to...</td>\n",
       "      <td>[{'text': 'Lee', 'start': 0, 'end': 3, 'id': 0...</td>\n",
       "      <td>relations</td>\n",
       "      <td>[{'head': 31, 'child': 18, 'head_span': {'star...</td>\n",
       "      <td>accept</td>\n",
       "      <td>1666854104</td>\n",
       "    </tr>\n",
       "    <tr>\n",
       "      <th>3</th>\n",
       "      <td>New Zealand Instagram couple 'relieved' after ...</td>\n",
       "      <td>3</td>\n",
       "      <td>94784817</td>\n",
       "      <td>-1047716132</td>\n",
       "      <td>False</td>\n",
       "      <td>[{'start': 0, 'end': 28, 'token_start': 0, 'to...</td>\n",
       "      <td>[{'text': 'New', 'start': 0, 'end': 3, 'id': 0...</td>\n",
       "      <td>relations</td>\n",
       "      <td>[{'head': 3, 'child': 9, 'head_span': {'start'...</td>\n",
       "      <td>accept</td>\n",
       "      <td>1666854141</td>\n",
       "    </tr>\n",
       "    <tr>\n",
       "      <th>4</th>\n",
       "      <td>Iran protests: Police fire on Mahsa Amini mour...</td>\n",
       "      <td>4</td>\n",
       "      <td>-1204324385</td>\n",
       "      <td>1067222802</td>\n",
       "      <td>False</td>\n",
       "      <td>[{'start': 0, 'end': 4, 'token_start': 0, 'tok...</td>\n",
       "      <td>[{'text': 'Iran', 'start': 0, 'end': 4, 'id': ...</td>\n",
       "      <td>relations</td>\n",
       "      <td>[{'head': 3, 'child': 8, 'head_span': {'start'...</td>\n",
       "      <td>accept</td>\n",
       "      <td>1666854246</td>\n",
       "    </tr>\n",
       "    <tr>\n",
       "      <th>5</th>\n",
       "      <td>Germany plans to legalise recreational cannabi...</td>\n",
       "      <td>5</td>\n",
       "      <td>1523244431</td>\n",
       "      <td>980527859</td>\n",
       "      <td>False</td>\n",
       "      <td>[{'start': 0, 'end': 7, 'token_start': 0, 'tok...</td>\n",
       "      <td>[{'text': 'Germany', 'start': 0, 'end': 7, 'id...</td>\n",
       "      <td>relations</td>\n",
       "      <td>[{'head': 0, 'child': 5, 'head_span': {'start'...</td>\n",
       "      <td>accept</td>\n",
       "      <td>1666854286</td>\n",
       "    </tr>\n",
       "  </tbody>\n",
       "</table>\n",
       "</div>"
      ],
      "text/plain": [
       "                                                text  article_id  _input_hash  \\\n",
       "0  Ukraine war: Russian tactics on eastern front ...           0   1192826571   \n",
       "2  Lee Jae-yong: Samsung appoints Lee Jae-yong to...           2   -386898449   \n",
       "3  New Zealand Instagram couple 'relieved' after ...           3     94784817   \n",
       "4  Iran protests: Police fire on Mahsa Amini mour...           4  -1204324385   \n",
       "5  Germany plans to legalise recreational cannabi...           5   1523244431   \n",
       "\n",
       "   _task_hash  _is_binary                                              spans  \\\n",
       "0  1725000051       False  [{'start': 0, 'end': 7, 'token_start': 0, 'tok...   \n",
       "2   495824270       False  [{'start': 0, 'end': 12, 'token_start': 0, 'to...   \n",
       "3 -1047716132       False  [{'start': 0, 'end': 28, 'token_start': 0, 'to...   \n",
       "4  1067222802       False  [{'start': 0, 'end': 4, 'token_start': 0, 'tok...   \n",
       "5   980527859       False  [{'start': 0, 'end': 7, 'token_start': 0, 'tok...   \n",
       "\n",
       "                                              tokens   _view_id  \\\n",
       "0  [{'text': 'Ukraine', 'start': 0, 'end': 7, 'id...  relations   \n",
       "2  [{'text': 'Lee', 'start': 0, 'end': 3, 'id': 0...  relations   \n",
       "3  [{'text': 'New', 'start': 0, 'end': 3, 'id': 0...  relations   \n",
       "4  [{'text': 'Iran', 'start': 0, 'end': 4, 'id': ...  relations   \n",
       "5  [{'text': 'Germany', 'start': 0, 'end': 7, 'id...  relations   \n",
       "\n",
       "                                           relations  answer  _timestamp  \n",
       "0  [{'head': 3, 'child': 0, 'head_span': {'start'...  accept  1666853824  \n",
       "2  [{'head': 31, 'child': 18, 'head_span': {'star...  accept  1666854104  \n",
       "3  [{'head': 3, 'child': 9, 'head_span': {'start'...  accept  1666854141  \n",
       "4  [{'head': 3, 'child': 8, 'head_span': {'start'...  accept  1666854246  \n",
       "5  [{'head': 0, 'child': 5, 'head_span': {'start'...  accept  1666854286  "
      ]
     },
     "execution_count": 14,
     "metadata": {},
     "output_type": "execute_result"
    }
   ],
   "source": [
    "read = pd.read_json(\"raw/out_label/summaries_outx.json\", lines = True)\n",
    "df = read[read.answer == \"accept\"]\n",
    "df.head()"
   ]
  },
  {
   "cell_type": "code",
   "execution_count": 15,
   "metadata": {},
   "outputs": [],
   "source": [
    "def annot_to_sent(df):\n",
    "    new = []\n",
    "    for index, row in df.iterrows():\n",
    "        doc = nlp(row.text)\n",
    "        splits = []\n",
    "        cur_sent = \"\"\n",
    "        last_end = True\n",
    "        start_idx = 0\n",
    "        last_idx = 0\n",
    "\n",
    "        for sent in doc.sents:\n",
    "            sent = sent.text\n",
    "            last_idx = start_idx + len(sent)\n",
    "            splits.append([start_idx,last_idx, sent])\n",
    "            start_idx += len(cur_sent + sent) + 1\n",
    "\n",
    "            relations = row.relations.copy()\n",
    "            for i in range(len(splits)):\n",
    "                sub = splits.pop(0)\n",
    "\n",
    "                start = sub[0]\n",
    "                lim = sub[1]\n",
    "                text = sub[2]\n",
    "\n",
    "                for idx, rel in enumerate(relations):\n",
    "                    if rel[\"head_span\"][\"end\"] <= lim and rel[\"child_span\"][\"end\"] <= lim and rel[\"head_span\"][\"start\"] >= start and rel[\"child_span\"][\"start\"] >= start:\n",
    "                        subj = text[rel[\"head_span\"][\"start\"]-start:rel[\"head_span\"][\"end\"]-start]\n",
    "                        obj = text[rel[\"child_span\"][\"start\"]-start:rel[\"child_span\"][\"end\"]-start]\n",
    "                        new.append([text, f\"<triplet> {subj} <subj> {obj} <obj> {rel['label']}\"])\n",
    "                        relations[idx] == [9999,9999,\"found already\"]\n",
    "\n",
    "    last_txt = \"\"\n",
    "    last_rel = \"\"\n",
    "    alligned = []\n",
    "    for sent in new:\n",
    "        if sent[0] == last_txt:\n",
    "            last_rel = last_rel.lstrip() + \" \" + sent[1]\n",
    "        elif sent[0] != last_txt:\n",
    "            alligned.append([last_txt, last_rel])\n",
    "            last_txt = sent[0]\n",
    "            last_rel = sent[1]\n",
    "    if alligned[-1][0] == last_txt:\n",
    "        alligned[-1][1] == alligned[-1][1] + \" \" + sent[1]\n",
    "    else:\n",
    "        alligned.append([last_txt, last_rel])\n",
    "    alligned.pop(0)\n",
    "\n",
    "    df = pd.DataFrame(alligned, columns = [\"text\",\"label\"])\n",
    "    return df"
   ]
  },
  {
   "cell_type": "code",
   "execution_count": 16,
   "metadata": {},
   "outputs": [],
   "source": [
    "df = annot_to_sent(df)"
   ]
  },
  {
   "cell_type": "code",
   "execution_count": 17,
   "metadata": {},
   "outputs": [
    {
     "data": {
      "text/html": [
       "<div>\n",
       "<style scoped>\n",
       "    .dataframe tbody tr th:only-of-type {\n",
       "        vertical-align: middle;\n",
       "    }\n",
       "\n",
       "    .dataframe tbody tr th {\n",
       "        vertical-align: top;\n",
       "    }\n",
       "\n",
       "    .dataframe thead th {\n",
       "        text-align: right;\n",
       "    }\n",
       "</style>\n",
       "<table border=\"1\" class=\"dataframe\">\n",
       "  <thead>\n",
       "    <tr style=\"text-align: right;\">\n",
       "      <th></th>\n",
       "      <th>text</th>\n",
       "      <th>article_id</th>\n",
       "      <th>_input_hash</th>\n",
       "      <th>_task_hash</th>\n",
       "      <th>_is_binary</th>\n",
       "      <th>spans</th>\n",
       "      <th>tokens</th>\n",
       "      <th>_view_id</th>\n",
       "      <th>relations</th>\n",
       "      <th>answer</th>\n",
       "      <th>_timestamp</th>\n",
       "    </tr>\n",
       "  </thead>\n",
       "  <tbody>\n",
       "    <tr>\n",
       "      <th>0</th>\n",
       "      <td>Sensible America finally spoke, but ‘Trumpty D...</td>\n",
       "      <td>3159</td>\n",
       "      <td>2108892512</td>\n",
       "      <td>770305806</td>\n",
       "      <td>False</td>\n",
       "      <td>[{'start': 68, 'end': 89, 'token_start': 15, '...</td>\n",
       "      <td>[{'text': 'Sensible', 'start': 0, 'end': 8, 'i...</td>\n",
       "      <td>relations</td>\n",
       "      <td>[{'head': 17, 'child': 22, 'head_span': {'star...</td>\n",
       "      <td>accept</td>\n",
       "      <td>1672333765</td>\n",
       "    </tr>\n",
       "    <tr>\n",
       "      <th>1</th>\n",
       "      <td>How Was Russia Able to Launch Russia's Biggest...</td>\n",
       "      <td>4317</td>\n",
       "      <td>-1406124216</td>\n",
       "      <td>-723512353</td>\n",
       "      <td>False</td>\n",
       "      <td>[{'start': 8, 'end': 14, 'token_start': 2, 'to...</td>\n",
       "      <td>[{'text': 'How', 'start': 0, 'end': 3, 'id': 0...</td>\n",
       "      <td>relations</td>\n",
       "      <td>[{'head': 18, 'child': 21, 'head_span': {'star...</td>\n",
       "      <td>accept</td>\n",
       "      <td>1672333840</td>\n",
       "    </tr>\n",
       "    <tr>\n",
       "      <th>2</th>\n",
       "      <td>World leaders discuss climate change solutions...</td>\n",
       "      <td>2396</td>\n",
       "      <td>-2130737925</td>\n",
       "      <td>1317932275</td>\n",
       "      <td>False</td>\n",
       "      <td>[{'start': 0, 'end': 13, 'token_start': 0, 'to...</td>\n",
       "      <td>[{'text': 'World', 'start': 0, 'end': 5, 'id':...</td>\n",
       "      <td>relations</td>\n",
       "      <td>[{'head': 1, 'child': 7, 'head_span': {'start'...</td>\n",
       "      <td>accept</td>\n",
       "      <td>1672333863</td>\n",
       "    </tr>\n",
       "    <tr>\n",
       "      <th>3</th>\n",
       "      <td>In Colombia, Drilling Pays the Bills. Colombia...</td>\n",
       "      <td>3831</td>\n",
       "      <td>-534305385</td>\n",
       "      <td>-1860660404</td>\n",
       "      <td>False</td>\n",
       "      <td>[{'start': 38, 'end': 54, 'token_start': 8, 't...</td>\n",
       "      <td>[{'text': 'In', 'start': 0, 'end': 2, 'id': 0,...</td>\n",
       "      <td>relations</td>\n",
       "      <td>[{'head': 9, 'child': 13, 'head_span': {'start...</td>\n",
       "      <td>accept</td>\n",
       "      <td>1672333943</td>\n",
       "    </tr>\n",
       "    <tr>\n",
       "      <th>4</th>\n",
       "      <td>Photo: Mohamed Salah shares image of Mohamed S...</td>\n",
       "      <td>1188</td>\n",
       "      <td>343647075</td>\n",
       "      <td>791917291</td>\n",
       "      <td>False</td>\n",
       "      <td>[{'start': 7, 'end': 20, 'token_start': 2, 'to...</td>\n",
       "      <td>[{'text': 'Photo', 'start': 0, 'end': 5, 'id':...</td>\n",
       "      <td>relations</td>\n",
       "      <td>[{'head': 51, 'child': 46, 'head_span': {'star...</td>\n",
       "      <td>accept</td>\n",
       "      <td>1672049094</td>\n",
       "    </tr>\n",
       "  </tbody>\n",
       "</table>\n",
       "</div>"
      ],
      "text/plain": [
       "                                                text  article_id  _input_hash  \\\n",
       "0  Sensible America finally spoke, but ‘Trumpty D...        3159   2108892512   \n",
       "1  How Was Russia Able to Launch Russia's Biggest...        4317  -1406124216   \n",
       "2  World leaders discuss climate change solutions...        2396  -2130737925   \n",
       "3  In Colombia, Drilling Pays the Bills. Colombia...        3831   -534305385   \n",
       "4  Photo: Mohamed Salah shares image of Mohamed S...        1188    343647075   \n",
       "\n",
       "   _task_hash  _is_binary                                              spans  \\\n",
       "0   770305806       False  [{'start': 68, 'end': 89, 'token_start': 15, '...   \n",
       "1  -723512353       False  [{'start': 8, 'end': 14, 'token_start': 2, 'to...   \n",
       "2  1317932275       False  [{'start': 0, 'end': 13, 'token_start': 0, 'to...   \n",
       "3 -1860660404       False  [{'start': 38, 'end': 54, 'token_start': 8, 't...   \n",
       "4   791917291       False  [{'start': 7, 'end': 20, 'token_start': 2, 'to...   \n",
       "\n",
       "                                              tokens   _view_id  \\\n",
       "0  [{'text': 'Sensible', 'start': 0, 'end': 8, 'i...  relations   \n",
       "1  [{'text': 'How', 'start': 0, 'end': 3, 'id': 0...  relations   \n",
       "2  [{'text': 'World', 'start': 0, 'end': 5, 'id':...  relations   \n",
       "3  [{'text': 'In', 'start': 0, 'end': 2, 'id': 0,...  relations   \n",
       "4  [{'text': 'Photo', 'start': 0, 'end': 5, 'id':...  relations   \n",
       "\n",
       "                                           relations  answer  _timestamp  \n",
       "0  [{'head': 17, 'child': 22, 'head_span': {'star...  accept  1672333765  \n",
       "1  [{'head': 18, 'child': 21, 'head_span': {'star...  accept  1672333840  \n",
       "2  [{'head': 1, 'child': 7, 'head_span': {'start'...  accept  1672333863  \n",
       "3  [{'head': 9, 'child': 13, 'head_span': {'start...  accept  1672333943  \n",
       "4  [{'head': 51, 'child': 46, 'head_span': {'star...  accept  1672049094  "
      ]
     },
     "execution_count": 17,
     "metadata": {},
     "output_type": "execute_result"
    }
   ],
   "source": [
    "read = pd.read_json(\"raw/out_label/counter_annotate.json\", lines = True)\n",
    "df_2 = read[read.answer == \"accept\"]\n",
    "df_2.head()"
   ]
  },
  {
   "cell_type": "code",
   "execution_count": 18,
   "metadata": {},
   "outputs": [],
   "source": [
    "df_2 = annot_to_sent(df_2)"
   ]
  },
  {
   "cell_type": "code",
   "execution_count": 19,
   "metadata": {},
   "outputs": [
    {
     "data": {
      "text/plain": [
       "((1720, 2), (119, 2))"
      ]
     },
     "execution_count": 19,
     "metadata": {},
     "output_type": "execute_result"
    }
   ],
   "source": [
    "df.shape, df_2.shape"
   ]
  },
  {
   "cell_type": "code",
   "execution_count": 43,
   "metadata": {},
   "outputs": [
    {
     "data": {
      "text/plain": [
       "(1835, 3)"
      ]
     },
     "execution_count": 43,
     "metadata": {},
     "output_type": "execute_result"
    }
   ],
   "source": [
    "con = pd.concat([df, df_2])\n",
    "con = con[~con.duplicated([\"text\",\"label\"])]\n",
    "con = con.reset_index()\n",
    "con.shape"
   ]
  },
  {
   "cell_type": "code",
   "execution_count": 44,
   "metadata": {},
   "outputs": [],
   "source": [
    "con[\"label\"] = con.label.apply(lambda x: x.replace(\n",
    "    \"ProvideAid\", \"Provide Aid\").replace(\n",
    "    \"EngageInDiplomaticCooperation\", \"Engage In Diplomatic Cooperation\").replace(\n",
    "    \"MakePublicStatement\", \"Make Public Statement\").replace(\n",
    "    \"ExpressIntendToCooperate\",\"Express Intend to Cooperate\").replace(\n",
    "    \"EngageInMaterialCooperation\",\"Engage In Material Cooperation\").replace(\n",
    "    \"ExhibitMilitaryPosture\",\"Exhibit Military Posture\").replace(\n",
    "    \"ReduceRelations\", \"Reduce Relations\").replace(\n",
    "    \"ExpressIntentToCooperate\", \"Express Intend to Cooperate\").replace(\n",
    "    \"EngageInUnconventialMassViolence\", \"Engage in unconventional mass violence\"))"
   ]
  },
  {
   "cell_type": "code",
   "execution_count": 45,
   "metadata": {},
   "outputs": [],
   "source": [
    "\n",
    "#extract the categorized relation for stratified split on cameo codes\n",
    "relation = []\n",
    "len_cat = []\n",
    "for row in con.iterrows():\n",
    "    rel_iter = row[1][\"label\"] + \" <triplet>\"\n",
    "    all_rels = re.findall(\"(?<=<obj> ).*?(?= <triplet>)\", rel_iter)\n",
    "    relation.append(all_rels)\n",
    "con[\"relations\"] = relation\n",
    "con[\"rel_len\"] = con.relations.apply(lambda x: len(x))\n",
    "#fix \"Protest\" and \"Fight\" being found in entities"
   ]
  },
  {
   "cell_type": "code",
   "execution_count": 46,
   "metadata": {},
   "outputs": [
    {
     "data": {
      "text/plain": [
       "(relations\n",
       " Appeal                                      96\n",
       " Assault                                    104\n",
       " Coerce                                     128\n",
       " Consult                                    289\n",
       " Demand                                      50\n",
       " Disapprove                                 274\n",
       " Engage In Diplomatic Cooperation           179\n",
       " Engage In Material Cooperation             124\n",
       " Engage in unconventional mass violence       5\n",
       " Exhibit Military Posture                    53\n",
       " Express Intend to Cooperate                 46\n",
       " Fight                                      211\n",
       " Investigate                                 83\n",
       " Make Public Statement                     1098\n",
       " Protest                                     60\n",
       " Provide Aid                                 88\n",
       " Reduce Relations                           151\n",
       " Reject                                      41\n",
       " Threaten                                    45\n",
       " Yield                                       91\n",
       " Name: text, dtype: int64,\n",
       " 3216)"
      ]
     },
     "execution_count": 46,
     "metadata": {},
     "output_type": "execute_result"
    }
   ],
   "source": [
    "con.explode(\"relations\").groupby(\"relations\").text.count(), con.rel_len.sum()"
   ]
  },
  {
   "cell_type": "code",
   "execution_count": 47,
   "metadata": {},
   "outputs": [
    {
     "data": {
      "text/html": [
       "<div>\n",
       "<style scoped>\n",
       "    .dataframe tbody tr th:only-of-type {\n",
       "        vertical-align: middle;\n",
       "    }\n",
       "\n",
       "    .dataframe tbody tr th {\n",
       "        vertical-align: top;\n",
       "    }\n",
       "\n",
       "    .dataframe thead th {\n",
       "        text-align: right;\n",
       "    }\n",
       "</style>\n",
       "<table border=\"1\" class=\"dataframe\">\n",
       "  <thead>\n",
       "    <tr style=\"text-align: right;\">\n",
       "      <th></th>\n",
       "      <th>index</th>\n",
       "      <th>rel_len</th>\n",
       "      <th>len_c</th>\n",
       "      <th>MPS</th>\n",
       "      <th>MPS%</th>\n",
       "    </tr>\n",
       "  </thead>\n",
       "  <tbody>\n",
       "    <tr>\n",
       "      <th>count</th>\n",
       "      <td>66.000000</td>\n",
       "      <td>66.000000</td>\n",
       "      <td>66.000000</td>\n",
       "      <td>66.000000</td>\n",
       "      <td>66.000000</td>\n",
       "    </tr>\n",
       "    <tr>\n",
       "      <th>mean</th>\n",
       "      <td>893.045455</td>\n",
       "      <td>4.575758</td>\n",
       "      <td>4.575758</td>\n",
       "      <td>3.318182</td>\n",
       "      <td>0.746068</td>\n",
       "    </tr>\n",
       "    <tr>\n",
       "      <th>std</th>\n",
       "      <td>515.881245</td>\n",
       "      <td>0.993217</td>\n",
       "      <td>0.993217</td>\n",
       "      <td>0.636314</td>\n",
       "      <td>0.151749</td>\n",
       "    </tr>\n",
       "    <tr>\n",
       "      <th>min</th>\n",
       "      <td>52.000000</td>\n",
       "      <td>3.000000</td>\n",
       "      <td>3.000000</td>\n",
       "      <td>3.000000</td>\n",
       "      <td>0.571429</td>\n",
       "    </tr>\n",
       "    <tr>\n",
       "      <th>25%</th>\n",
       "      <td>486.750000</td>\n",
       "      <td>4.000000</td>\n",
       "      <td>4.000000</td>\n",
       "      <td>3.000000</td>\n",
       "      <td>0.600000</td>\n",
       "    </tr>\n",
       "    <tr>\n",
       "      <th>50%</th>\n",
       "      <td>971.000000</td>\n",
       "      <td>5.000000</td>\n",
       "      <td>5.000000</td>\n",
       "      <td>3.000000</td>\n",
       "      <td>0.750000</td>\n",
       "    </tr>\n",
       "    <tr>\n",
       "      <th>75%</th>\n",
       "      <td>1346.500000</td>\n",
       "      <td>5.000000</td>\n",
       "      <td>5.000000</td>\n",
       "      <td>3.000000</td>\n",
       "      <td>0.800000</td>\n",
       "    </tr>\n",
       "    <tr>\n",
       "      <th>max</th>\n",
       "      <td>1671.000000</td>\n",
       "      <td>7.000000</td>\n",
       "      <td>7.000000</td>\n",
       "      <td>6.000000</td>\n",
       "      <td>1.000000</td>\n",
       "    </tr>\n",
       "  </tbody>\n",
       "</table>\n",
       "</div>"
      ],
      "text/plain": [
       "             index    rel_len      len_c        MPS       MPS%\n",
       "count    66.000000  66.000000  66.000000  66.000000  66.000000\n",
       "mean    893.045455   4.575758   4.575758   3.318182   0.746068\n",
       "std     515.881245   0.993217   0.993217   0.636314   0.151749\n",
       "min      52.000000   3.000000   3.000000   3.000000   0.571429\n",
       "25%     486.750000   4.000000   4.000000   3.000000   0.600000\n",
       "50%     971.000000   5.000000   5.000000   3.000000   0.750000\n",
       "75%    1346.500000   5.000000   5.000000   3.000000   0.800000\n",
       "max    1671.000000   7.000000   7.000000   6.000000   1.000000"
      ]
     },
     "execution_count": 47,
     "metadata": {},
     "output_type": "execute_result"
    }
   ],
   "source": [
    "con[\"len_c\"] = con.relations.apply(lambda x: len(x))\n",
    "con[\"MPS\"] = con.relations.apply(lambda x: x.count(\"Make Public Statement\"))\n",
    "con[\"MPS%\"] = con[\"MPS\"] / con[\"len_c\"]\n",
    "sub = con[(con[\"MPS%\"] > 0.5) & (con[\"MPS\"]>2)].sort_values([\"MPS%\",\"MPS\",\"len_c\"], ascending = False)\n",
    "sub.describe()"
   ]
  },
  {
   "cell_type": "code",
   "execution_count": 48,
   "metadata": {},
   "outputs": [
    {
     "data": {
      "text/plain": [
       "(relations\n",
       " Appeal                                3\n",
       " Assault                               4\n",
       " Coerce                                8\n",
       " Consult                              13\n",
       " Demand                                2\n",
       " Disapprove                            7\n",
       " Engage In Diplomatic Cooperation      2\n",
       " Engage In Material Cooperation        3\n",
       " Exhibit Military Posture              4\n",
       " Express Intend to Cooperate           1\n",
       " Fight                                20\n",
       " Investigate                           1\n",
       " Make Public Statement               219\n",
       " Protest                               1\n",
       " Provide Aid                           2\n",
       " Reduce Relations                      7\n",
       " Reject                                2\n",
       " Threaten                              2\n",
       " Yield                                 1\n",
       " Name: text, dtype: int64,\n",
       " 3216)"
      ]
     },
     "execution_count": 48,
     "metadata": {},
     "output_type": "execute_result"
    }
   ],
   "source": [
    "sub.explode(\"relations\").groupby(\"relations\").text.count(), con.rel_len.sum()"
   ]
  },
  {
   "cell_type": "code",
   "execution_count": 49,
   "metadata": {},
   "outputs": [
    {
     "data": {
      "text/plain": [
       "219"
      ]
     },
     "execution_count": 49,
     "metadata": {},
     "output_type": "execute_result"
    }
   ],
   "source": [
    "sub.MPS.sum()\n",
    "#removing these 66 rows, with hardly any value"
   ]
  },
  {
   "cell_type": "code",
   "execution_count": 50,
   "metadata": {},
   "outputs": [
    {
     "data": {
      "text/plain": [
       "(66, 8)"
      ]
     },
     "execution_count": 50,
     "metadata": {},
     "output_type": "execute_result"
    }
   ],
   "source": [
    "sub.shape"
   ]
  },
  {
   "cell_type": "code",
   "execution_count": 51,
   "metadata": {},
   "outputs": [
    {
     "data": {
      "text/plain": [
       "(1769, 8)"
      ]
     },
     "execution_count": 51,
     "metadata": {},
     "output_type": "execute_result"
    }
   ],
   "source": [
    "con = con.drop(index = sub.index)\n",
    "con.shape"
   ]
  },
  {
   "cell_type": "code",
   "execution_count": 52,
   "metadata": {},
   "outputs": [],
   "source": [
    "con[[\"text\",\"label\"]].to_csv(\"annotated/sent_full.csv\")"
   ]
  },
  {
   "attachments": {},
   "cell_type": "markdown",
   "metadata": {},
   "source": [
    "# Data from ConfliBERT (not used, just checked)"
   ]
  },
  {
   "cell_type": "code",
   "execution_count": 2,
   "metadata": {},
   "outputs": [],
   "source": [
    "input = \"conflibert,hu_et_al.2022/ner_train.txt\""
   ]
  },
  {
   "cell_type": "code",
   "execution_count": 3,
   "metadata": {},
   "outputs": [],
   "source": [
    "parsed = open(input, encoding = \"utf-8\")\n",
    "parsedfile = parsed.readlines()"
   ]
  },
  {
   "cell_type": "code",
   "execution_count": 4,
   "metadata": {},
   "outputs": [],
   "source": [
    "parsedlines = []\n",
    "cur = \"\"\n",
    "ents = []\n",
    "ent = \"\"\n",
    "for line in parsedfile:\n",
    "    if line == \"\\n\":\n",
    "        #cur = re.sub(\" \\W\",\"\", cur.lstrip())\n",
    "        parsedlines.append([cur.lstrip(), ents])\n",
    "        ents = []\n",
    "        cur = \"\"\n",
    "    else:\n",
    "        split = line.replace(\"\\n\",\"\").split()\n",
    "        if split[0] != \",\" and split[0] != \":\" and split[0] != \".\" and split[0] != \"'\" and split[0] != \"’\":\n",
    "            cur += \" \" + split[0]\n",
    "        else:\n",
    "            cur += split[0]\n",
    "        if split[1] != \"O\":\n",
    "            ent += \" \" + split[0]\n",
    "        elif split[1] == \"O\" and ent != \"\":\n",
    "            ents.append(ent.lstrip())\n",
    "            ent = \"\""
   ]
  },
  {
   "cell_type": "code",
   "execution_count": 5,
   "metadata": {},
   "outputs": [
    {
     "data": {
      "text/plain": [
       "1153"
      ]
     },
     "execution_count": 5,
     "metadata": {},
     "output_type": "execute_result"
    }
   ],
   "source": [
    "len(parsedlines)"
   ]
  },
  {
   "cell_type": "code",
   "execution_count": 6,
   "metadata": {},
   "outputs": [],
   "source": [
    "df = pd.DataFrame(parsedlines, columns = [\"text\",\"ents\"])"
   ]
  },
  {
   "cell_type": "code",
   "execution_count": 7,
   "metadata": {},
   "outputs": [],
   "source": [
    "df[\"ent_len\"] = df.ents.apply(lambda x: len(x))"
   ]
  },
  {
   "cell_type": "code",
   "execution_count": 8,
   "metadata": {},
   "outputs": [],
   "source": [
    "df = df[df.ent_len == 2]"
   ]
  },
  {
   "cell_type": "code",
   "execution_count": 9,
   "metadata": {},
   "outputs": [],
   "source": [
    "df[\"start\"] = df.text.apply(lambda x: \" \".join(x.split()[:5]))"
   ]
  },
  {
   "cell_type": "code",
   "execution_count": 10,
   "metadata": {},
   "outputs": [],
   "source": [
    "df_2 = pd.read_csv(\"conflibert,hu_et_al.2022/rcc_train.tsv\", sep = \"\\t\", header = None)\n",
    "df_2.columns =  [\"text\",\"label\"]\n",
    "df_2[\"start\"] = df_2.text.apply(lambda x: \" \".join(x.split()[:5]))"
   ]
  },
  {
   "cell_type": "code",
   "execution_count": 11,
   "metadata": {},
   "outputs": [],
   "source": [
    "merge = pd.merge(df, df_2, on = \"start\", how = \"inner\")"
   ]
  },
  {
   "cell_type": "code",
   "execution_count": 12,
   "metadata": {},
   "outputs": [],
   "source": [
    "merge = merge[[\"text_y\",\"ents\",\"label\"]]"
   ]
  },
  {
   "cell_type": "code",
   "execution_count": 36,
   "metadata": {},
   "outputs": [
    {
     "data": {
      "text/plain": [
       "'Congress will fully support the Philippine Plan of Action to End Violence Against Children (PPAEVAC), Davao City Rep. Karlo Nograles said yesterday.'"
      ]
     },
     "execution_count": 36,
     "metadata": {},
     "output_type": "execute_result"
    }
   ],
   "source": [
    "merge.text_y.to_list()[125]"
   ]
  },
  {
   "cell_type": "code",
   "execution_count": 37,
   "metadata": {},
   "outputs": [
    {
     "data": {
      "text/plain": [
       "['Congress',\n",
       " 'the Philippine Plan of Action to End Violence Against Children ( PPAEVAC )']"
      ]
     },
     "execution_count": 37,
     "metadata": {},
     "output_type": "execute_result"
    }
   ],
   "source": [
    "merge.ents.to_list()[125]"
   ]
  }
 ],
 "metadata": {
  "kernelspec": {
   "display_name": "thesis_valentin",
   "language": "python",
   "name": "python3"
  },
  "language_info": {
   "codemirror_mode": {
    "name": "ipython",
    "version": 3
   },
   "file_extension": ".py",
   "mimetype": "text/x-python",
   "name": "python",
   "nbconvert_exporter": "python",
   "pygments_lexer": "ipython3",
   "version": "3.8.10 (default, Jun 22 2022, 20:18:18) \n[GCC 9.4.0]"
  },
  "orig_nbformat": 4,
  "vscode": {
   "interpreter": {
    "hash": "a1350fe81f24607af7015099983099ac829ebf1f4acb969c2cf14b7230b10f2d"
   }
  }
 },
 "nbformat": 4,
 "nbformat_minor": 2
}
