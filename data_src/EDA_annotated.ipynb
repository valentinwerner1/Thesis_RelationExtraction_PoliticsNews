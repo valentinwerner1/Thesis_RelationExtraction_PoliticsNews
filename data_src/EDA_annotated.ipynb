{
 "cells": [
  {
   "cell_type": "code",
   "execution_count": 14,
   "metadata": {},
   "outputs": [],
   "source": [
    "import pandas as pd\n",
    "import numpy as np \n",
    "import json\n",
    "import os\n",
    "import re"
   ]
  },
  {
   "cell_type": "code",
   "execution_count": 15,
   "metadata": {},
   "outputs": [],
   "source": [
    "def sorter(column):\n",
    "    reorder = [\n",
    "        \"Make Public Statement\",\n",
    "        \"Consult\",\n",
    "        \"Disapprove\",\n",
    "        \"Coerce\",\n",
    "        \"Engage In Diplomatic Cooperation\",\n",
    "        \"Engage In Material Cooperation\",\n",
    "        \"Appeal\",\n",
    "        \"Fight\",\n",
    "        \"Threaten\",\n",
    "        \"Yield\",\n",
    "        \"Express Intend to Cooperate\",        \n",
    "        \"Demand\",\n",
    "        \"Provide Aid\",\n",
    "        \"Investigate\",\n",
    "        \"Assault\",\n",
    "        \"Reduce Relations\",\n",
    "        \"Protest\",\n",
    "        \"Reject\",\n",
    "        \"Exhibit Military Posture\",\n",
    "        \"Engage In Unconventional Mass Violence\"\n",
    "    ]\n",
    "    # This also works:\n",
    "    # mapper = {name: order for order, name in enumerate(reorder)}\n",
    "    # return column.map(mapper)\n",
    "    cat = pd.Categorical(column, categories=reorder, ordered=True)\n",
    "    return pd.Series(cat)"
   ]
  },
  {
   "cell_type": "code",
   "execution_count": 16,
   "metadata": {},
   "outputs": [
    {
     "data": {
      "text/html": [
       "<div>\n",
       "<style scoped>\n",
       "    .dataframe tbody tr th:only-of-type {\n",
       "        vertical-align: middle;\n",
       "    }\n",
       "\n",
       "    .dataframe tbody tr th {\n",
       "        vertical-align: top;\n",
       "    }\n",
       "\n",
       "    .dataframe thead th {\n",
       "        text-align: right;\n",
       "    }\n",
       "</style>\n",
       "<table border=\"1\" class=\"dataframe\">\n",
       "  <thead>\n",
       "    <tr style=\"text-align: right;\">\n",
       "      <th></th>\n",
       "      <th>text</th>\n",
       "      <th>article_id</th>\n",
       "      <th>_input_hash</th>\n",
       "      <th>_task_hash</th>\n",
       "      <th>_is_binary</th>\n",
       "      <th>spans</th>\n",
       "      <th>tokens</th>\n",
       "      <th>_view_id</th>\n",
       "      <th>relations</th>\n",
       "      <th>answer</th>\n",
       "      <th>_timestamp</th>\n",
       "    </tr>\n",
       "  </thead>\n",
       "  <tbody>\n",
       "    <tr>\n",
       "      <th>0</th>\n",
       "      <td>Ukraine war: Russian tactics on eastern front ...</td>\n",
       "      <td>0</td>\n",
       "      <td>1192826571</td>\n",
       "      <td>1725000051</td>\n",
       "      <td>False</td>\n",
       "      <td>[{'start': 0, 'end': 7, 'token_start': 0, 'tok...</td>\n",
       "      <td>[{'text': 'Ukraine', 'start': 0, 'end': 7, 'id...</td>\n",
       "      <td>relations</td>\n",
       "      <td>[{'head': 3, 'child': 0, 'head_span': {'start'...</td>\n",
       "      <td>accept</td>\n",
       "      <td>1666853824</td>\n",
       "    </tr>\n",
       "    <tr>\n",
       "      <th>2</th>\n",
       "      <td>Lee Jae-yong: Samsung appoints Lee Jae-yong to...</td>\n",
       "      <td>2</td>\n",
       "      <td>-386898449</td>\n",
       "      <td>495824270</td>\n",
       "      <td>False</td>\n",
       "      <td>[{'start': 0, 'end': 12, 'token_start': 0, 'to...</td>\n",
       "      <td>[{'text': 'Lee', 'start': 0, 'end': 3, 'id': 0...</td>\n",
       "      <td>relations</td>\n",
       "      <td>[{'head': 31, 'child': 18, 'head_span': {'star...</td>\n",
       "      <td>accept</td>\n",
       "      <td>1666854104</td>\n",
       "    </tr>\n",
       "    <tr>\n",
       "      <th>3</th>\n",
       "      <td>New Zealand Instagram couple 'relieved' after ...</td>\n",
       "      <td>3</td>\n",
       "      <td>94784817</td>\n",
       "      <td>-1047716132</td>\n",
       "      <td>False</td>\n",
       "      <td>[{'start': 0, 'end': 28, 'token_start': 0, 'to...</td>\n",
       "      <td>[{'text': 'New', 'start': 0, 'end': 3, 'id': 0...</td>\n",
       "      <td>relations</td>\n",
       "      <td>[{'head': 3, 'child': 9, 'head_span': {'start'...</td>\n",
       "      <td>accept</td>\n",
       "      <td>1666854141</td>\n",
       "    </tr>\n",
       "    <tr>\n",
       "      <th>4</th>\n",
       "      <td>Iran protests: Police fire on Mahsa Amini mour...</td>\n",
       "      <td>4</td>\n",
       "      <td>-1204324385</td>\n",
       "      <td>1067222802</td>\n",
       "      <td>False</td>\n",
       "      <td>[{'start': 0, 'end': 4, 'token_start': 0, 'tok...</td>\n",
       "      <td>[{'text': 'Iran', 'start': 0, 'end': 4, 'id': ...</td>\n",
       "      <td>relations</td>\n",
       "      <td>[{'head': 3, 'child': 8, 'head_span': {'start'...</td>\n",
       "      <td>accept</td>\n",
       "      <td>1666854246</td>\n",
       "    </tr>\n",
       "    <tr>\n",
       "      <th>5</th>\n",
       "      <td>Germany plans to legalise recreational cannabi...</td>\n",
       "      <td>5</td>\n",
       "      <td>1523244431</td>\n",
       "      <td>980527859</td>\n",
       "      <td>False</td>\n",
       "      <td>[{'start': 0, 'end': 7, 'token_start': 0, 'tok...</td>\n",
       "      <td>[{'text': 'Germany', 'start': 0, 'end': 7, 'id...</td>\n",
       "      <td>relations</td>\n",
       "      <td>[{'head': 0, 'child': 5, 'head_span': {'start'...</td>\n",
       "      <td>accept</td>\n",
       "      <td>1666854286</td>\n",
       "    </tr>\n",
       "  </tbody>\n",
       "</table>\n",
       "</div>"
      ],
      "text/plain": [
       "                                                text  article_id  _input_hash  \\\n",
       "0  Ukraine war: Russian tactics on eastern front ...           0   1192826571   \n",
       "2  Lee Jae-yong: Samsung appoints Lee Jae-yong to...           2   -386898449   \n",
       "3  New Zealand Instagram couple 'relieved' after ...           3     94784817   \n",
       "4  Iran protests: Police fire on Mahsa Amini mour...           4  -1204324385   \n",
       "5  Germany plans to legalise recreational cannabi...           5   1523244431   \n",
       "\n",
       "   _task_hash  _is_binary                                              spans  \\\n",
       "0  1725000051       False  [{'start': 0, 'end': 7, 'token_start': 0, 'tok...   \n",
       "2   495824270       False  [{'start': 0, 'end': 12, 'token_start': 0, 'to...   \n",
       "3 -1047716132       False  [{'start': 0, 'end': 28, 'token_start': 0, 'to...   \n",
       "4  1067222802       False  [{'start': 0, 'end': 4, 'token_start': 0, 'tok...   \n",
       "5   980527859       False  [{'start': 0, 'end': 7, 'token_start': 0, 'tok...   \n",
       "\n",
       "                                              tokens   _view_id  \\\n",
       "0  [{'text': 'Ukraine', 'start': 0, 'end': 7, 'id...  relations   \n",
       "2  [{'text': 'Lee', 'start': 0, 'end': 3, 'id': 0...  relations   \n",
       "3  [{'text': 'New', 'start': 0, 'end': 3, 'id': 0...  relations   \n",
       "4  [{'text': 'Iran', 'start': 0, 'end': 4, 'id': ...  relations   \n",
       "5  [{'text': 'Germany', 'start': 0, 'end': 7, 'id...  relations   \n",
       "\n",
       "                                           relations  answer  _timestamp  \n",
       "0  [{'head': 3, 'child': 0, 'head_span': {'start'...  accept  1666853824  \n",
       "2  [{'head': 31, 'child': 18, 'head_span': {'star...  accept  1666854104  \n",
       "3  [{'head': 3, 'child': 9, 'head_span': {'start'...  accept  1666854141  \n",
       "4  [{'head': 3, 'child': 8, 'head_span': {'start'...  accept  1666854246  \n",
       "5  [{'head': 0, 'child': 5, 'head_span': {'start'...  accept  1666854286  "
      ]
     },
     "execution_count": 16,
     "metadata": {},
     "output_type": "execute_result"
    }
   ],
   "source": [
    "read = pd.read_json(\"raw/out_label/summaries_outx.json\", lines = True)\n",
    "read_2 = pd.read_json(\"raw/out_label/counter_annotate.json\", lines = True)\n",
    "df = pd.concat([read, read_2])\n",
    "data = df[df.answer == \"accept\"]\n",
    "data.head()"
   ]
  },
  {
   "cell_type": "code",
   "execution_count": 17,
   "metadata": {},
   "outputs": [
    {
     "data": {
      "text/plain": [
       "(1151, 11)"
      ]
     },
     "execution_count": 17,
     "metadata": {},
     "output_type": "execute_result"
    }
   ],
   "source": [
    "data.shape"
   ]
  },
  {
   "cell_type": "code",
   "execution_count": 18,
   "metadata": {},
   "outputs": [],
   "source": [
    "def preprocess_raw(df):\n",
    "    #get data into needed format and create new DataFrame\n",
    "    data = []\n",
    "    for index,row in df.iterrows():\n",
    "        rel_list = []\n",
    "        for rel in row.relations:\n",
    "            subj = row.text[rel[\"head_span\"][\"start\"]:rel[\"head_span\"][\"end\"]]\n",
    "            obj = row.text[rel[\"child_span\"][\"start\"]:rel[\"child_span\"][\"end\"]]\n",
    "            rel_list.append(f\"<triplet> {subj} <subj> {obj} <obj> {rel['label']}\")\n",
    "        data.append({\"doc_id\":row.article_id, \"text\": row.text, \"triplets\": \" \".join(rel_list)})\n",
    "\n",
    "    data = pd.DataFrame(data, columns = [\"doc_id\",\"text\",\"triplets\"])\n",
    "    data = data[data.triplets != \"\"]\n",
    "    data[\"rel_count\"] = data.triplets.apply(lambda x: x.count(\"<triplet>\"))\n",
    "    return data"
   ]
  },
  {
   "cell_type": "code",
   "execution_count": 19,
   "metadata": {},
   "outputs": [],
   "source": [
    "data = preprocess_raw(data)"
   ]
  },
  {
   "cell_type": "code",
   "execution_count": 20,
   "metadata": {},
   "outputs": [],
   "source": [
    "d = \"<triplet>\"\n",
    "len_list = []\n",
    "trip_list = []\n",
    "for triplet in data.triplets.to_list():\n",
    "    s =  [d+e.rstrip() for e in triplet.split(d) if e]\n",
    "    trip_list.append(s)\n",
    "    len_list.append(len(s))"
   ]
  },
  {
   "cell_type": "code",
   "execution_count": 21,
   "metadata": {},
   "outputs": [],
   "source": [
    "data[\"len\"] = len_list"
   ]
  },
  {
   "cell_type": "code",
   "execution_count": 22,
   "metadata": {},
   "outputs": [],
   "source": [
    "#Remove duplicates from labels?\n",
    "dedupe = [list(set(x)) for x in trip_list]\n",
    "new_len = [len(list(set(x))) for x in trip_list]\n",
    "data[\"new_len\"] = new_len"
   ]
  },
  {
   "cell_type": "code",
   "execution_count": 23,
   "metadata": {},
   "outputs": [
    {
     "data": {
      "text/plain": [
       "(132, 6)"
      ]
     },
     "execution_count": 23,
     "metadata": {},
     "output_type": "execute_result"
    }
   ],
   "source": [
    "#Number of rows where relations need to be deduped\n",
    "data[data.len != data.new_len].shape"
   ]
  },
  {
   "cell_type": "code",
   "execution_count": 24,
   "metadata": {},
   "outputs": [],
   "source": [
    "data[\"triplets\"] = data.triplets.apply(lambda x: x.replace(\n",
    "    \"ProvideAid\", \"Provide Aid\").replace(\n",
    "    \"EngageInDiplomaticCooperation\", \"Engage In Diplomatic Cooperation\").replace(\n",
    "    \"MakePublicStatement\", \"Make Public Statement\").replace(\n",
    "    \"ExpressIntendToCooperate\",\"Express Intend to Cooperate\").replace(\n",
    "    \"EngageInMaterialCooperation\",\"Engage In Material Cooperation\").replace(\n",
    "    \"ExhibitMilitaryPosture\",\"Exhibit Military Posture\").replace(\n",
    "    \"ReduceRelations\", \"Reduce Relations\").replace(\n",
    "    \"ExpressIntentToCooperate\", \"Express Intent to Cooperate\").replace(\n",
    "    \"EngageInUnconventialMassViolence\", \"Engage in unconventional mass violence\"))"
   ]
  },
  {
   "cell_type": "code",
   "execution_count": 25,
   "metadata": {},
   "outputs": [],
   "source": [
    "d = \"<triplet>\"\n",
    "len_list = []\n",
    "trip_list = []\n",
    "for triplet in data.triplets.to_list():\n",
    "    s =  [d+e.rstrip() for e in triplet.split(d) if e]\n",
    "    trip_list.append(s)\n",
    "    len_list.append(len(s))"
   ]
  },
  {
   "cell_type": "code",
   "execution_count": 26,
   "metadata": {},
   "outputs": [],
   "source": [
    "data[\"in_len\"] = data.text.apply(lambda x: len(x))"
   ]
  },
  {
   "cell_type": "code",
   "execution_count": 27,
   "metadata": {},
   "outputs": [],
   "source": [
    "import matplotlib.pyplot as plt\n",
    "import seaborn as sns"
   ]
  },
  {
   "cell_type": "code",
   "execution_count": 29,
   "metadata": {},
   "outputs": [],
   "source": [
    "\n",
    "#extract the categorized relation for stratified split on cameo codes\n",
    "relation = []\n",
    "len_cat = []\n",
    "for row in data.iterrows():\n",
    "    rel_iter = row[1][\"triplets\"] + \" <triplet>\"\n",
    "    all_rels = re.findall(\"(?<=<obj> ).*?(?= <triplet>)\", rel_iter)\n",
    "    relation.append(all_rels)\n",
    "data[\"relations\"] = relation\n",
    "data[\"rel_len\"] = data.relations.apply(lambda x: len(x))"
   ]
  },
  {
   "cell_type": "code",
   "execution_count": 30,
   "metadata": {},
   "outputs": [],
   "source": [
    "expl = data.explode(\"relations\")"
   ]
  },
  {
   "cell_type": "code",
   "execution_count": 31,
   "metadata": {},
   "outputs": [
    {
     "data": {
      "text/plain": [
       "0.338082517067379"
      ]
     },
     "execution_count": 31,
     "metadata": {},
     "output_type": "execute_result"
    }
   ],
   "source": [
    "expl.relations.to_list().count(\"Make Public Statement\")/expl.shape[0]\n",
    "#34.27% relations are Public statements"
   ]
  },
  {
   "cell_type": "code",
   "execution_count": 32,
   "metadata": {},
   "outputs": [
    {
     "data": {
      "text/plain": [
       "(54, 9)"
      ]
     },
     "execution_count": 32,
     "metadata": {},
     "output_type": "execute_result"
    }
   ],
   "source": [
    "expl[(expl.relations == \"Make Public Statement\") & (expl.rel_len == 1)].shape"
   ]
  },
  {
   "cell_type": "code",
   "execution_count": 33,
   "metadata": {},
   "outputs": [
    {
     "data": {
      "image/png": "[encoded data removed]",
      "text/plain": [
       "<Figure size 640x480 with 1 Axes>"
      ]
     },
     "metadata": {},
     "output_type": "display_data"
    },
    {
     "data": {
      "text/plain": [
       "(180.0, 232.0, 302.25)"
      ]
     },
     "execution_count": 33,
     "metadata": {},
     "output_type": "execute_result"
    }
   ],
   "source": [
    "sns.histplot(data.in_len, bins = 20)\n",
    "plt.show()\n",
    "np.percentile(data.in_len, 25), np.percentile(data.in_len, 50), np.percentile(data.in_len, 75)"
   ]
  },
  {
   "cell_type": "code",
   "execution_count": 34,
   "metadata": {},
   "outputs": [
    {
     "data": {
      "text/plain": [
       "Text(0.5, 0, 'Label')"
      ]
     },
     "execution_count": 34,
     "metadata": {},
     "output_type": "execute_result"
    },
    {
     "data": {
      "image/png": "[encoded data removed]",
      "text/plain": [
       "<Figure size 600x800 with 1 Axes>"
      ]
     },
     "metadata": {},
     "output_type": "display_data"
    }
   ],
   "source": [
    "plt.figure(figsize=(6,8))\n",
    "ax = sns.countplot(y = expl.relations)\n",
    "ax.bar_label(ax.containers[0])\n",
    "sns.despine()\n",
    "plt.ylabel('Absolute frequency')\n",
    "plt.xlabel('Label')\n",
    "#this dataset also needs augmentation!"
   ]
  },
  {
   "cell_type": "code",
   "execution_count": 35,
   "metadata": {},
   "outputs": [
    {
     "data": {
      "text/plain": [
       "1096"
      ]
     },
     "execution_count": 35,
     "metadata": {},
     "output_type": "execute_result"
    }
   ],
   "source": [
    "data.shape[0]"
   ]
  },
  {
   "cell_type": "code",
   "execution_count": 36,
   "metadata": {},
   "outputs": [
    {
     "name": "stdout",
     "output_type": "stream",
     "text": [
      "Count of sentences with 1 relations: 224 (0.20437956204379562%)\n",
      "Count of sentences with 2 relations: 289 (0.2636861313868613%)\n",
      "Count of sentences with 3 relations: 223 (0.20346715328467152%)\n",
      "Count of sentences with 4 relations: 154 (0.14051094890510948%)\n",
      "Count of sentences with 5 relations: 72 (0.06569343065693431%)\n",
      "Count of sentences with 6 relations: 68 (0.06204379562043796%)\n",
      "Count of sentences with 7 relations: 33 (0.030109489051094892%)\n",
      "Count of sentences with 8 relations: 21 (0.01916058394160584%)\n",
      "Count of sentences with 9 relations: 8 (0.0072992700729927005%)\n",
      "Count of sentences with 10 relations: 1 (0.0009124087591240876%)\n",
      "Count of sentences with 11 relations: 3 (0.002737226277372263%)\n"
     ]
    }
   ],
   "source": [
    "#How many relations does each text have?\n",
    "data[\"rel_count\"] = data.triplets.apply(lambda x: x.count(\"<triplet>\"))\n",
    "for count in range(data.rel_count.max()):\n",
    "    print(f\"Count of sentences with {count + 1} relations: {data[data.rel_count == count + 1].shape[0]} ({data[data.rel_count == count + 1].shape[0]/data.shape[0]}%)\")\n",
    "\n",
    "#all sentences have only 1 relation"
   ]
  },
  {
   "cell_type": "code",
   "execution_count": 24,
   "metadata": {},
   "outputs": [],
   "source": [
    "data.to_csv(\"annotated_data_noaug.csv\")"
   ]
  },
  {
   "cell_type": "code",
   "execution_count": null,
   "metadata": {},
   "outputs": [],
   "source": []
  },
  {
   "attachments": {},
   "cell_type": "markdown",
   "metadata": {},
   "source": [
    "## Create splits"
   ]
  },
  {
   "cell_type": "code",
   "execution_count": 56,
   "metadata": {},
   "outputs": [],
   "source": [
    "full = pd.read_csv(\"annotated/sent_full.csv\")\n",
    "cameo = pd.read_csv(\"annotated/CAMEO.csv\")[[\"text\",\"triplets\"]]\n",
    "cameo.columns = [\"text\",\"label\"]\n",
    "\n",
    "cameo[\"label\"] = cameo.label.apply(lambda x: x.replace(\"Express Intent to Cooperate\",\"Express Intend to Cooperate\"))"
   ]
  },
  {
   "cell_type": "code",
   "execution_count": 57,
   "metadata": {},
   "outputs": [],
   "source": [
    "relation = []\n",
    "for row in cameo.iterrows():\n",
    "    rel_iter = row[1][\"label\"] + \" <triplet>\"\n",
    "    all_rels = re.findall(\"(?<=<obj> ).*?(?= <triplet>)\", rel_iter)\n",
    "    relation.append(all_rels)\n",
    "cameo[\"relations\"] = relation\n",
    "\n",
    "cameo[\"mps\"] = cameo.relations.apply(lambda x: x.count(\"Make Public Statement\"))\n",
    "cameo[\"len\"] = cameo.relations.apply(lambda x: len(x))\n",
    "mps = []\n",
    "for row in cameo.iterrows():\n",
    "    mps.append(row[1][\"mps\"] / row[1][\"len\"])\n",
    "cameo[\"MPS%\"] = mps"
   ]
  },
  {
   "cell_type": "code",
   "execution_count": 58,
   "metadata": {},
   "outputs": [],
   "source": [
    "mps = cameo[(cameo[\"MPS%\"] > 0.6) & (cameo.mps > 1)]"
   ]
  },
  {
   "cell_type": "code",
   "execution_count": 59,
   "metadata": {},
   "outputs": [],
   "source": [
    "cameo[\"unq\"] = cameo.relations.apply(lambda x: len(list(set(x))))"
   ]
  },
  {
   "cell_type": "code",
   "execution_count": 60,
   "metadata": {},
   "outputs": [],
   "source": [
    "new_sub=[]\n",
    "for row in mps.iterrows():\n",
    "\n",
    "    try:\n",
    "        ex = row[1][\"text\"]\n",
    "\n",
    "        rm = ex[ex.rindex(',')+1:]\n",
    "        label = row[1][\"label\"]\n",
    "\n",
    "        remainder = ex[:-(len(ex[ex.rindex(','):]))]\n",
    "\n",
    "        rels = []\n",
    "        split = re.split(\"<\\w*>\", label)[1:] #first one is empty\n",
    "        for i in range(int(len(split)/3)): #always pairs of 3\n",
    "            sub = split[i*3:i*3+3]\n",
    "            rels.append([sub[0].lstrip().rstrip(), sub[1].lstrip().rstrip(), sub[2].lstrip().rstrip()])\n",
    "        \n",
    "        keep = []\n",
    "        for rel in rels:\n",
    "            if rel[2] == \"Make Public Statement\":\n",
    "\n",
    "                if rel[0] in rm or rel[1] in rm:\n",
    "                    #print(rel)\n",
    "                    continue\n",
    "                else: \n",
    "                    keep.append(rel)\n",
    "            else: keep.append(rel)\n",
    "        \n",
    "        new_rel = \"\"\n",
    "        for rel in keep:\n",
    "            new_rel += f\"<triplet> {rel[0]} <subj> {rel[1]} <obj> {rel[2]} \"\n",
    "        new_sub.append([remainder,new_rel.rstrip()])\n",
    "\n",
    "    except:\n",
    "        new_sub.append([row[1][\"text\"], row[1][\"label\"]])\n"
   ]
  },
  {
   "cell_type": "code",
   "execution_count": 61,
   "metadata": {},
   "outputs": [],
   "source": [
    "cameo = cameo.drop(index = mps.index)\n",
    "new = pd.DataFrame(new_sub, columns = [\"text\",\"label\"])\n",
    "cameo = pd.concat([cameo, new]).reset_index().drop(columns = [\"index\"])[[\"text\",\"label\"]]"
   ]
  },
  {
   "cell_type": "code",
   "execution_count": null,
   "metadata": {},
   "outputs": [],
   "source": [
    "relation = []\n",
    "for row in cameo.iterrows():\n",
    "    rel_iter = row[1][\"label\"] + \" <triplet>\"\n",
    "    all_rels = re.findall(\"(?<=<obj> ).*?(?= <triplet>)\", rel_iter)\n",
    "    relation.append(all_rels)\n",
    "cameo[\"relations\"] = relation\n",
    "\n",
    "cameo[\"len\"] = cameo.relations.apply(lambda x: len(x))\n",
    "cameo[\"post\"] = cameo.relations.apply(lambda x: \"Exhibit Military Posture\" in x) #since only few labels, all go to test\n",
    "post = cameo[cameo.post == True]\n",
    "cameo = cameo[cameo.post == False]\n",
    "\n",
    "for row in cameo.iterrows():\n",
    "    row[1][\"relations\"].append(str(row[1][\"len\"])+\".\")\n",
    "\n",
    "data = cameo.copy()\n",
    "\n",
    "from sklearn.preprocessing import MultiLabelBinarizer\n",
    "from iterstrat.ml_stratifiers import MultilabelStratifiedShuffleSplit\n",
    "\n",
    "mlb = MultiLabelBinarizer()\n",
    "accept_MLB = mlb.fit_transform(data[\"relations\"])\n",
    "\n",
    "cols = [f\"rel{i}\" for i in range(len(accept_MLB[0]))]\n",
    "data2 = pd.concat([data.reset_index(), pd.DataFrame(accept_MLB, columns = cols)], axis = 1)\n",
    "\n",
    "#select indexes for train & val\n",
    "splits = MultilabelStratifiedShuffleSplit(test_size=round(len(data2.text) * 0.4), train_size= (len(data2.text) - round(len(data2.text) * 0.4)), random_state = 0)\n",
    "test_idx, val_idx = next(splits.split(data2.text, data2[cols]))\n",
    "\n",
    "pre_split = data2.iloc[val_idx]\n",
    "\n",
    "splits = MultilabelStratifiedShuffleSplit(test_size=round(len(pre_split.text) * 0.5), train_size= (len(pre_split.text) - round(len(pre_split.text) * 0.5)), random_state = 0)\n",
    "#0,4 works decent\n",
    "val_idx, train_idx = next(splits.split(pre_split.text, pre_split[cols]))\n",
    "\n",
    "test = data2.iloc[test_idx]\n",
    "val = pre_split.iloc[val_idx] #pre_split\n",
    "train = pre_split.iloc[train_idx]\n",
    "\n",
    "train_cam = train[[\"text\",\"label\"]]\n",
    "val_cam = val[[\"text\",\"label\"]]\n",
    "test = test[[\"text\",\"label\"]]\n",
    "test = pd.concat([test, post[[\"text\",\"label\"]]])\n",
    "\n",
    "print(\"train shape\", train_cam.shape)\n",
    "print(\"val shape\", val_cam.shape)\n",
    "print(\"test shape\", test.shape)"
   ]
  },
  {
   "cell_type": "code",
   "execution_count": null,
   "metadata": {},
   "outputs": [],
   "source": [
    "relation = []\n",
    "for row in test.iterrows():\n",
    "    rel_iter = row[1][\"label\"] + \" <triplet>\"\n",
    "    all_rels = re.findall(\"(?<=<obj> ).*?(?= <triplet>)\", rel_iter)\n",
    "    relation.append(all_rels)\n",
    "test[\"relations\"] = relation\n",
    "test.explode(\"relations\").groupby(\"relations\").text.count()\n",
    "test.to_csv(\"annotated_noaug/test_2.csv\")"
   ]
  },
  {
   "cell_type": "code",
   "execution_count": null,
   "metadata": {},
   "outputs": [],
   "source": [
    "relation = []\n",
    "for row in full.iterrows():\n",
    "    rel_iter = row[1][\"label\"] + \" <triplet>\"\n",
    "    all_rels = re.findall(\"(?<=<obj> ).*?(?= <triplet>)\", rel_iter)\n",
    "    relation.append(all_rels)\n",
    "full[\"relations\"] = relation\n",
    "full[\"len\"] = full.relations.apply(lambda x: len(x))\n",
    "\n",
    "idx = []\n",
    "for row in full.iterrows():\n",
    "    if \"Engage in unconventional mass violence\" in row[1][\"relations\"]: idx.append(row[0])\n",
    "#Drop unconventional mass violence because not represented \n",
    "full = full.drop(index = idx).reset_index().drop(columns = [\"index\"])\n",
    "full = full.reset_index().drop(columns = [\"index\"])\n",
    "\n",
    "for row in full.iterrows():\n",
    "    row[1][\"relations\"].append(str(row[1][\"len\"])+\".\")\n",
    "\n",
    "data = full.copy()\n",
    "\n",
    "from sklearn.preprocessing import MultiLabelBinarizer\n",
    "from iterstrat.ml_stratifiers import MultilabelStratifiedShuffleSplit\n",
    "\n",
    "mlb = MultiLabelBinarizer()\n",
    "accept_MLB = mlb.fit_transform(data[\"relations\"])\n",
    "\n",
    "cols = [f\"rel{i}\" for i in range(len(accept_MLB[0]))]\n",
    "data2 = pd.concat([data.reset_index(), pd.DataFrame(accept_MLB, columns = cols)], axis = 1)\n",
    "\n",
    "#select indexes for train & val\n",
    "splits = MultilabelStratifiedShuffleSplit(test_size=round(len(data2.text) * 0.9), train_size= (len(data2.text) - round(len(data2.text) * 0.9)), random_state = 2)\n",
    "val_idx, train_idx = next(splits.split(data2.text, data2[cols]))\n",
    "\n",
    "val = data2.iloc[val_idx]\n",
    "train = data2.iloc[train_idx]\n",
    "\n",
    "train = train[[\"text\",\"label\"]]\n",
    "train = pd.concat([train, train_cam])\n",
    "val = val[[\"text\",\"label\"]]\n",
    "val = pd.concat([val, val_cam])\n",
    "\n",
    "\n",
    "print(\"train shape\", train.shape)\n",
    "print(\"val shape\", val.shape)\n",
    "print(\"test shape\", test.shape) #from CAMEO"
   ]
  },
  {
   "cell_type": "code",
   "execution_count": null,
   "metadata": {},
   "outputs": [],
   "source": [
    "train.to_csv(\"annotated_noaug/train_2.csv\")\n",
    "val.to_csv(\"annotated_noaug/val_2.csv\")"
   ]
  },
  {
   "cell_type": "code",
   "execution_count": null,
   "metadata": {},
   "outputs": [],
   "source": [
    "#next step is augmenting this data with DataAugmentationAnnotated.py"
   ]
  },
  {
   "attachments": {},
   "cell_type": "markdown",
   "metadata": {},
   "source": [
    "## EDA on augmented data"
   ]
  },
  {
   "cell_type": "code",
   "execution_count": 37,
   "metadata": {},
   "outputs": [],
   "source": [
    "cameo_to_penta = {\n",
    "    \"Make Public Statement\" : \"Make a Statement\",\n",
    "    \"Appeal\" : \"Make a Statement\", \n",
    "    \"Express Intend to Cooperate\" : \"Verbal Cooperation\",\n",
    "    \"Express Intent to Cooperate\" : \"Verbal Cooperation\",\n",
    "    \"Consult\" : \"Verbal Cooperation\",\n",
    "    \"Engage In Diplomatic Cooperation\" : \"Verbal Cooperation\",\n",
    "    \"Engage In Material Cooperation\" : \"Material Cooperation\",\n",
    "    \"Provide Aid\" : \"Material Cooperation\",\n",
    "    \"Yield\" : \"Material Cooperation\", \n",
    "    \"Investigate\" : \"Verbal Conflict\",\n",
    "    \"Demand\" : \"Verbal Conflict\",\n",
    "    \"Disapprove\" : \"Verbal Conflict\",\n",
    "    \"Reject\" : \"Verbal Conflict\",\n",
    "    \"Threaten\" : \"Verbal Conflict\",\n",
    "    \"Exhibit Military Posture\" : \"Material Conflict\",\n",
    "    \"Protest\" : \"Material Conflict\", \n",
    "    \"Reduce Relations\" : \"Verbal Conflict\",\n",
    "    \"Coerce\" : \"Material Conflict\",\n",
    "    \"Assault\" : \"Material Conflict\",\n",
    "    \"Fight\" : \"Material Conflict\",\n",
    "    \"Engage in unconventional mass violence\" : \"Material Conflict\"\n",
    "}"
   ]
  },
  {
   "cell_type": "code",
   "execution_count": 38,
   "metadata": {},
   "outputs": [],
   "source": [
    "def remove_duplicate_labels(df):\n",
    "    new = []\n",
    "    for row in df.iterrows():\n",
    "\n",
    "        try:\n",
    "            ex = row[1][\"label\"]     \n",
    "        except: \n",
    "            ex = row[1][\"triplets\"]\n",
    "\n",
    "        cur_subj = \"\"\n",
    "        cur_obj = \"\"\n",
    "        cur_rel = \"\"\n",
    "        c = 0\n",
    "\n",
    "        new_rel = []\n",
    "        for part in re.split(r\"\\s(?=<\\w*>)\", ex.lstrip()):\n",
    "            if re.findall(\"<\\w+>\", part)[0] == \"<triplet>\":\n",
    "                cur_subj = part.replace(\"<triplet> \",\"\")\n",
    "            elif re.findall(\"<\\w+>\", part)[0] == \"<subj>\":\n",
    "                cur_obj = part.replace(\"<subj> \",\"\")\n",
    "                c+=1\n",
    "            elif re.findall(\"<\\w+>\", part)[0] == \"<obj>\":\n",
    "                cur_rel = part.replace(\"<obj> \",\"\")\n",
    "                c+=1\n",
    "            if c == 2:\n",
    "                new_rel.append(f\"<triplet> {cur_subj} <subj> {cur_obj} <obj> {cur_rel}\")\n",
    "                c = 0\n",
    "\n",
    "        new_rel = list(set(new_rel))\n",
    "        sub_dedupe = \" \".join(new_rel)\n",
    "        new.append(sub_dedupe)         \n",
    "            \n",
    "    df[\"label\"] = new\n",
    "    return df[[\"text\",\"label\"]]"
   ]
  },
  {
   "cell_type": "code",
   "execution_count": 42,
   "metadata": {},
   "outputs": [
    {
     "data": {
      "text/plain": [
       "((1769, 3), (2577, 3), (251, 3), (224, 3), (3052, 3))"
      ]
     },
     "execution_count": 42,
     "metadata": {},
     "output_type": "execute_result"
    }
   ],
   "source": [
    "data_rdy = pd.read_csv(\"annotated/sent_full.csv\", index_col= 0)\n",
    "data_rdy[\"split\"] = \"original\"\n",
    "#train and validation data from DataAugementation.ipynb\n",
    "\n",
    "train = pd.read_csv(\"annotated/new_train_aug_0.csv\", index_col= 0)\n",
    "train[\"split\"] = \"training\"\n",
    "val = pd.read_csv(\"annotated/new_val_aug_0.csv\", index_col= 0)\n",
    "val[\"split\"] = \"validation\"\n",
    "test = pd.read_csv(\"annotated/new_test_aug_0.csv\", index_col= 0)\n",
    "test[\"split\"] = \"test\"\n",
    "\n",
    "full_set = pd.concat([train, val, test])\n",
    "\n",
    "data_rdy.shape, train.shape, val.shape, test.shape, full_set.shape"
   ]
  },
  {
   "attachments": {},
   "cell_type": "markdown",
   "metadata": {},
   "source": [
    "# Inter Annotator Agreement\n",
    "\n",
    "(Big Shoutouts to Felix!)"
   ]
  },
  {
   "cell_type": "code",
   "execution_count": 44,
   "metadata": {},
   "outputs": [],
   "source": [
    "import spacy\n",
    "nlp = spacy.load(\"en_core_web_trf\")"
   ]
  },
  {
   "cell_type": "code",
   "execution_count": 45,
   "metadata": {},
   "outputs": [],
   "source": [
    "def annot_to_sent(df):\n",
    "    new = []\n",
    "    for index, row in df.iterrows():\n",
    "        doc = nlp(row.text)\n",
    "        splits = []\n",
    "        cur_sent = \"\"\n",
    "        last_end = True\n",
    "        start_idx = 0\n",
    "        last_idx = 0\n",
    "\n",
    "        for sent in doc.sents:\n",
    "            sent = sent.text\n",
    "            last_idx = start_idx + len(sent)\n",
    "            splits.append([start_idx,last_idx, sent])\n",
    "            start_idx += len(cur_sent + sent) + 1\n",
    "\n",
    "            relations = row.relations.copy()\n",
    "            for i in range(len(splits)):\n",
    "                sub = splits.pop(0)\n",
    "\n",
    "                start = sub[0]\n",
    "                lim = sub[1]\n",
    "                text = sub[2]\n",
    "\n",
    "                for idx, rel in enumerate(relations):\n",
    "                    if rel[\"head_span\"][\"end\"] <= lim and rel[\"child_span\"][\"end\"] <= lim and rel[\"head_span\"][\"start\"] >= start and rel[\"child_span\"][\"start\"] >= start:\n",
    "                        subj = text[rel[\"head_span\"][\"start\"]-start:rel[\"head_span\"][\"end\"]-start]\n",
    "                        obj = text[rel[\"child_span\"][\"start\"]-start:rel[\"child_span\"][\"end\"]-start]\n",
    "                        new.append([text, f\"<triplet> {subj} <subj> {obj} <obj> {rel['label']}\", row.article_id])\n",
    "                        relations[idx] == [9999,9999,\"found already\"]\n",
    "\n",
    "    last_txt = \"\"\n",
    "    last_rel = \"\"\n",
    "    alligned = []\n",
    "    for sent in new:\n",
    "        if sent[0] == last_txt:\n",
    "            last_rel = last_rel.lstrip() + \" \" + sent[1]\n",
    "        elif sent[0] != last_txt:\n",
    "            alligned.append([last_txt, last_rel, sent[2]])\n",
    "            last_txt = sent[0]\n",
    "            last_rel = sent[1]\n",
    "    if alligned[-1][0] == last_txt:\n",
    "        alligned[-1][1] == alligned[-1][1] + \" \" + sent[1]\n",
    "    else:\n",
    "        alligned.append([last_txt, last_rel, sent[2]])\n",
    "    alligned.pop(0)\n",
    "\n",
    "    df = pd.DataFrame(alligned, columns = [\"text\",\"triplets\",\"doc_id\"])\n",
    "    return df"
   ]
  },
  {
   "cell_type": "code",
   "execution_count": 46,
   "metadata": {},
   "outputs": [
    {
     "data": {
      "text/html": [
       "<div>\n",
       "<style scoped>\n",
       "    .dataframe tbody tr th:only-of-type {\n",
       "        vertical-align: middle;\n",
       "    }\n",
       "\n",
       "    .dataframe tbody tr th {\n",
       "        vertical-align: top;\n",
       "    }\n",
       "\n",
       "    .dataframe thead th {\n",
       "        text-align: right;\n",
       "    }\n",
       "</style>\n",
       "<table border=\"1\" class=\"dataframe\">\n",
       "  <thead>\n",
       "    <tr style=\"text-align: right;\">\n",
       "      <th></th>\n",
       "      <th>text</th>\n",
       "      <th>article_id</th>\n",
       "      <th>_input_hash</th>\n",
       "      <th>_task_hash</th>\n",
       "      <th>_is_binary</th>\n",
       "      <th>spans</th>\n",
       "      <th>tokens</th>\n",
       "      <th>_view_id</th>\n",
       "      <th>relations</th>\n",
       "      <th>answer</th>\n",
       "      <th>_timestamp</th>\n",
       "    </tr>\n",
       "  </thead>\n",
       "  <tbody>\n",
       "    <tr>\n",
       "      <th>0</th>\n",
       "      <td>Sensible America finally spoke, but ‘Trumpty D...</td>\n",
       "      <td>3159</td>\n",
       "      <td>2108892512</td>\n",
       "      <td>770305806</td>\n",
       "      <td>False</td>\n",
       "      <td>[{'start': 0, 'end': 16, 'token_start': 0, 'to...</td>\n",
       "      <td>[{'text': 'Sensible', 'start': 0, 'end': 8, 'i...</td>\n",
       "      <td>relations</td>\n",
       "      <td>[{'head': 17, 'child': 22, 'head_span': {'star...</td>\n",
       "      <td>accept</td>\n",
       "      <td>1672048142</td>\n",
       "    </tr>\n",
       "    <tr>\n",
       "      <th>1</th>\n",
       "      <td>How Was Russia Able to Launch Russia's Biggest...</td>\n",
       "      <td>4317</td>\n",
       "      <td>-1406124216</td>\n",
       "      <td>-723512353</td>\n",
       "      <td>False</td>\n",
       "      <td>[{'start': 8, 'end': 14, 'token_start': 2, 'to...</td>\n",
       "      <td>[{'text': 'How', 'start': 0, 'end': 3, 'id': 0...</td>\n",
       "      <td>relations</td>\n",
       "      <td>[{'head': 2, 'child': 12, 'head_span': {'start...</td>\n",
       "      <td>accept</td>\n",
       "      <td>1672048306</td>\n",
       "    </tr>\n",
       "    <tr>\n",
       "      <th>2</th>\n",
       "      <td>World leaders discuss climate change solutions...</td>\n",
       "      <td>2396</td>\n",
       "      <td>-2130737925</td>\n",
       "      <td>1317932275</td>\n",
       "      <td>False</td>\n",
       "      <td>[{'start': 0, 'end': 13, 'token_start': 0, 'to...</td>\n",
       "      <td>[{'text': 'World', 'start': 0, 'end': 5, 'id':...</td>\n",
       "      <td>relations</td>\n",
       "      <td>[{'head': 1, 'child': 7, 'head_span': {'start'...</td>\n",
       "      <td>accept</td>\n",
       "      <td>1672048623</td>\n",
       "    </tr>\n",
       "    <tr>\n",
       "      <th>3</th>\n",
       "      <td>In Colombia, Drilling Pays the Bills. Colombia...</td>\n",
       "      <td>3831</td>\n",
       "      <td>-534305385</td>\n",
       "      <td>-1860660404</td>\n",
       "      <td>False</td>\n",
       "      <td>[{'start': 3, 'end': 11, 'token_start': 1, 'to...</td>\n",
       "      <td>[{'text': 'In', 'start': 0, 'end': 2, 'id': 0,...</td>\n",
       "      <td>relations</td>\n",
       "      <td>[{'head': 9, 'child': 13, 'head_span': {'start...</td>\n",
       "      <td>accept</td>\n",
       "      <td>1672048776</td>\n",
       "    </tr>\n",
       "    <tr>\n",
       "      <th>4</th>\n",
       "      <td>Photo: Mohamed Salah shares image of Mohamed S...</td>\n",
       "      <td>1188</td>\n",
       "      <td>343647075</td>\n",
       "      <td>791917291</td>\n",
       "      <td>False</td>\n",
       "      <td>[{'start': 7, 'end': 20, 'token_start': 2, 'to...</td>\n",
       "      <td>[{'text': 'Photo', 'start': 0, 'end': 5, 'id':...</td>\n",
       "      <td>relations</td>\n",
       "      <td>[{'head': 51, 'child': 46, 'head_span': {'star...</td>\n",
       "      <td>accept</td>\n",
       "      <td>1672049094</td>\n",
       "    </tr>\n",
       "  </tbody>\n",
       "</table>\n",
       "</div>"
      ],
      "text/plain": [
       "                                                text  article_id  _input_hash  \\\n",
       "0  Sensible America finally spoke, but ‘Trumpty D...        3159   2108892512   \n",
       "1  How Was Russia Able to Launch Russia's Biggest...        4317  -1406124216   \n",
       "2  World leaders discuss climate change solutions...        2396  -2130737925   \n",
       "3  In Colombia, Drilling Pays the Bills. Colombia...        3831   -534305385   \n",
       "4  Photo: Mohamed Salah shares image of Mohamed S...        1188    343647075   \n",
       "\n",
       "   _task_hash  _is_binary                                              spans  \\\n",
       "0   770305806       False  [{'start': 0, 'end': 16, 'token_start': 0, 'to...   \n",
       "1  -723512353       False  [{'start': 8, 'end': 14, 'token_start': 2, 'to...   \n",
       "2  1317932275       False  [{'start': 0, 'end': 13, 'token_start': 0, 'to...   \n",
       "3 -1860660404       False  [{'start': 3, 'end': 11, 'token_start': 1, 'to...   \n",
       "4   791917291       False  [{'start': 7, 'end': 20, 'token_start': 2, 'to...   \n",
       "\n",
       "                                              tokens   _view_id  \\\n",
       "0  [{'text': 'Sensible', 'start': 0, 'end': 8, 'i...  relations   \n",
       "1  [{'text': 'How', 'start': 0, 'end': 3, 'id': 0...  relations   \n",
       "2  [{'text': 'World', 'start': 0, 'end': 5, 'id':...  relations   \n",
       "3  [{'text': 'In', 'start': 0, 'end': 2, 'id': 0,...  relations   \n",
       "4  [{'text': 'Photo', 'start': 0, 'end': 5, 'id':...  relations   \n",
       "\n",
       "                                           relations  answer  _timestamp  \n",
       "0  [{'head': 17, 'child': 22, 'head_span': {'star...  accept  1672048142  \n",
       "1  [{'head': 2, 'child': 12, 'head_span': {'start...  accept  1672048306  \n",
       "2  [{'head': 1, 'child': 7, 'head_span': {'start'...  accept  1672048623  \n",
       "3  [{'head': 9, 'child': 13, 'head_span': {'start...  accept  1672048776  \n",
       "4  [{'head': 51, 'child': 46, 'head_span': {'star...  accept  1672049094  "
      ]
     },
     "execution_count": 46,
     "metadata": {},
     "output_type": "execute_result"
    }
   ],
   "source": [
    "read = pd.read_json(\"raw/out_label/summaries_felix.json\", lines = True)\n",
    "df_f = read[read.answer == \"accept\"]\n",
    "df_f.head()"
   ]
  },
  {
   "cell_type": "code",
   "execution_count": 47,
   "metadata": {},
   "outputs": [],
   "source": [
    "df_sent = annot_to_sent(df_f)"
   ]
  },
  {
   "cell_type": "code",
   "execution_count": 48,
   "metadata": {},
   "outputs": [
    {
     "data": {
      "text/plain": [
       "(123, 3)"
      ]
     },
     "execution_count": 48,
     "metadata": {},
     "output_type": "execute_result"
    }
   ],
   "source": [
    "df_sent.shape"
   ]
  },
  {
   "cell_type": "code",
   "execution_count": 49,
   "metadata": {},
   "outputs": [
    {
     "data": {
      "text/html": [
       "<div>\n",
       "<style scoped>\n",
       "    .dataframe tbody tr th:only-of-type {\n",
       "        vertical-align: middle;\n",
       "    }\n",
       "\n",
       "    .dataframe tbody tr th {\n",
       "        vertical-align: top;\n",
       "    }\n",
       "\n",
       "    .dataframe thead th {\n",
       "        text-align: right;\n",
       "    }\n",
       "</style>\n",
       "<table border=\"1\" class=\"dataframe\">\n",
       "  <thead>\n",
       "    <tr style=\"text-align: right;\">\n",
       "      <th></th>\n",
       "      <th>text</th>\n",
       "      <th>article_id</th>\n",
       "      <th>_input_hash</th>\n",
       "      <th>_task_hash</th>\n",
       "      <th>_is_binary</th>\n",
       "      <th>spans</th>\n",
       "      <th>tokens</th>\n",
       "      <th>_view_id</th>\n",
       "      <th>relations</th>\n",
       "      <th>answer</th>\n",
       "      <th>_timestamp</th>\n",
       "    </tr>\n",
       "  </thead>\n",
       "  <tbody>\n",
       "    <tr>\n",
       "      <th>0</th>\n",
       "      <td>Sensible America finally spoke, but ‘Trumpty D...</td>\n",
       "      <td>3159</td>\n",
       "      <td>2108892512</td>\n",
       "      <td>770305806</td>\n",
       "      <td>False</td>\n",
       "      <td>[{'start': 68, 'end': 89, 'token_start': 15, '...</td>\n",
       "      <td>[{'text': 'Sensible', 'start': 0, 'end': 8, 'i...</td>\n",
       "      <td>relations</td>\n",
       "      <td>[{'head': 17, 'child': 22, 'head_span': {'star...</td>\n",
       "      <td>accept</td>\n",
       "      <td>1672333765</td>\n",
       "    </tr>\n",
       "    <tr>\n",
       "      <th>1</th>\n",
       "      <td>How Was Russia Able to Launch Russia's Biggest...</td>\n",
       "      <td>4317</td>\n",
       "      <td>-1406124216</td>\n",
       "      <td>-723512353</td>\n",
       "      <td>False</td>\n",
       "      <td>[{'start': 8, 'end': 14, 'token_start': 2, 'to...</td>\n",
       "      <td>[{'text': 'How', 'start': 0, 'end': 3, 'id': 0...</td>\n",
       "      <td>relations</td>\n",
       "      <td>[{'head': 18, 'child': 21, 'head_span': {'star...</td>\n",
       "      <td>accept</td>\n",
       "      <td>1672333840</td>\n",
       "    </tr>\n",
       "    <tr>\n",
       "      <th>2</th>\n",
       "      <td>World leaders discuss climate change solutions...</td>\n",
       "      <td>2396</td>\n",
       "      <td>-2130737925</td>\n",
       "      <td>1317932275</td>\n",
       "      <td>False</td>\n",
       "      <td>[{'start': 0, 'end': 13, 'token_start': 0, 'to...</td>\n",
       "      <td>[{'text': 'World', 'start': 0, 'end': 5, 'id':...</td>\n",
       "      <td>relations</td>\n",
       "      <td>[{'head': 1, 'child': 7, 'head_span': {'start'...</td>\n",
       "      <td>accept</td>\n",
       "      <td>1672333863</td>\n",
       "    </tr>\n",
       "    <tr>\n",
       "      <th>3</th>\n",
       "      <td>In Colombia, Drilling Pays the Bills. Colombia...</td>\n",
       "      <td>3831</td>\n",
       "      <td>-534305385</td>\n",
       "      <td>-1860660404</td>\n",
       "      <td>False</td>\n",
       "      <td>[{'start': 38, 'end': 54, 'token_start': 8, 't...</td>\n",
       "      <td>[{'text': 'In', 'start': 0, 'end': 2, 'id': 0,...</td>\n",
       "      <td>relations</td>\n",
       "      <td>[{'head': 9, 'child': 13, 'head_span': {'start...</td>\n",
       "      <td>accept</td>\n",
       "      <td>1672333943</td>\n",
       "    </tr>\n",
       "    <tr>\n",
       "      <th>4</th>\n",
       "      <td>Photo: Mohamed Salah shares image of Mohamed S...</td>\n",
       "      <td>1188</td>\n",
       "      <td>343647075</td>\n",
       "      <td>791917291</td>\n",
       "      <td>False</td>\n",
       "      <td>[{'start': 7, 'end': 20, 'token_start': 2, 'to...</td>\n",
       "      <td>[{'text': 'Photo', 'start': 0, 'end': 5, 'id':...</td>\n",
       "      <td>relations</td>\n",
       "      <td>[{'head': 51, 'child': 46, 'head_span': {'star...</td>\n",
       "      <td>accept</td>\n",
       "      <td>1672049094</td>\n",
       "    </tr>\n",
       "  </tbody>\n",
       "</table>\n",
       "</div>"
      ],
      "text/plain": [
       "                                                text  article_id  _input_hash  \\\n",
       "0  Sensible America finally spoke, but ‘Trumpty D...        3159   2108892512   \n",
       "1  How Was Russia Able to Launch Russia's Biggest...        4317  -1406124216   \n",
       "2  World leaders discuss climate change solutions...        2396  -2130737925   \n",
       "3  In Colombia, Drilling Pays the Bills. Colombia...        3831   -534305385   \n",
       "4  Photo: Mohamed Salah shares image of Mohamed S...        1188    343647075   \n",
       "\n",
       "   _task_hash  _is_binary                                              spans  \\\n",
       "0   770305806       False  [{'start': 68, 'end': 89, 'token_start': 15, '...   \n",
       "1  -723512353       False  [{'start': 8, 'end': 14, 'token_start': 2, 'to...   \n",
       "2  1317932275       False  [{'start': 0, 'end': 13, 'token_start': 0, 'to...   \n",
       "3 -1860660404       False  [{'start': 38, 'end': 54, 'token_start': 8, 't...   \n",
       "4   791917291       False  [{'start': 7, 'end': 20, 'token_start': 2, 'to...   \n",
       "\n",
       "                                              tokens   _view_id  \\\n",
       "0  [{'text': 'Sensible', 'start': 0, 'end': 8, 'i...  relations   \n",
       "1  [{'text': 'How', 'start': 0, 'end': 3, 'id': 0...  relations   \n",
       "2  [{'text': 'World', 'start': 0, 'end': 5, 'id':...  relations   \n",
       "3  [{'text': 'In', 'start': 0, 'end': 2, 'id': 0,...  relations   \n",
       "4  [{'text': 'Photo', 'start': 0, 'end': 5, 'id':...  relations   \n",
       "\n",
       "                                           relations  answer  _timestamp  \n",
       "0  [{'head': 17, 'child': 22, 'head_span': {'star...  accept  1672333765  \n",
       "1  [{'head': 18, 'child': 21, 'head_span': {'star...  accept  1672333840  \n",
       "2  [{'head': 1, 'child': 7, 'head_span': {'start'...  accept  1672333863  \n",
       "3  [{'head': 9, 'child': 13, 'head_span': {'start...  accept  1672333943  \n",
       "4  [{'head': 51, 'child': 46, 'head_span': {'star...  accept  1672049094  "
      ]
     },
     "execution_count": 49,
     "metadata": {},
     "output_type": "execute_result"
    }
   ],
   "source": [
    "read = pd.read_json(\"raw/out_label/counter_annotate.json\", lines = True)\n",
    "df_c = read[read.answer == \"accept\"]\n",
    "df_c.head()"
   ]
  },
  {
   "cell_type": "code",
   "execution_count": 50,
   "metadata": {},
   "outputs": [],
   "source": [
    "df_fe = preprocess_raw(df_f)\n",
    "df_co = preprocess_raw(df_c)"
   ]
  },
  {
   "cell_type": "code",
   "execution_count": 51,
   "metadata": {},
   "outputs": [
    {
     "data": {
      "text/plain": [
       "((73, 4), (73, 4))"
      ]
     },
     "execution_count": 51,
     "metadata": {},
     "output_type": "execute_result"
    }
   ],
   "source": [
    "df_fe.shape, df_co.shape"
   ]
  },
  {
   "cell_type": "code",
   "execution_count": 52,
   "metadata": {},
   "outputs": [],
   "source": [
    "new = []\n",
    "for row in df_fe.iterrows():\n",
    "\n",
    "    split = re.split(\"<\\w*>\", row[1][\"triplets\"])[1:]       #first one is empty\n",
    "    for i in range(int(len(split)/3)):                      #always pairs of 3\n",
    "        sub_split = split[i*3:i*3+3]\n",
    "        sub_split = [sub.rstrip().lstrip() for sub in sub_split]\n",
    "        if [row[1][\"doc_id\"], sub_split,\n",
    "         [sub_split[0].lstrip().rstrip(), sub_split[1].lstrip().rstrip()],\n",
    "          sub_split[0].lstrip().rstrip(), sub_split[1].lstrip().rstrip(), sub_split[2].lstrip().rstrip()] not in new: #remove duplicate triplets\n",
    "            new.append([row[1][\"doc_id\"], sub_split, [sub_split[0].lstrip().rstrip(), sub_split[1].lstrip().rstrip()], \n",
    "            sub_split[0].lstrip().rstrip(), sub_split[1].lstrip().rstrip(), sub_split[2].lstrip().rstrip()])         \n",
    "        \n",
    "df_fel = pd.DataFrame(new, columns = [\"id\",\"split\", \"ents\", \"subj\", \"obj\", \"rels\"])"
   ]
  },
  {
   "cell_type": "code",
   "execution_count": 53,
   "metadata": {},
   "outputs": [],
   "source": [
    "new = []\n",
    "for row in df_co.iterrows():\n",
    "\n",
    "    split = re.split(\"<\\w*>\", row[1][\"triplets\"])[1:]       #first one is empty\n",
    "    for i in range(int(len(split)/3)):                      #always pairs of 3\n",
    "        sub_split = split[i*3:i*3+3]\n",
    "        sub_split = [sub.rstrip().lstrip() for sub in sub_split]\n",
    "        if [row[1][\"doc_id\"], sub_split,\n",
    "         [sub_split[0].lstrip().rstrip(), sub_split[1].lstrip().rstrip()],\n",
    "          sub_split[0].lstrip().rstrip(), sub_split[1].lstrip().rstrip(), sub_split[2].lstrip().rstrip()] not in new: #remove duplicate triplets\n",
    "            new.append([row[1][\"doc_id\"], sub_split, [sub_split[0].lstrip().rstrip(), sub_split[1].lstrip().rstrip()], \n",
    "            sub_split[0].lstrip().rstrip(), sub_split[1].lstrip().rstrip(), sub_split[2].lstrip().rstrip()])            \n",
    "        \n",
    "df_cou = pd.DataFrame(new, columns = [\"id\",\"split\", \"ents\", \"subj\", \"obj\", \"rels\"])"
   ]
  },
  {
   "cell_type": "code",
   "execution_count": 54,
   "metadata": {},
   "outputs": [
    {
     "data": {
      "text/plain": [
       "((231, 6), (213, 6))"
      ]
     },
     "execution_count": 54,
     "metadata": {},
     "output_type": "execute_result"
    }
   ],
   "source": [
    "df_fel.shape, df_cou.shape"
   ]
  },
  {
   "cell_type": "code",
   "execution_count": 55,
   "metadata": {},
   "outputs": [
    {
     "data": {
      "text/plain": [
       "array([ True,  True,  True,  True,  True,  True,  True,  True,  True,\n",
       "        True,  True,  True,  True,  True,  True,  True,  True,  True,\n",
       "        True,  True,  True,  True,  True,  True,  True,  True,  True,\n",
       "        True,  True,  True,  True,  True,  True,  True,  True,  True,\n",
       "        True,  True,  True,  True,  True,  True,  True,  True,  True,\n",
       "        True,  True,  True,  True,  True,  True,  True,  True,  True,\n",
       "        True,  True,  True,  True,  True,  True,  True,  True,  True,\n",
       "        True,  True,  True,  True,  True,  True,  True,  True,  True,\n",
       "        True])"
      ]
     },
     "execution_count": 55,
     "metadata": {},
     "output_type": "execute_result"
    }
   ],
   "source": [
    "#check if the two sets contain exactly same articles\n",
    "df_cou.id.unique() == df_fel.id.unique()"
   ]
  },
  {
   "cell_type": "code",
   "execution_count": 56,
   "metadata": {},
   "outputs": [],
   "source": [
    "#agreement for entities\n",
    "tp = 0\n",
    "fp = 0\n",
    "fn = 0\n",
    "exact = []\n",
    "for id in df_fel.id.unique():\n",
    "    df_f_id = df_fel[df_fel.id == id]\n",
    "    df_c_id = df_cou[df_cou.id == id]\n",
    "    for row in df_f_id.iterrows():\n",
    "        if row[1][\"ents\"] in df_c_id.ents.to_list():\n",
    "            tp += 1\n",
    "            exact.append([row[1][\"subj\"], row[1][\"obj\"]])\n",
    "        else:\n",
    "            fp += 1\n",
    "    fn = df_cou.shape[0] - tp"
   ]
  },
  {
   "cell_type": "code",
   "execution_count": 57,
   "metadata": {},
   "outputs": [
    {
     "data": {
      "text/plain": [
       "(153, 78, 60)"
      ]
     },
     "execution_count": 57,
     "metadata": {},
     "output_type": "execute_result"
    }
   ],
   "source": [
    "tp, fp, fn"
   ]
  },
  {
   "cell_type": "code",
   "execution_count": 58,
   "metadata": {},
   "outputs": [
    {
     "data": {
      "text/plain": [
       "(0.6623376623376623, 0.7183098591549296, 0.6891891891891893)"
      ]
     },
     "execution_count": 58,
     "metadata": {},
     "output_type": "execute_result"
    }
   ],
   "source": [
    "precision = tp / (fp + tp)\n",
    "recall = tp / (fn + tp)\n",
    "f1 = 2 * precision * recall / (precision + recall)\n",
    "precision, recall, f1"
   ]
  },
  {
   "cell_type": "code",
   "execution_count": 59,
   "metadata": {},
   "outputs": [],
   "source": [
    "#relaxed agreement for entities\n",
    "tp = len(exact)\n",
    "c = 0\n",
    "tp_1 = 0\n",
    "tp_2 = 0\n",
    "fp = 0\n",
    "fn = 0\n",
    "found_l = []\n",
    "\n",
    "found_l_3 = []\n",
    "\n",
    "for id in df_fel.id.unique():\n",
    "    df_f_id = df_fel[df_fel.id == id]\n",
    "    df_c_id = df_cou[df_cou.id == id]\n",
    "    sub = df_c_id.copy().reset_index()\n",
    "    for row in df_f_id.iterrows():\n",
    "        if row[1][\"subj\"] in df_c_id.subj.to_list():\n",
    "            sub[\"relevant\"] = sub.subj.apply(lambda x: row[1][\"subj\"] in x)\n",
    "            rel = sub[sub.relevant == True]\n",
    "            found = 0\n",
    "            for idx, obj in enumerate(rel.obj.to_list()):\n",
    "                if row[1][\"obj\"] in obj and [row[1][\"subj\"],row[1][\"obj\"], rel.subj.iloc[idx], obj] not in found_l:\n",
    "                    if [row[1][\"subj\"], row[1][\"obj\"]] not in exact:\n",
    "                        tp_1 += 1\n",
    "                        found += 1\n",
    "\n",
    "                        found_l.append([row[1][\"subj\"],row[1][\"obj\"], rel.subj.iloc[idx], obj])\n",
    "                        found_l.append([rel.subj.iloc[idx], obj, row[1][\"subj\"],row[1][\"obj\"]])\n",
    "\n",
    "                        found_l_3.append([[row[1][\"subj\"],row[1][\"obj\"],row[1][\"rels\"]],[rel.subj.iloc[idx], obj, rel[\"rels\"].iloc[idx]]])\n",
    "                    break\n",
    "\n",
    "\n",
    "found_l_2 = []\n",
    "\n",
    "for id in df_cou.id.unique():\n",
    "    df_f_id = df_fel[df_fel.id == id]\n",
    "    df_c_id = df_cou[df_cou.id == id]\n",
    "    sub = df_f_id.copy().reset_index()\n",
    "    for row in df_c_id.iterrows():\n",
    "        if row[1][\"subj\"] in df_f_id.subj.to_list():\n",
    "            sub[\"relevant\"] = sub.subj.apply(lambda x: row[1][\"subj\"] in x)\n",
    "            rel = sub[sub.relevant == True]\n",
    "            found = 0\n",
    "            for idx, obj in enumerate(rel.obj.to_list()):\n",
    "                if row[1][\"obj\"] in obj and [row[1][\"subj\"],row[1][\"obj\"], rel.subj.iloc[idx], obj] not in found_l:\n",
    "                    if [row[1][\"subj\"], row[1][\"obj\"]] not in exact:\n",
    "                        tp_2 += 1\n",
    "                        found += 1\n",
    "            \n",
    "                        found_l_2.append([[row[1][\"subj\"],row[1][\"obj\"],row[1][\"rels\"]],[rel.subj.iloc[idx], obj, rel[\"rels\"].iloc[idx]]])\n",
    "                    break\n",
    "\n",
    "fp = df_fel.shape[0] - (tp + tp_1) - tp_2\n",
    "fn = df_cou.shape[0] - (tp + tp_2) - tp_1\n",
    "tp = tp + tp_1 + tp_2"
   ]
  },
  {
   "cell_type": "code",
   "execution_count": 60,
   "metadata": {},
   "outputs": [
    {
     "data": {
      "text/plain": [
       "(175, 56, 38)"
      ]
     },
     "execution_count": 60,
     "metadata": {},
     "output_type": "execute_result"
    }
   ],
   "source": [
    "tp, fp, fn\n",
    "#156, 136"
   ]
  },
  {
   "cell_type": "code",
   "execution_count": 61,
   "metadata": {},
   "outputs": [
    {
     "data": {
      "text/plain": [
       "(0.7575757575757576, 0.8215962441314554, 0.7882882882882883)"
      ]
     },
     "execution_count": 61,
     "metadata": {},
     "output_type": "execute_result"
    }
   ],
   "source": [
    "precision = tp / (fp + tp)\n",
    "recall = tp / (fn + tp)\n",
    "f1 = 2 * precision * recall / (precision + recall)\n",
    "precision, recall, f1"
   ]
  },
  {
   "cell_type": "code",
   "execution_count": 62,
   "metadata": {},
   "outputs": [],
   "source": [
    "import collections"
   ]
  },
  {
   "cell_type": "code",
   "execution_count": 63,
   "metadata": {},
   "outputs": [],
   "source": [
    "#agreement for relation classification\n",
    "#with found relations in sentence -> overlap\n",
    "tp = 0\n",
    "fp = 0\n",
    "fn = 0\n",
    "\n",
    "for id in df_fel.id.unique():\n",
    "    df_f_id = df_fel[df_fel.id == id].rels\n",
    "    df_c_id = df_cou[df_cou.id == id].rels\n",
    "\n",
    "    f = collections.Counter(df_f_id.to_list())\n",
    "    c = collections.Counter(df_c_id.to_list())\n",
    "\n",
    "    tp += len(list((f & c).elements()))\n",
    "    fp += len(list((f - c).elements()))\n",
    "    fn += len(list((c - f).elements()))"
   ]
  },
  {
   "cell_type": "code",
   "execution_count": 64,
   "metadata": {},
   "outputs": [
    {
     "data": {
      "text/plain": [
       "(168, 63, 45)"
      ]
     },
     "execution_count": 64,
     "metadata": {},
     "output_type": "execute_result"
    }
   ],
   "source": [
    "tp, fp, fn"
   ]
  },
  {
   "cell_type": "code",
   "execution_count": 65,
   "metadata": {},
   "outputs": [
    {
     "data": {
      "text/plain": [
       "(0.7272727272727273, 0.7887323943661971, 0.7567567567567568)"
      ]
     },
     "execution_count": 65,
     "metadata": {},
     "output_type": "execute_result"
    }
   ],
   "source": [
    "precision = tp / (fp + tp)\n",
    "recall = tp / (fn + tp)\n",
    "f1 = 2 * precision * recall / (precision + recall)\n",
    "precision, recall, f1"
   ]
  },
  {
   "cell_type": "code",
   "execution_count": 66,
   "metadata": {},
   "outputs": [],
   "source": [
    "#agreement for full relations\n",
    "tp = 0\n",
    "fp = 0\n",
    "fn = 0\n",
    "\n",
    "fix_list = []\n",
    "good_list = []\n",
    "for id in df_fel.id.unique():\n",
    "    df_f_id = df_fel[df_fel.id == id]\n",
    "    df_c_id = df_cou[df_cou.id == id]\n",
    "    for row in df_f_id.iterrows():\n",
    "        if row[1][\"split\"] in df_c_id.split.to_list():\n",
    "            tp += 1\n",
    "            #good_list.append([row[1][\"id\"], row[1][\"split\"]])\n",
    "        else:\n",
    "            fp += 1\n",
    "            fix_list.append([row[1][\"id\"], row[1][\"split\"]])\n",
    "    for row in df_c_id.iterrows():\n",
    "        if row[1][\"split\"] not in df_f_id.split.to_list():\n",
    "            fn += 1"
   ]
  },
  {
   "cell_type": "code",
   "execution_count": 67,
   "metadata": {},
   "outputs": [
    {
     "data": {
      "text/plain": [
       "(137, 94, 76)"
      ]
     },
     "execution_count": 67,
     "metadata": {},
     "output_type": "execute_result"
    }
   ],
   "source": [
    "tp, fp, fn"
   ]
  },
  {
   "cell_type": "code",
   "execution_count": 68,
   "metadata": {},
   "outputs": [
    {
     "data": {
      "text/plain": [
       "(0.5930735930735931, 0.6431924882629108, 0.617117117117117)"
      ]
     },
     "execution_count": 68,
     "metadata": {},
     "output_type": "execute_result"
    }
   ],
   "source": [
    "precision = tp / (fp + tp)\n",
    "recall = tp / (fn + tp)\n",
    "f1 = 2 * precision * recall / (precision + recall)\n",
    "precision, recall, f1"
   ]
  },
  {
   "cell_type": "code",
   "execution_count": 69,
   "metadata": {},
   "outputs": [],
   "source": [
    "#agreement for relation with relaxed entities\n",
    "tp_exact = tp #exact matches\n",
    "tp_1 = 0\n",
    "tp_2 = 0\n",
    "\n",
    "for row in found_l_3:       #taken from fuzzy entity matches\n",
    "    if row[0][2] == row[1][2]:\n",
    "        tp_1 += 1\n",
    "for row in found_l_2:\n",
    "    if row[0][2] == row[1][2]:\n",
    "        tp_2 += 1\n",
    "\n",
    "tp_rel = tp_exact + tp_1 + tp_2\n",
    "fp = df_fel.shape[0] - (tp + tp_1) - tp_2\n",
    "fn = df_cou.shape[0] - (tp + tp_2) - tp_1"
   ]
  },
  {
   "cell_type": "code",
   "execution_count": 70,
   "metadata": {},
   "outputs": [
    {
     "data": {
      "text/plain": [
       "(137, 9, 7, 78, 60, 153)"
      ]
     },
     "execution_count": 70,
     "metadata": {},
     "output_type": "execute_result"
    }
   ],
   "source": [
    "tp, tp_1, tp_2, fp, fn, tp_rel"
   ]
  },
  {
   "cell_type": "code",
   "execution_count": 71,
   "metadata": {},
   "outputs": [
    {
     "data": {
      "text/plain": [
       "(0.6623376623376623, 0.7183098591549296, 0.6891891891891893)"
      ]
     },
     "execution_count": 71,
     "metadata": {},
     "output_type": "execute_result"
    }
   ],
   "source": [
    "precision = tp_rel / (fp + tp_rel)\n",
    "recall = tp_rel / (fn + tp_rel)\n",
    "f1 = 2 * precision * recall / (precision + recall)\n",
    "precision, recall, f1"
   ]
  },
  {
   "attachments": {},
   "cell_type": "markdown",
   "metadata": {},
   "source": [
    "IAA Pentacode"
   ]
  },
  {
   "cell_type": "code",
   "execution_count": 98,
   "metadata": {},
   "outputs": [],
   "source": [
    "df_fe = preprocess_raw(df_f)\n",
    "df_co = preprocess_raw(df_c)"
   ]
  },
  {
   "cell_type": "code",
   "execution_count": 99,
   "metadata": {},
   "outputs": [],
   "source": [
    "df_fe[\"triplets\"] = df_fe.triplets.apply(lambda x: x.replace(\n",
    "    \"ProvideAid\", \"Provide Aid\").replace(\n",
    "    \"EngageInDiplomaticCooperation\", \"Engage In Diplomatic Cooperation\").replace(\n",
    "    \"MakePublicStatement\", \"Make Public Statement\").replace(\n",
    "    \"ExpressIntendToCooperate\",\"Express Intend to Cooperate\").replace(\n",
    "    \"EngageInMaterialCooperation\",\"Engage In Material Cooperation\").replace(\n",
    "    \"ExhibitMilitaryPosture\",\"Exhibit Military Posture\").replace(\n",
    "    \"ReduceRelations\", \"Reduce Relations\").replace(\n",
    "    \"ExpressIntentToCooperate\", \"Express Intend to Cooperate\").replace(\n",
    "    \"EngageInUnconventialMassViolence\", \"Engage in unconventional mass violence\"))\n",
    "\n",
    "df_co[\"triplets\"] = df_co.triplets.apply(lambda x: x.replace(\n",
    "    \"ProvideAid\", \"Provide Aid\").replace(\n",
    "    \"EngageInDiplomaticCooperation\", \"Engage In Diplomatic Cooperation\").replace(\n",
    "    \"MakePublicStatement\", \"Make Public Statement\").replace(\n",
    "    \"ExpressIntendToCooperate\",\"Express Intend to Cooperate\").replace(\n",
    "    \"EngageInMaterialCooperation\",\"Engage In Material Cooperation\").replace(\n",
    "    \"ExhibitMilitaryPosture\",\"Exhibit Military Posture\").replace(\n",
    "    \"ReduceRelations\", \"Reduce Relations\").replace(\n",
    "    \"ExpressIntentToCooperate\", \"Express Intend to Cooperate\").replace(\n",
    "    \"EngageInUnconventialMassViolence\", \"Engage in unconventional mass violence\"))"
   ]
  },
  {
   "cell_type": "code",
   "execution_count": 100,
   "metadata": {},
   "outputs": [],
   "source": [
    "penta_map = []\n",
    "for row in df_fe.iterrows():\n",
    "    trip_text = row[1][\"triplets\"]\n",
    "    for key in cameo_to_penta.keys():\n",
    "        if key in row[1][\"triplets\"]: trip_text = trip_text.replace(key, cameo_to_penta[key])\n",
    "    penta_map.append([row[1][\"text\"], trip_text, row[1][\"doc_id\"]])\n",
    "df_fe = pd.DataFrame(penta_map, columns = [\"text\",\"triplets\",\"doc_id\"])\n",
    "\n",
    "penta_map = []\n",
    "for row in df_co.iterrows():\n",
    "    trip_text = row[1][\"triplets\"]\n",
    "    for key in cameo_to_penta.keys():\n",
    "        if key in row[1][\"triplets\"]: trip_text = trip_text.replace(key, cameo_to_penta[key])\n",
    "    penta_map.append([row[1][\"text\"], trip_text, row[1][\"doc_id\"]])\n",
    "df_co = pd.DataFrame(penta_map, columns = [\"text\",\"triplets\",\"doc_id\"])"
   ]
  },
  {
   "cell_type": "code",
   "execution_count": 101,
   "metadata": {},
   "outputs": [
    {
     "data": {
      "text/plain": [
       "((73, 3), (73, 3))"
      ]
     },
     "execution_count": 101,
     "metadata": {},
     "output_type": "execute_result"
    }
   ],
   "source": [
    "df_fe.shape, df_co.shape"
   ]
  },
  {
   "cell_type": "code",
   "execution_count": 102,
   "metadata": {},
   "outputs": [],
   "source": [
    "new = []\n",
    "for row in df_fe.iterrows():\n",
    "\n",
    "    split = re.split(\"<\\w*>\", row[1][\"triplets\"])[1:]       #first one is empty\n",
    "    for i in range(int(len(split)/3)):                      #always pairs of 3\n",
    "        sub_split = split[i*3:i*3+3]\n",
    "        sub_split = [sub.rstrip().lstrip() for sub in sub_split]\n",
    "        if [row[1][\"doc_id\"], sub_split,\n",
    "         [sub_split[0].lstrip().rstrip(), sub_split[1].lstrip().rstrip()],\n",
    "          sub_split[0].lstrip().rstrip(), sub_split[1].lstrip().rstrip(), sub_split[2].lstrip().rstrip()] not in new: #remove duplicate triplets\n",
    "            new.append([row[1][\"doc_id\"], sub_split, [sub_split[0].lstrip().rstrip(), sub_split[1].lstrip().rstrip()], \n",
    "            sub_split[0].lstrip().rstrip(), sub_split[1].lstrip().rstrip(), sub_split[2].lstrip().rstrip()])         \n",
    "        \n",
    "df_fel = pd.DataFrame(new, columns = [\"id\",\"split\", \"ents\", \"subj\", \"obj\", \"rels\"])"
   ]
  },
  {
   "cell_type": "code",
   "execution_count": 103,
   "metadata": {},
   "outputs": [],
   "source": [
    "new = []\n",
    "for row in df_co.iterrows():\n",
    "\n",
    "    split = re.split(\"<\\w*>\", row[1][\"triplets\"])[1:]       #first one is empty\n",
    "    for i in range(int(len(split)/3)):                      #always pairs of 3\n",
    "        sub_split = split[i*3:i*3+3]\n",
    "        sub_split = [sub.rstrip().lstrip() for sub in sub_split]\n",
    "        if [row[1][\"doc_id\"], sub_split,\n",
    "         [sub_split[0].lstrip().rstrip(), sub_split[1].lstrip().rstrip()],\n",
    "          sub_split[0].lstrip().rstrip(), sub_split[1].lstrip().rstrip(), sub_split[2].lstrip().rstrip()] not in new: #remove duplicate triplets\n",
    "            new.append([row[1][\"doc_id\"], sub_split, [sub_split[0].lstrip().rstrip(), sub_split[1].lstrip().rstrip()], \n",
    "            sub_split[0].lstrip().rstrip(), sub_split[1].lstrip().rstrip(), sub_split[2].lstrip().rstrip()])            \n",
    "        \n",
    "df_cou = pd.DataFrame(new, columns = [\"id\",\"split\", \"ents\", \"subj\", \"obj\", \"rels\"])"
   ]
  },
  {
   "cell_type": "code",
   "execution_count": 104,
   "metadata": {},
   "outputs": [
    {
     "data": {
      "text/plain": [
       "((231, 6), (213, 6))"
      ]
     },
     "execution_count": 104,
     "metadata": {},
     "output_type": "execute_result"
    }
   ],
   "source": [
    "df_fel.shape, df_cou.shape"
   ]
  },
  {
   "cell_type": "code",
   "execution_count": 106,
   "metadata": {},
   "outputs": [
    {
     "data": {
      "text/plain": [
       "array([ True,  True,  True,  True,  True,  True,  True,  True,  True,\n",
       "        True,  True,  True,  True,  True,  True,  True,  True,  True,\n",
       "        True,  True,  True,  True,  True,  True,  True,  True,  True,\n",
       "        True,  True,  True,  True,  True,  True,  True,  True,  True,\n",
       "        True,  True,  True,  True,  True,  True,  True,  True,  True,\n",
       "        True,  True,  True,  True,  True,  True,  True,  True,  True,\n",
       "        True,  True,  True,  True,  True,  True,  True,  True,  True,\n",
       "        True,  True,  True,  True,  True,  True,  True,  True,  True,\n",
       "        True])"
      ]
     },
     "execution_count": 106,
     "metadata": {},
     "output_type": "execute_result"
    }
   ],
   "source": [
    "#check if the two sets contain exactly same articles\n",
    "df_cou.id.unique() == df_fel.id.unique()"
   ]
  },
  {
   "cell_type": "code",
   "execution_count": 107,
   "metadata": {},
   "outputs": [],
   "source": [
    "#agreement for entities\n",
    "tp = 0\n",
    "fp = 0\n",
    "fn = 0\n",
    "exact = []\n",
    "for id in df_fel.id.unique():\n",
    "    df_f_id = df_fel[df_fel.id == id]\n",
    "    df_c_id = df_cou[df_cou.id == id]\n",
    "    for row in df_f_id.iterrows():\n",
    "        if row[1][\"ents\"] in df_c_id.ents.to_list():\n",
    "            tp += 1\n",
    "            exact.append([row[1][\"subj\"], row[1][\"obj\"]])\n",
    "        else:\n",
    "            fp += 1\n",
    "    fn = df_cou.shape[0] - tp"
   ]
  },
  {
   "cell_type": "code",
   "execution_count": 108,
   "metadata": {},
   "outputs": [
    {
     "data": {
      "text/plain": [
       "(153, 78, 60)"
      ]
     },
     "execution_count": 108,
     "metadata": {},
     "output_type": "execute_result"
    }
   ],
   "source": [
    "tp, fp, fn"
   ]
  },
  {
   "cell_type": "code",
   "execution_count": 109,
   "metadata": {},
   "outputs": [
    {
     "data": {
      "text/plain": [
       "(0.6623376623376623, 0.7183098591549296, 0.6891891891891893)"
      ]
     },
     "execution_count": 109,
     "metadata": {},
     "output_type": "execute_result"
    }
   ],
   "source": [
    "precision = tp / (fp + tp)\n",
    "recall = tp / (fn + tp)\n",
    "f1 = 2 * precision * recall / (precision + recall)\n",
    "precision, recall, f1"
   ]
  },
  {
   "cell_type": "code",
   "execution_count": 110,
   "metadata": {},
   "outputs": [],
   "source": [
    "#relaxed agreement for entities\n",
    "tp = len(exact)\n",
    "c = 0\n",
    "tp_1 = 0\n",
    "tp_2 = 0\n",
    "fp = 0\n",
    "fn = 0\n",
    "found_l = []\n",
    "\n",
    "found_l_3 = []\n",
    "\n",
    "for id in df_fel.id.unique():\n",
    "    df_f_id = df_fel[df_fel.id == id]\n",
    "    df_c_id = df_cou[df_cou.id == id]\n",
    "    sub = df_c_id.copy().reset_index()\n",
    "    for row in df_f_id.iterrows():\n",
    "        if row[1][\"subj\"] in df_c_id.subj.to_list():\n",
    "            sub[\"relevant\"] = sub.subj.apply(lambda x: row[1][\"subj\"] in x)\n",
    "            rel = sub[sub.relevant == True]\n",
    "            found = 0\n",
    "            for idx, obj in enumerate(rel.obj.to_list()):\n",
    "                if row[1][\"obj\"] in obj and [row[1][\"subj\"],row[1][\"obj\"], rel.subj.iloc[idx], obj] not in found_l:\n",
    "                    if [row[1][\"subj\"], row[1][\"obj\"]] not in exact:\n",
    "                        tp_1 += 1\n",
    "                        found += 1\n",
    "\n",
    "                        found_l.append([row[1][\"subj\"],row[1][\"obj\"], rel.subj.iloc[idx], obj])\n",
    "                        found_l.append([rel.subj.iloc[idx], obj, row[1][\"subj\"],row[1][\"obj\"]])\n",
    "\n",
    "                        found_l_3.append([[row[1][\"subj\"],row[1][\"obj\"],row[1][\"rels\"]],[rel.subj.iloc[idx], obj, rel[\"rels\"].iloc[idx]]])\n",
    "                    break\n",
    "\n",
    "\n",
    "found_l_2 = []\n",
    "\n",
    "for id in df_cou.id.unique():\n",
    "    df_f_id = df_fel[df_fel.id == id]\n",
    "    df_c_id = df_cou[df_cou.id == id]\n",
    "    sub = df_f_id.copy().reset_index()\n",
    "    for row in df_c_id.iterrows():\n",
    "        if row[1][\"subj\"] in df_f_id.subj.to_list():\n",
    "            sub[\"relevant\"] = sub.subj.apply(lambda x: row[1][\"subj\"] in x)\n",
    "            rel = sub[sub.relevant == True]\n",
    "            found = 0\n",
    "            for idx, obj in enumerate(rel.obj.to_list()):\n",
    "                if row[1][\"obj\"] in obj and [row[1][\"subj\"],row[1][\"obj\"], rel.subj.iloc[idx], obj] not in found_l:\n",
    "                    if [row[1][\"subj\"], row[1][\"obj\"]] not in exact:\n",
    "                        tp_2 += 1\n",
    "                        found += 1\n",
    "            \n",
    "                        found_l_2.append([[row[1][\"subj\"],row[1][\"obj\"],row[1][\"rels\"]],[rel.subj.iloc[idx], obj, rel[\"rels\"].iloc[idx]]])\n",
    "                    break\n",
    "\n",
    "fp = df_fel.shape[0] - (tp + tp_1) - tp_2\n",
    "fn = df_cou.shape[0] - (tp + tp_2) - tp_1\n",
    "tp = tp + tp_1 + tp_2"
   ]
  },
  {
   "cell_type": "code",
   "execution_count": 112,
   "metadata": {},
   "outputs": [
    {
     "data": {
      "text/plain": [
       "(175, 56, 38)"
      ]
     },
     "execution_count": 112,
     "metadata": {},
     "output_type": "execute_result"
    }
   ],
   "source": [
    "tp, fp, fn\n",
    "#156, 136"
   ]
  },
  {
   "cell_type": "code",
   "execution_count": 113,
   "metadata": {},
   "outputs": [
    {
     "data": {
      "text/plain": [
       "(0.7575757575757576, 0.8215962441314554, 0.7882882882882883)"
      ]
     },
     "execution_count": 113,
     "metadata": {},
     "output_type": "execute_result"
    }
   ],
   "source": [
    "precision = tp / (fp + tp)\n",
    "recall = tp / (fn + tp)\n",
    "f1 = 2 * precision * recall / (precision + recall)\n",
    "precision, recall, f1"
   ]
  },
  {
   "cell_type": "code",
   "execution_count": 114,
   "metadata": {},
   "outputs": [],
   "source": [
    "import collections"
   ]
  },
  {
   "cell_type": "code",
   "execution_count": 115,
   "metadata": {},
   "outputs": [],
   "source": [
    "#agreement for relation classification\n",
    "#with found relations in sentence -> overlap\n",
    "tp = 0\n",
    "fp = 0\n",
    "fn = 0\n",
    "\n",
    "for id in df_fel.id.unique():\n",
    "    df_f_id = df_fel[df_fel.id == id].rels\n",
    "    df_c_id = df_cou[df_cou.id == id].rels\n",
    "\n",
    "    f = collections.Counter(df_f_id.to_list())\n",
    "    c = collections.Counter(df_c_id.to_list())\n",
    "\n",
    "    tp += len(list((f & c).elements()))\n",
    "    fp += len(list((f - c).elements()))\n",
    "    fn += len(list((c - f).elements()))"
   ]
  },
  {
   "cell_type": "code",
   "execution_count": 116,
   "metadata": {},
   "outputs": [
    {
     "data": {
      "text/plain": [
       "(182, 49, 31)"
      ]
     },
     "execution_count": 116,
     "metadata": {},
     "output_type": "execute_result"
    }
   ],
   "source": [
    "tp, fp, fn"
   ]
  },
  {
   "cell_type": "code",
   "execution_count": 117,
   "metadata": {},
   "outputs": [
    {
     "data": {
      "text/plain": [
       "(0.7878787878787878, 0.8544600938967136, 0.8198198198198197)"
      ]
     },
     "execution_count": 117,
     "metadata": {},
     "output_type": "execute_result"
    }
   ],
   "source": [
    "precision = tp / (fp + tp)\n",
    "recall = tp / (fn + tp)\n",
    "f1 = 2 * precision * recall / (precision + recall)\n",
    "precision, recall, f1"
   ]
  },
  {
   "cell_type": "code",
   "execution_count": 118,
   "metadata": {},
   "outputs": [],
   "source": [
    "#agreement for full relations\n",
    "tp = 0\n",
    "fp = 0\n",
    "fn = 0\n",
    "\n",
    "fix_list = []\n",
    "good_list = []\n",
    "for id in df_fel.id.unique():\n",
    "    df_f_id = df_fel[df_fel.id == id]\n",
    "    df_c_id = df_cou[df_cou.id == id]\n",
    "    for row in df_f_id.iterrows():\n",
    "        if row[1][\"split\"] in df_c_id.split.to_list():\n",
    "            tp += 1\n",
    "            #good_list.append([row[1][\"id\"], row[1][\"split\"]])\n",
    "        else:\n",
    "            fp += 1\n",
    "            fix_list.append([row[1][\"id\"], row[1][\"split\"]])\n",
    "    for row in df_c_id.iterrows():\n",
    "        if row[1][\"split\"] not in df_f_id.split.to_list():\n",
    "            fn += 1"
   ]
  },
  {
   "cell_type": "code",
   "execution_count": 119,
   "metadata": {},
   "outputs": [
    {
     "data": {
      "text/plain": [
       "(146, 85, 67)"
      ]
     },
     "execution_count": 119,
     "metadata": {},
     "output_type": "execute_result"
    }
   ],
   "source": [
    "tp, fp, fn"
   ]
  },
  {
   "cell_type": "code",
   "execution_count": 120,
   "metadata": {},
   "outputs": [
    {
     "data": {
      "text/plain": [
       "(0.6320346320346321, 0.6854460093896714, 0.6576576576576577)"
      ]
     },
     "execution_count": 120,
     "metadata": {},
     "output_type": "execute_result"
    }
   ],
   "source": [
    "precision = tp / (fp + tp)\n",
    "recall = tp / (fn + tp)\n",
    "f1 = 2 * precision * recall / (precision + recall)\n",
    "precision, recall, f1"
   ]
  },
  {
   "cell_type": "code",
   "execution_count": 121,
   "metadata": {},
   "outputs": [],
   "source": [
    "#agreement for relation with relaxed entities\n",
    "tp_exact = tp #exact matches\n",
    "tp_1 = 0\n",
    "tp_2 = 0\n",
    "\n",
    "for row in found_l_3:       #taken from fuzzy entity matches\n",
    "    if row[0][2] == row[1][2]:\n",
    "        tp_1 += 1\n",
    "for row in found_l_2:\n",
    "    if row[0][2] == row[1][2]:\n",
    "        tp_2 += 1\n",
    "\n",
    "tp_rel = tp_exact + tp_1 + tp_2\n",
    "fp = df_fel.shape[0] - (tp + tp_1) - tp_2\n",
    "fn = df_cou.shape[0] - (tp + tp_2) - tp_1"
   ]
  },
  {
   "cell_type": "code",
   "execution_count": 122,
   "metadata": {},
   "outputs": [
    {
     "data": {
      "text/plain": [
       "(146, 10, 8, 67, 49, 164)"
      ]
     },
     "execution_count": 122,
     "metadata": {},
     "output_type": "execute_result"
    }
   ],
   "source": [
    "tp, tp_1, tp_2, fp, fn, tp_rel"
   ]
  },
  {
   "cell_type": "code",
   "execution_count": 123,
   "metadata": {},
   "outputs": [
    {
     "data": {
      "text/plain": [
       "(0.70995670995671, 0.7699530516431925, 0.7387387387387389)"
      ]
     },
     "execution_count": 123,
     "metadata": {},
     "output_type": "execute_result"
    },
    {
     "ename": "",
     "evalue": "",
     "output_type": "error",
     "traceback": [
      "\u001b[1;31mThe Kernel crashed while executing code in the the current cell or a previous cell. Please review the code in the cell(s) to identify a possible cause of the failure. Click <a href='https://aka.ms/vscodeJupyterKernelCrash'>here</a> for more info. View Jupyter <a href='command:jupyter.viewOutput'>log</a> for further details."
     ]
    }
   ],
   "source": [
    "precision = tp_rel / (fp + tp_rel)\n",
    "recall = tp_rel / (fn + tp_rel)\n",
    "f1 = 2 * precision * recall / (precision + recall)\n",
    "precision, recall, f1"
   ]
  },
  {
   "attachments": {},
   "cell_type": "markdown",
   "metadata": {},
   "source": [
    "### Pre- & Post-Plots"
   ]
  },
  {
   "cell_type": "code",
   "execution_count": 4,
   "metadata": {},
   "outputs": [
    {
     "data": {
      "text/plain": [
       "((2141, 3), (372, 2), (2577, 3), (2577, 3), (251, 3), (224, 3), (3052, 3))"
      ]
     },
     "execution_count": 4,
     "metadata": {},
     "output_type": "execute_result"
    }
   ],
   "source": [
    "data = pd.read_csv(\"annotated/sent_full.csv\", index_col= 0)\n",
    "cameo = pd.read_csv(\"annotated/CAMEO.csv\", index_col = 0)[[\"text\", \"triplets\"]]\n",
    "cameo.columns = [\"text\",\"label\"]\n",
    "data_rdy = pd.concat([data, cameo])\n",
    "data_rdy[\"split\"] = \"original\"\n",
    "#train and validation data from DataAugementation.ipynb\n",
    "\n",
    "train = pd.read_csv(\"annotated/new_train_aug_0.csv\", index_col = 0)\n",
    "train[\"split\"] = \"training\"\n",
    "val = pd.read_csv(\"annotated/new_val_aug_0.csv\", index_col= 0)\n",
    "val[\"split\"] = \"validation\"\n",
    "test = pd.read_csv(\"annotated/new_test_aug_0.csv\", index_col= 0)\n",
    "test[\"split\"] = \"test\"\n",
    "\n",
    "full_set = pd.concat([train, val, test])\n",
    "\n",
    "data_rdy.shape, cameo.shape, train.shape, train.shape, val.shape, test.shape, full_set.shape"
   ]
  },
  {
   "cell_type": "code",
   "execution_count": 5,
   "metadata": {},
   "outputs": [],
   "source": [
    "from gensim.parsing.preprocessing import strip_multiple_whitespaces\n",
    "import matplotlib.pyplot as plt\n",
    "import seaborn as sns"
   ]
  },
  {
   "cell_type": "code",
   "execution_count": 6,
   "metadata": {},
   "outputs": [],
   "source": [
    "import matplotlib\n",
    "matplotlib.rcParams['font.family'] = 'Arial'"
   ]
  },
  {
   "cell_type": "code",
   "execution_count": 7,
   "metadata": {},
   "outputs": [],
   "source": [
    "order_1 = {\n",
    "        \"Make Public \\nStatement\":0,\n",
    "        \"Consult\":3,\n",
    "        \"Disapprove\":10,\n",
    "        \"Coerce\":16,\n",
    "        \"Engage In \\nDiplomatic \\nCooperation\":4,\n",
    "        \"Engage In \\nMaterial \\nCooperation\":6,\n",
    "        \"Appeal\":1,\n",
    "        \"Fight\":18,\n",
    "        \"Threaten\":12,\n",
    "        \"Yield\":7,\n",
    "        \"Express Intend\\nto Cooperate\":2,        \n",
    "        \"Demand\":9,\n",
    "        \"Provide Aid\":5,\n",
    "        \"Investigate\":8,\n",
    "        \"Assault\":17,\n",
    "        \"Reduce \\nRelations\":15,\n",
    "        \"Protest\":14,\n",
    "        \"Reject\":11,\n",
    "        \"Exhibit \\nMilitary \\nPosture\":13,\n",
    "        \"Engage In \\nUnconventional \\nMass Violence\":19\n",
    "}\n",
    "\n",
    "order_2 = {\n",
    "    \"original\":0,\n",
    "    \"training\":1,\n",
    "    \"validation\":2,\n",
    "    \"test\":3\n",
    "}"
   ]
  },
  {
   "cell_type": "code",
   "execution_count": 8,
   "metadata": {},
   "outputs": [
    {
     "data": {
      "image/png": "[encoded data removed]",
      "text/plain": [
       "<Figure size 1200x1500 with 1 Axes>"
      ]
     },
     "metadata": {},
     "output_type": "display_data"
    }
   ],
   "source": [
    "data = data_rdy.copy()\n",
    "#extract the categorized relation from original df\n",
    "data[\"label\"] = data.label.apply(lambda x: strip_multiple_whitespaces(x.replace(\"<triplet>\",\" <triplet> \")))\n",
    "data[\"label\"] = data.label.apply(lambda x: x.replace(\"Express Intent to Cooperate\", \"Express Intend to Cooperate\"))\n",
    "relation = []\n",
    "for row in data.iterrows():\n",
    "    rel_iter = row[1][\"label\"] + \" <triplet>\"\n",
    "    all_rels = re.findall(\"(?<=<obj> ).*?(?= <subj> | <triplet>)\", rel_iter)\n",
    "    relation.append(all_rels)\n",
    "data[\"relations\"] = relation \n",
    "\n",
    "expl = data.explode(\"relations\")\n",
    "expl[\"split\"] = \"original\"\n",
    "\n",
    "#extract the categorized relation from split df\n",
    "full_set[\"label\"] = full_set.label.apply(lambda x: strip_multiple_whitespaces(x.replace(\"<triplet>\",\" <triplet> \")))\n",
    "relation = []\n",
    "for row in full_set.iterrows():\n",
    "    rel_iter = row[1][\"label\"] + \" <triplet>\"\n",
    "    all_rels = re.findall(\"(?<=<obj> ).*?(?= <subj> | <triplet>)\", rel_iter)\n",
    "    relation.append(all_rels)\n",
    "full_set[\"relations\"] = relation \n",
    "\n",
    "\n",
    "expl1 = full_set.explode(\"relations\")\n",
    "\n",
    "\n",
    "all_expl = pd.concat([expl, expl1])\n",
    "all_expl[\"relations\"] = all_expl.relations.apply(lambda x: x.replace(\n",
    "    \"Provide Aid\", \"Provide Aid\").replace(\n",
    "    \"Engage In Diplomatic Cooperation\", \"Engage In \\nDiplomatic \\nCooperation\").replace(\n",
    "    \"Make Public Statement\", \"Make Public \\nStatement\").replace(\n",
    "    \"Express Intend to Cooperate\",\"Express Intend\\nto Cooperate\").replace(\n",
    "    \"Engage In Material Cooperation\", \"Engage In \\nMaterial \\nCooperation\").replace(\n",
    "    \"Exhibit Military Posture\", \"Exhibit \\nMilitary \\nPosture\").replace(\n",
    "    \"Reduce Relations\", \"Reduce \\nRelations\").replace(\n",
    "    \"Express Intent to Cooperate\",\"Express Intent \\nto Cooperate\").replace(\n",
    "    \"Engage in unconventional mass violence\",\"Engage In \\nUnconventional \\nMass Violence\"))\n",
    "all_expl[\"sort_1\"] = all_expl.relations.map(order_1)\n",
    "all_expl[\"sort_2\"] = all_expl.split.map(order_2)\n",
    "expl_sorted = all_expl.sort_values(by=[\"sort_1\",\"sort_2\"], ascending = True)\n",
    "\n",
    "plt.figure(figsize=(12,15))\n",
    "ax = sns.countplot(y = expl_sorted.relations, hue = expl_sorted.split, palette = \"Blues_r\")\n",
    "ax.bar_label(ax.containers[0], padding = 3, fontsize = 9)\n",
    "ax.bar_label(ax.containers[1], padding = 3, fontsize = 9)\n",
    "ax.bar_label(ax.containers[2], padding = 3, fontsize = 9)\n",
    "ax.bar_label(ax.containers[3], padding = 3, fontsize = 9)\n",
    "\n",
    "sns.despine()\n",
    "plt.xlabel('Absolute frequency (log-scale)', fontsize = 15)\n",
    "plt.yticks(fontsize = 15)\n",
    "plt.ylabel(\"\")\n",
    "plt.yticks(fontsize = 13)\n",
    "plt.xscale(\"log\")\n",
    "plt.legend(prop = {\"size\":16}, fontsize = 15)\n",
    "\n",
    "df1 = pd.pivot_table(expl_sorted,\n",
    "              index='relations',\n",
    "              columns='split',\n",
    "              aggfunc='size')\n",
    "\n",
    "idx = df1.index.to_list()"
   ]
  },
  {
   "cell_type": "code",
   "execution_count": 9,
   "metadata": {},
   "outputs": [
    {
     "name": "stdout",
     "output_type": "stream",
     "text": [
      "Count of sentences with 1 relations: 1549 (50.75360419397117%)\n",
      "Count of sentences with 2 relations: 918 (30.078636959370904%)\n",
      "Count of sentences with 3 relations: 347 (11.36959370904325%)\n",
      "Count of sentences with 4 relations: 130 (4.259501965923985%)\n",
      "Count of sentences with 5 relations: 71 (2.326343381389253%)\n",
      "Count of sentences with 6 relations: 23 (0.7536041939711665%)\n",
      "Count of sentences with 7 relations: 9 (0.2948885976408912%)\n",
      "Count of sentences with 8 relations: 3 (0.09829619921363039%)\n",
      "Count of sentences with 9 relations: 2 (0.0655307994757536%)\n"
     ]
    }
   ],
   "source": [
    "#How many relations does each text have?\n",
    "full_set[\"rel_count\"] = full_set.label.apply(lambda x: x.count(\"<triplet>\"))\n",
    "for count in range(full_set.rel_count.max()):\n",
    "    print(f\"Count of sentences with {count + 1} relations: {full_set[full_set.rel_count == count + 1].shape[0]} ({full_set[full_set.rel_count == count + 1].shape[0] / full_set.shape[0] * 100}%)\")\n",
    "\n",
    "#all sentences have only 1 relation"
   ]
  },
  {
   "cell_type": "code",
   "execution_count": 11,
   "metadata": {},
   "outputs": [
    {
     "data": {
      "text/plain": [
       "5544"
      ]
     },
     "execution_count": 11,
     "metadata": {},
     "output_type": "execute_result"
    }
   ],
   "source": [
    "full_set.rel_count.sum()"
   ]
  },
  {
   "cell_type": "code",
   "execution_count": 10,
   "metadata": {},
   "outputs": [
    {
     "data": {
      "text/plain": [
       "(3052, 5)"
      ]
     },
     "execution_count": 10,
     "metadata": {},
     "output_type": "execute_result"
    }
   ],
   "source": [
    "full_set.shape"
   ]
  },
  {
   "cell_type": "code",
   "execution_count": 73,
   "metadata": {},
   "outputs": [
    {
     "data": {
      "text/plain": [
       "108"
      ]
     },
     "execution_count": 73,
     "metadata": {},
     "output_type": "execute_result"
    }
   ],
   "source": [
    "(71+23+9+3+2)"
   ]
  },
  {
   "cell_type": "code",
   "execution_count": 74,
   "metadata": {},
   "outputs": [
    {
     "data": {
      "text/plain": [
       "3.5386631716906947"
      ]
     },
     "execution_count": 74,
     "metadata": {},
     "output_type": "execute_result"
    }
   ],
   "source": [
    "(71+23+9+3+2) / full_set.shape[0] *100"
   ]
  },
  {
   "cell_type": "code",
   "execution_count": 54,
   "metadata": {},
   "outputs": [],
   "source": [
    "relation = []\n",
    "for row in train.iterrows():\n",
    "    rel_iter = row[1][\"label\"] + \" <triplet>\"\n",
    "    all_rels = re.findall(\"(?<=<obj> ).*?(?= <subj> | <triplet>)\", rel_iter)\n",
    "    relation.append(all_rels)\n",
    "train[\"relations\"] = relation \n",
    "pct = train.explode(\"relations\").groupby(\"relations\").text.count().reset_index()\n",
    "pct[\"pct\"] = pct.text.apply(lambda x: x / train.explode(\"relations\").shape[0])\n"
   ]
  },
  {
   "cell_type": "code",
   "execution_count": 55,
   "metadata": {},
   "outputs": [
    {
     "data": {
      "text/html": [
       "<div>\n",
       "<style scoped>\n",
       "    .dataframe tbody tr th:only-of-type {\n",
       "        vertical-align: middle;\n",
       "    }\n",
       "\n",
       "    .dataframe tbody tr th {\n",
       "        vertical-align: top;\n",
       "    }\n",
       "\n",
       "    .dataframe thead th {\n",
       "        text-align: right;\n",
       "    }\n",
       "</style>\n",
       "<table border=\"1\" class=\"dataframe\">\n",
       "  <thead>\n",
       "    <tr style=\"text-align: right;\">\n",
       "      <th></th>\n",
       "      <th>relations</th>\n",
       "      <th>text</th>\n",
       "      <th>pct</th>\n",
       "    </tr>\n",
       "  </thead>\n",
       "  <tbody>\n",
       "    <tr>\n",
       "      <th>0</th>\n",
       "      <td>Appeal</td>\n",
       "      <td>210</td>\n",
       "      <td>0.045672</td>\n",
       "    </tr>\n",
       "    <tr>\n",
       "      <th>1</th>\n",
       "      <td>Assault</td>\n",
       "      <td>215</td>\n",
       "      <td>0.046759</td>\n",
       "    </tr>\n",
       "    <tr>\n",
       "      <th>2</th>\n",
       "      <td>Coerce</td>\n",
       "      <td>161</td>\n",
       "      <td>0.035015</td>\n",
       "    </tr>\n",
       "    <tr>\n",
       "      <th>3</th>\n",
       "      <td>Consult</td>\n",
       "      <td>295</td>\n",
       "      <td>0.064158</td>\n",
       "    </tr>\n",
       "    <tr>\n",
       "      <th>4</th>\n",
       "      <td>Demand</td>\n",
       "      <td>184</td>\n",
       "      <td>0.040017</td>\n",
       "    </tr>\n",
       "    <tr>\n",
       "      <th>5</th>\n",
       "      <td>Disapprove</td>\n",
       "      <td>304</td>\n",
       "      <td>0.066116</td>\n",
       "    </tr>\n",
       "    <tr>\n",
       "      <th>6</th>\n",
       "      <td>Engage In Diplomatic Cooperation</td>\n",
       "      <td>184</td>\n",
       "      <td>0.040017</td>\n",
       "    </tr>\n",
       "    <tr>\n",
       "      <th>7</th>\n",
       "      <td>Engage In Material Cooperation</td>\n",
       "      <td>131</td>\n",
       "      <td>0.028491</td>\n",
       "    </tr>\n",
       "    <tr>\n",
       "      <th>8</th>\n",
       "      <td>Exhibit Military Posture</td>\n",
       "      <td>139</td>\n",
       "      <td>0.030231</td>\n",
       "    </tr>\n",
       "    <tr>\n",
       "      <th>9</th>\n",
       "      <td>Express Intend to Cooperate</td>\n",
       "      <td>157</td>\n",
       "      <td>0.034145</td>\n",
       "    </tr>\n",
       "    <tr>\n",
       "      <th>10</th>\n",
       "      <td>Fight</td>\n",
       "      <td>222</td>\n",
       "      <td>0.048282</td>\n",
       "    </tr>\n",
       "    <tr>\n",
       "      <th>11</th>\n",
       "      <td>Investigate</td>\n",
       "      <td>196</td>\n",
       "      <td>0.042627</td>\n",
       "    </tr>\n",
       "    <tr>\n",
       "      <th>12</th>\n",
       "      <td>Make Public Statement</td>\n",
       "      <td>1192</td>\n",
       "      <td>0.259243</td>\n",
       "    </tr>\n",
       "    <tr>\n",
       "      <th>13</th>\n",
       "      <td>Protest</td>\n",
       "      <td>197</td>\n",
       "      <td>0.042845</td>\n",
       "    </tr>\n",
       "    <tr>\n",
       "      <th>14</th>\n",
       "      <td>Provide Aid</td>\n",
       "      <td>175</td>\n",
       "      <td>0.038060</td>\n",
       "    </tr>\n",
       "    <tr>\n",
       "      <th>15</th>\n",
       "      <td>Reduce Relations</td>\n",
       "      <td>162</td>\n",
       "      <td>0.035233</td>\n",
       "    </tr>\n",
       "    <tr>\n",
       "      <th>16</th>\n",
       "      <td>Reject</td>\n",
       "      <td>135</td>\n",
       "      <td>0.029361</td>\n",
       "    </tr>\n",
       "    <tr>\n",
       "      <th>17</th>\n",
       "      <td>Threaten</td>\n",
       "      <td>145</td>\n",
       "      <td>0.031535</td>\n",
       "    </tr>\n",
       "    <tr>\n",
       "      <th>18</th>\n",
       "      <td>Yield</td>\n",
       "      <td>194</td>\n",
       "      <td>0.042192</td>\n",
       "    </tr>\n",
       "  </tbody>\n",
       "</table>\n",
       "</div>"
      ],
      "text/plain": [
       "                           relations  text       pct\n",
       "0                             Appeal   210  0.045672\n",
       "1                            Assault   215  0.046759\n",
       "2                             Coerce   161  0.035015\n",
       "3                            Consult   295  0.064158\n",
       "4                             Demand   184  0.040017\n",
       "5                         Disapprove   304  0.066116\n",
       "6   Engage In Diplomatic Cooperation   184  0.040017\n",
       "7     Engage In Material Cooperation   131  0.028491\n",
       "8           Exhibit Military Posture   139  0.030231\n",
       "9        Express Intend to Cooperate   157  0.034145\n",
       "10                             Fight   222  0.048282\n",
       "11                       Investigate   196  0.042627\n",
       "12             Make Public Statement  1192  0.259243\n",
       "13                           Protest   197  0.042845\n",
       "14                       Provide Aid   175  0.038060\n",
       "15                  Reduce Relations   162  0.035233\n",
       "16                            Reject   135  0.029361\n",
       "17                          Threaten   145  0.031535\n",
       "18                             Yield   194  0.042192"
      ]
     },
     "execution_count": 55,
     "metadata": {},
     "output_type": "execute_result"
    }
   ],
   "source": [
    "pct"
   ]
  },
  {
   "attachments": {},
   "cell_type": "markdown",
   "metadata": {},
   "source": [
    "### Pentacode"
   ]
  },
  {
   "cell_type": "code",
   "execution_count": 56,
   "metadata": {},
   "outputs": [],
   "source": [
    "cameo_to_penta = {\n",
    "    \"Make Public Statement\" : \"Make a Statement\",\n",
    "    \"Appeal\" : \"Make a Statement\", \n",
    "    \"Express Intend to Cooperate\" : \"Verbal Cooperation\",\n",
    "    \"Consult\" : \"Verbal Cooperation\",\n",
    "    \"Engage In Diplomatic Cooperation\" : \"Verbal Cooperation\",\n",
    "    \"Engage In Material Cooperation\" : \"Material Cooperation\",\n",
    "    \"Provide Aid\" : \"Material Cooperation\",\n",
    "    \"Yield\" : \"Material Cooperation\", \n",
    "    \"Investigate\" : \"Verbal Conflict\",\n",
    "    \"Demand\" : \"Verbal Conflict\",\n",
    "    \"Disapprove\" : \"Verbal Conflict\",\n",
    "    \"Reject\" : \"Verbal Conflict\",\n",
    "    \"Threaten\" : \"Verbal Conflict\",\n",
    "    \"Exhibit Military Posture\" : \"Material Conflict\",\n",
    "    \"Protest\" : \"Material Conflict\", \n",
    "    \"Reduce Relations\" : \"Verbal Conflict\",\n",
    "    \"Coerce\" : \"Material Conflict\",\n",
    "    \"Assault\" : \"Material Conflict\",\n",
    "    \"Fight\" : \"Material Conflict\",\n",
    "    \"Engage in unconventional mass violence\" : \"Material Conflict\"\n",
    "}"
   ]
  },
  {
   "cell_type": "code",
   "execution_count": 57,
   "metadata": {},
   "outputs": [],
   "source": [
    "order_3 = {\n",
    "    \"Make a Statement\":0,\n",
    "    \"Verbal Cooperation\":1,\n",
    "    \"Material Cooperation\":2,\n",
    "    \"Verbal Conflict\":3,\n",
    "    \"Material Conflicht\":4\n",
    "}"
   ]
  },
  {
   "cell_type": "code",
   "execution_count": 60,
   "metadata": {},
   "outputs": [
    {
     "data": {
      "image/png": "[encoded data removed]",
      "text/plain": [
       "<Figure size 1300x1000 with 1 Axes>"
      ]
     },
     "metadata": {},
     "output_type": "display_data"
    }
   ],
   "source": [
    "data = data_rdy.copy()\n",
    "#extract the categorized relation from original df\n",
    "data[\"label\"] = data.label.apply(lambda x: strip_multiple_whitespaces(x.replace(\"<triplet>\",\" <triplet> \")))\n",
    "data[\"label\"] = data.label.apply(lambda x: x.replace(\"Express Intent to Cooperate\", \"Express Intend to Cooperate\"))\n",
    "\n",
    "penta_map = []\n",
    "for row in data.iterrows():\n",
    "    trip_text = row[1][\"label\"]\n",
    "    for key in cameo_to_penta.keys():\n",
    "        if key in row[1][\"label\"]: trip_text = trip_text.replace(key, cameo_to_penta[key])\n",
    "    penta_map.append([row[1][\"text\"], trip_text, row[1][\"split\"]])\n",
    "data = pd.DataFrame(penta_map, columns = [\"text\",\"label\",\"split\"])\n",
    "\n",
    "relation = []\n",
    "for row in data.iterrows():\n",
    "    rel_iter = row[1][\"label\"] + \" <triplet>\"\n",
    "    all_rels = re.findall(\"(?<=<obj> ).*?(?= <subj> | <triplet>)\", rel_iter)\n",
    "    relation.append(all_rels)\n",
    "data[\"relations\"] = relation \n",
    "\n",
    "expl = data.explode(\"relations\")\n",
    "expl[\"split\"] = \"original\"\n",
    "\n",
    "#extract the categorized relation from split df\n",
    "full_set[\"label\"] = full_set.label.apply(lambda x: strip_multiple_whitespaces(x.replace(\"<triplet>\",\" <triplet> \")))\n",
    "\n",
    "penta_map = []\n",
    "for row in full_set.iterrows():\n",
    "    trip_text = row[1][\"label\"]\n",
    "    for key in cameo_to_penta.keys():\n",
    "        if key in row[1][\"label\"]: trip_text = trip_text.replace(key, cameo_to_penta[key])\n",
    "    penta_map.append([row[1][\"text\"], trip_text, row[1][\"split\"]])\n",
    "full_set = pd.DataFrame(penta_map, columns = [\"text\",\"label\", \"split\"])\n",
    "\n",
    "relation = []\n",
    "for row in full_set.iterrows():\n",
    "    rel_iter = row[1][\"label\"] + \" <triplet>\"\n",
    "    all_rels = re.findall(\"(?<=<obj> ).*?(?= <subj> | <triplet>)\", rel_iter)\n",
    "    relation.append(all_rels)\n",
    "full_set[\"relations\"] = relation \n",
    "\n",
    "expl1 = full_set.explode(\"relations\")\n",
    "\n",
    "all_expl = pd.concat([expl, expl1])\n",
    "\n",
    "all_expl[\"sort_1\"] = all_expl.relations.map(order_3)\n",
    "all_expl[\"sort_2\"] = all_expl.split.map(order_2)\n",
    "\n",
    "expl_sorted = all_expl.sort_values(by=[\"sort_1\",\"sort_2\"], ascending = True)\n",
    "\n",
    "plt.figure(figsize=(13,10))\n",
    "ax = sns.countplot(y = expl_sorted.relations, hue = expl_sorted.split, palette = \"Blues_r\")\n",
    "ax.bar_label(ax.containers[0], padding = 3, fontsize = 12)\n",
    "ax.bar_label(ax.containers[1], padding = 3, fontsize = 12)\n",
    "ax.bar_label(ax.containers[2], padding = 3, fontsize = 12)\n",
    "ax.bar_label(ax.containers[3], padding = 3, fontsize = 12)\n",
    "\n",
    "sns.despine()\n",
    "plt.xlabel('Absolute frequency (log-scale)', fontsize = 15)\n",
    "plt.yticks(fontsize = 15)\n",
    "plt.ylabel(\"\")\n",
    "plt.yticks(fontsize = 13)\n",
    "plt.xscale(\"log\")\n",
    "plt.legend(prop = {\"size\":13}, loc = \"center right\", fontsize = 15)\n",
    "\n",
    "df1 = pd.pivot_table(expl_sorted,\n",
    "              index='relations',\n",
    "              columns='split',\n",
    "              aggfunc='size')\n",
    "\n",
    "idx = df1.index.to_list()"
   ]
  },
  {
   "cell_type": "code",
   "execution_count": null,
   "metadata": {},
   "outputs": [],
   "source": [
    "new = []\n",
    "for row in full_set.iterrows():\n",
    "    sub = []\n",
    "    split = re.split(\"<\\w*>\", row[1][\"label\"])[1:]       #first one is empty\n",
    "    for i in range(int(len(split)/3)):                      #always pairs of 3\n",
    "        sub_split = split[i*3:i*3+3]\n",
    "        sub_split = [sub.rstrip().lstrip() for sub in sub_split]\n",
    "        \n",
    "        sub.append(\"<triplet> \" + \" <split> \".join(sub_split))\n",
    "    sub_dedupe = list(set(sub))\n",
    "    new.append(sub_dedupe)         \n",
    "        \n",
    "full_set[\"rel_sets\"] = new"
   ]
  },
  {
   "cell_type": "code",
   "execution_count": null,
   "metadata": {},
   "outputs": [],
   "source": [
    "full_set[\"new_count\"] = full_set.rel_sets.apply(lambda x: len(x))"
   ]
  },
  {
   "cell_type": "code",
   "execution_count": null,
   "metadata": {},
   "outputs": [],
   "source": [
    "new = []\n",
    "for row in full_set.iterrows():\n",
    "    label = \" \".join(row[1][\"rel_sets\"])\n",
    "    split = re.split(\"<\\w*>\", label)[1:]       #first one is empty\n",
    "    new_rel = \"\"\n",
    "    for i in range(int(len(split)/3)):                      #always pairs of 3\n",
    "        sub_split = split[i*3:i*3+3]\n",
    "        sub_split = [sub.rstrip().lstrip() for sub in sub_split]\n",
    "        new_rel += f\" <triplet> {sub_split[0]} <subj> {sub_split[1]} <obj> {sub_split[2]}\"\n",
    "    new.append(new_rel)    \n",
    "        \n",
    "full_set[\"label_new\"] = new"
   ]
  },
  {
   "cell_type": "code",
   "execution_count": null,
   "metadata": {},
   "outputs": [
    {
     "data": {
      "text/plain": [
       "\" <triplet> Halloween crush <subj> 150 people <obj> Assault <triplet> Russian ministryRussia's Foreign Affairs Ministryn Prime Minister Han Duck-soo <subj> Halloween crush <obj> Investigate <triplet> Russian ministryRussia's Foreign Affairs Ministry <subj> Halloween crush <obj> Investigate\""
      ]
     },
     "metadata": {},
     "output_type": "display_data"
    }
   ],
   "source": [
    "full_set[full_set.new_count != full_set.rel_count].iloc[0].label_new"
   ]
  },
  {
   "cell_type": "code",
   "execution_count": null,
   "metadata": {},
   "outputs": [
    {
     "data": {
      "text/plain": [
       "\" <triplet> Russian ministryRussia's Foreign Affairs Ministry <subj> Halloween crush <obj> Investigate <triplet> Halloween crush <subj> 150 people <obj> Assault <triplet> Russian ministryRussia's Foreign Affairs Ministryn Prime Minister Han Duck-soo <subj> Halloween crush <obj> Investigate <triplet> Halloween crush <subj> 150 people <obj> Assault\""
      ]
     },
     "metadata": {},
     "output_type": "display_data"
    }
   ],
   "source": [
    "full_set"
   ]
  },
  {
   "cell_type": "code",
   "execution_count": null,
   "metadata": {},
   "outputs": [
    {
     "data": {
      "text/plain": [
       "\" <triplet> Fox News radio's Brian Kilmeade <subj> cost cutting planAnalysisCanada <obj> Make Public Statement <triplet> The International News Media Association <subj> our common European home <obj> Investigate\""
      ]
     },
     "metadata": {},
     "output_type": "display_data"
    }
   ],
   "source": [
    "full_set.label.iloc[200]"
   ]
  },
  {
   "cell_type": "code",
   "execution_count": null,
   "metadata": {},
   "outputs": [],
   "source": [
    "full_set[\"label\"] = full_set.label_new.apply(lambda x: strip_multiple_whitespaces(x).lstrip().rstrip())"
   ]
  },
  {
   "attachments": {},
   "cell_type": "markdown",
   "metadata": {},
   "source": [
    "## Get samples for appendix"
   ]
  },
  {
   "cell_type": "code",
   "execution_count": 1,
   "metadata": {},
   "outputs": [],
   "source": [
    "import pandas as pd"
   ]
  },
  {
   "cell_type": "code",
   "execution_count": 13,
   "metadata": {},
   "outputs": [],
   "source": [
    "pd.read_csv(\"annotated/new_train_aug_0.csv\").sample(10)[[\"text\",\"label\"]].to_csv(\"sample_train.csv\")"
   ]
  },
  {
   "cell_type": "code",
   "execution_count": 11,
   "metadata": {},
   "outputs": [],
   "source": [
    "pd.read_csv(\"unsupervised/test_0.csv\").sample(10)[[\"text\",\"label\"]].to_csv(\"sample_test_unsup.csv\")"
   ]
  }
 ],
 "metadata": {
  "kernelspec": {
   "display_name": "Python 3 (ipykernel)",
   "language": "python",
   "name": "python3"
  },
  "language_info": {
   "codemirror_mode": {
    "name": "ipython",
    "version": 3
   },
   "file_extension": ".py",
   "mimetype": "text/x-python",
   "name": "python",
   "nbconvert_exporter": "python",
   "pygments_lexer": "ipython3",
   "version": "3.10.9"
  },
  "orig_nbformat": 4,
  "vscode": {
   "interpreter": {
    "hash": "eb6e93dfa86b7f97c60c39b0c0c403458d25a4deb04fc60caf4cf2dd07f32ebe"
   }
  }
 },
 "nbformat": 4,
 "nbformat_minor": 2
}
