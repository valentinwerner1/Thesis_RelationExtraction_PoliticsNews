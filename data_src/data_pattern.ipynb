{
 "cells": [
  {
   "cell_type": "code",
   "execution_count": null,
   "metadata": {},
   "outputs": [],
   "source": [
    "{\"docid\": \"30113940\", \n",
    "\"title\": \"Transportation Journal\", \n",
    "\"uri\": \"Q7835172\", \n",
    "\"text\": \"\"\"Transportation Journal is an academic journal devoted to transportation, logistics and related fields. \n",
    "    The journal is published quarterly by the Penn State University Press on behalf of the American Society of Transportation and Logistics.\"\"\",\n",
    "\"entities\": [{\"uri\": \"Q737498\", \"boundaries\": [29, 45], \"surfaceform\": \"academic journal\", \"annotator\": \"Me\"}, \n",
    "            {\"uri\": \"Q7163300\", \"boundaries\": [145, 172], \"surfaceform\": \"Penn State University Press\", \"annotator\": \"Me\"}, \n",
    "            {\"uri\": \"Q296160\", \"boundaries\": [190, 238], \"surfaceform\": \"American Society of Transportation and Logistics\", \"annotator\": \"Me\"},\n",
    "             {\"uri\": \"Q7835172\", \"boundaries\": [0, 22], \"surfaceform\": \"Transportation Journal\", \"annotator\": \"Me\"}],\n",
    "\"triples\": [{\"subject\": {\"uri\": \"Q7835172\", \"boundaries\": [0, 22], \"surfaceform\": \"Transportation Journal\", \"annotator\": \"Me\"}, \n",
    "            \"predicate\": {\"uri\": \"P123\", \"boundaries\": null, \"surfaceform\": \"publisher\", \"annotator\": \"NoSubject-Triple-aligner\"}, \n",
    "            \"object\": {\"uri\": \"Q7163300\", \"boundaries\": [145, 172], \"surfaceform\": \"Penn State University Press\", \"annotator\": \"Me\"}, \n",
    "            \"sentence_id\": 1, \n",
    "            \"dependency_path\": null, \n",
    "            \"confidence\": null, \n",
    "            \"annotator\": \"NoSubject-Triple-aligner\"}]}"
   ]
  },
  {
   "cell_type": "code",
   "execution_count": null,
   "metadata": {},
   "outputs": [],
   "source": [
    "{\"docid\": \"29899115\",\n",
    " \"title\": \"International Transportation Service\",\n",
    "  \"uri\": \"Q12060769\",\n",
    "   \"text\": \"International Transportation Service (ITS) is an American container terminal company that deals with the receipt and shipment of containerized cargo in domestic and foreign trade. It also focuses on marine cargo handling, vessel stevedoring, on-dock rail, and staffing services. ITS is owned by K Line. International Transportation Service serves worldwide.\\n\\nITS was founded in 1971 and is located at the Port of Long Beach in Long Beach, California. \\nThe Green Port Policy was adopted by ITS in 2006 to reduce pollution in Long Beach and Los Angeles.\\n\\nITS clients have included COSCO Container Lines, Hamburg Sud, Hanjin Shipping, Kawasaki Kisen Kaisha, Ltd., Maersk Line, U.S. Lines and Yang Ming Marine Transport Corporation.\",\n",
    "    \"entities\": [{\"uri\": \"Q492425\", \"boundaries\": [58, 76], \"surfaceform\": \"container terminal\", \"annotator\": \"Me\"}, {\"uri\": \"Q425880\", \"boundaries\": [295, 301], \"surfaceform\": \"K Line\", \"annotator\": \"Me\"}, {\"uri\": \"Q2244441\", \"boundaries\": [405, 423], \"surfaceform\": \"Port of Long Beach\", \"annotator\": \"Me\"}, {\"uri\": \"Q16739\", \"boundaries\": [427, 449], \"surfaceform\": \"Long Beach, California\", \"annotator\": \"Me\"}, {\"uri\": \"Q26263180\", \"boundaries\": [579, 600], \"surfaceform\": \"COSCO Container Lines\", \"annotator\": \"Me\"}, {\"uri\": \"Q565050\", \"boundaries\": [602, 613], \"surfaceform\": \"Hamburg Sud\", \"annotator\": \"Me\"}, {\"uri\": \"Q494904\", \"boundaries\": [615, 630], \"surfaceform\": \"Hanjin Shipping\", \"annotator\": \"Me\"}, {\"uri\": \"Q425880\", \"boundaries\": [632, 659], \"surfaceform\": \"Kawasaki Kisen Kaisha, Ltd.\", \"annotator\": \"Me\"}, {\"uri\": \"Q446750\", \"boundaries\": [661, 672], \"surfaceform\": \"Maersk Line\", \"annotator\": \"Me\"}, {\"uri\": \"Q477312\", \"boundaries\": [674, 684], \"surfaceform\": \"U.S. Lines\", \"annotator\": \"Me\"}, {\"uri\": \"Q710318\", \"boundaries\": [689, 727], \"surfaceform\": \"Yang Ming Marine Transport Corporation\", \"annotator\": \"Me\"}, {\"uri\": \"Q12060769\", \"boundaries\": [0, 36], \"surfaceform\": \"International Transportation Service\", \"annotator\": \"Me\"}, {\"uri\": \"Q12060769\", \"boundaries\": [303, 339], \"surfaceform\": \"International Transportation Service\", \"annotator\": \"Me\"}, {\"uri\": \"1971-01-01T00:00:00Z^^http://www.w3.org/2001/XMLSchema#dateTime\", \"boundaries\": [378, 382], \"surfaceform\": \"1971\", \"annotator\": \"Date_Linker\"}, {\"uri\": \"2006-01-01T00:00:00Z^^http://www.w3.org/2001/XMLSchema#dateTime\", \"boundaries\": [496, 500], \"surfaceform\": \"2006\", \"annotator\": \"Date_Linker\"}], \n",
    "    \"triples\": [{\"subject\": {\"uri\": \"Q12060769\", \"boundaries\": [303, 339], \"surfaceform\": \"International Transportation Service\", \"annotator\": \"Me\"}, \n",
    "                \"predicate\": {\"uri\": \"P127\", \"boundaries\": null, \"surfaceform\": \"owned by\", \"annotator\": \"NoSubject-Triple-aligner\"}, \n",
    "                \"object\": {\"uri\": \"Q425880\", \"boundaries\": [295, 301], \"surfaceform\": \"K Line\", \"annotator\": \"Me\"}, \n",
    "                \"sentence_id\": 2, \"dependency_path\": null, \"confidence\": null, \"annotator\": \"NoSubject-Triple-aligner\"}, \n",
    "                {\"subject\": {\"uri\": \"Q12060769\", \"boundaries\": [303, 339], \"surfaceform\": \"International Transportation Service\", \"annotator\": \"Me\"}, \n",
    "                \"predicate\": {\"uri\": \"P159\", \"boundaries\": null, \"surfaceform\": \"headquarters location\", \"annotator\": \"NoSubject-Triple-aligner\"}, \n",
    "                \"object\": {\"uri\": \"Q16739\", \"boundaries\": [427, 449], \"surfaceform\": \"Long Beach, California\", \"annotator\": \"Me\"}, \n",
    "                \"sentence_id\": 4, \"dependency_path\": null, \"confidence\": null, \"annotator\": \"NoSubject-Triple-aligner\"}, \n",
    "                {\"subject\": {\"uri\": \"Q12060769\", \"boundaries\": [303, 339], \"surfaceform\": \"International Transportation Service\", \"annotator\": \"Me\"}, \n",
    "                \"predicate\": {\"uri\": \"P571\", \"boundaries\": null, \"surfaceform\": \"inception\", \"annotator\": \"NoSubject-Triple-aligner\"}, \n",
    "                \"object\": {\"uri\": \"1971-01-01T00:00:00Z^^http://www.w3.org/2001/XMLSchema#dateTime\", \n",
    "                \"boundaries\": [378, 382], \"surfaceform\": \"1971\", \"annotator\": \"Date_Linker\"}, \"sentence_id\": 4, \n",
    "                \"dependency_path\": null, \"confidence\": null, \"annotator\": \"NoSubject-Triple-aligner\"}, \n",
    "                {\"subject\": {\"uri\": \"Q2244441\", \"boundaries\": [405, 423], \"surfaceform\": \"Port of Long Beach\", \"annotator\": \"Me\"}, \n",
    "                \"predicate\": {\"uri\": \"P131\", \"boundaries\": null, \"surfaceform\": \"located in the administrative territorial entity\", \"annotator\": \"Simple-Aligner\"}, \n",
    "                \"object\": {\"uri\": \"Q16739\", \"boundaries\": [427, 449], \"surfaceform\": \"Long Beach, California\", \"annotator\": \"Me\"}, \n",
    "                \"sentence_id\": 4, \"dependency_path\": null, \"confidence\": null, \"annotator\": \"Simple-Aligner\"}]}"
   ]
  }
 ],
 "metadata": {
  "kernelspec": {
   "display_name": "Python 3.9.7 ('base': conda)",
   "language": "python",
   "name": "python3"
  },
  "language_info": {
   "codemirror_mode": {
    "name": "ipython",
    "version": 3
   },
   "file_extension": ".py",
   "mimetype": "text/x-python",
   "name": "python",
   "nbconvert_exporter": "python",
   "pygments_lexer": "ipython3",
   "version": "3.9.7"
  },
  "orig_nbformat": 4,
  "vscode": {
   "interpreter": {
    "hash": "e68333006553a7c259dbbc354d1c2bf2da12a2e4ac4c5930a431473931cc291e"
   }
  }
 },
 "nbformat": 4,
 "nbformat_minor": 2
}
