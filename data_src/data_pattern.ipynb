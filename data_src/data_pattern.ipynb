{
 "cells": [
  {
   "cell_type": "code",
   "execution_count": null,
   "metadata": {},
   "outputs": [],
   "source": [
    "{\"docid\": \"30113940\", \n",
    "\"title\": \"Transportation Journal\", \n",
    "\"uri\": \"Q7835172\", \n",
    "\"text\": \"\"\"Transportation Journal is an academic journal devoted to transportation, logistics and related fields. \n",
    "    The journal is published quarterly by the Penn State University Press on behalf of the American Society of Transportation and Logistics.\"\"\",\n",
    "\"entities\": [{\"uri\": \"Q737498\", \"boundaries\": [29, 45], \"surfaceform\": \"academic journal\", \"annotator\": \"Me\"}, \n",
    "            {\"uri\": \"Q7163300\", \"boundaries\": [145, 172], \"surfaceform\": \"Penn State University Press\", \"annotator\": \"Me\"}, \n",
    "            {\"uri\": \"Q296160\", \"boundaries\": [190, 238], \"surfaceform\": \"American Society of Transportation and Logistics\", \"annotator\": \"Me\"},\n",
    "             {\"uri\": \"Q7835172\", \"boundaries\": [0, 22], \"surfaceform\": \"Transportation Journal\", \"annotator\": \"Me\"}],\n",
    "\"triples\": [{\"subject\": {\"uri\": \"Q7835172\", \"boundaries\": [0, 22], \"surfaceform\": \"Transportation Journal\", \"annotator\": \"Me\"}, \n",
    "            \"predicate\": {\"uri\": \"P123\", \"boundaries\": null, \"surfaceform\": \"publisher\", \"annotator\": \"NoSubject-Triple-aligner\"}, \n",
    "            \"object\": {\"uri\": \"Q7163300\", \"boundaries\": [145, 172], \"surfaceform\": \"Penn State University Press\", \"annotator\": \"Me\"}, \n",
    "\"sentence_id\": 1, \n",
    "\"dependency_path\": null, \n",
    "\"confidence\": null, \n",
    "\"annotator\": \"NoSubject-Triple-aligner\"}]}"
   ]
  },
  {
   "cell_type": "code",
   "execution_count": 2,
   "metadata": {},
   "outputs": [
    {
     "data": {
      "text/plain": [
       "'The family of a British citizen who was allegedly taken to Nigeria in an act of extraordinary rendition has been granted a court hearing to challenge the UK government for not intervening in his case.Nnamdi Kanu, the leader of the Indigenous People of Biafra (Ipob), a prominent separatist movement proscribed in Nigeria, was arrested in Kenya in June last year before being transported against his will to Nigeria, where he has been held ever since.In July, the UN working group on arbitrary detention published an opinion that the father of two had been subject to extraordinary rendition and said he should be released immediately. However, successive UK foreign secretaries, first Dominic Raab and then Liz Truss, before she became prime minister, have refused to take a view as to whether Kanu was a victim of extraordinary rendition.The family has been granted a judicial review to challenge that refusal, arguing that its effect has been that no action has been taken to help him.His brother, Kingsley Kanu, said: “The British government is well known for its stance on human rights. I believe it must be decisive when it comes to its decision-making about very serious violations of the human rights of British citizens abroad, especially when the facts are clear, as they are in my brother’s case, and when the UN has investigated and reached a firm conclusion that my brother was subject to extraordinary rendition. I am very happy that the court has agreed that a hearing is necessary to decide this important issue.”Kanu’s family claim he was tortured in Kenya and has been held in solitary confinement in Abuja since being transported there. The UN working group referred the case to the special rapporteur on torture. It expressed concern that he had been denied treatment and medication for his heart condition and highlighted that solitary confinement in excess of 15 consecutive days is prohibited under the Nelson Mandela rules, international non-binding standards.In a court filing concerning a parallel case brought by Nnamdi Kanu in Abuja, the Nigerian government denied torturing or mistreating him. It claimed that he entered Kenya unlawfully, having previously jumped bail in Nigeria, and so had no right to an extradition hearing.In 2015, Kanu was arrested in Nigeria and charged with terrorism offences and incitement, after setting up a digital radio station, Radio Biafra, at his home in London. Two years later he fled the country while on bail after an attack on his family home, which he claimed killed 28 members of Ipob. In January, he pleaded not guilty to terrorism charges.Shirin Marker, from Bindmans LLP, who is representing Kingsley Kanu, said it was essential for the new foreign secretary, James Cleverly, to reach a firm conclusion on whether her client’s brother had been the victim of extraordinary rendition in order to decide what steps to take to assist him.“The evidence available to date establishes that he has been subject to extraordinary rendition and torture or inhumane treatment,” she said. “It is unacceptable for the UK government to continue to prevaricate on this issue. We are glad that the court has now granted permission for this case to move to a final hearing.”Explaining her decision to grant a judicial review hearing, Mrs Justice Ellenbogen said: “Such decisions/inaction are, in principle, reviewable and do not enter forbidden areas, including decisions affecting foreign policy.”The Foreign Office declined to comment while proceedings were active.'"
      ]
     },
     "execution_count": 2,
     "metadata": {},
     "output_type": "execute_result"
    }
   ],
   "source": [
    "import pandas as pd\n",
    "pd.read_csv(r\"C:\\Users\\svawe\\Thesis_RelationExtraction_PoliticsNews\\data_src\\guardian\\guardian.csv\").text.iloc[0]"
   ]
  },
  {
   "cell_type": "code",
   "execution_count": null,
   "metadata": {},
   "outputs": [],
   "source": []
  }
 ],
 "metadata": {
  "kernelspec": {
   "display_name": "Python 3.9.7 ('base': conda)",
   "language": "python",
   "name": "python3"
  },
  "language_info": {
   "codemirror_mode": {
    "name": "ipython",
    "version": 3
   },
   "file_extension": ".py",
   "mimetype": "text/x-python",
   "name": "python",
   "nbconvert_exporter": "python",
   "pygments_lexer": "ipython3",
   "version": "3.9.7"
  },
  "orig_nbformat": 4,
  "vscode": {
   "interpreter": {
    "hash": "e68333006553a7c259dbbc354d1c2bf2da12a2e4ac4c5930a431473931cc291e"
   }
  }
 },
 "nbformat": 4,
 "nbformat_minor": 2
}
