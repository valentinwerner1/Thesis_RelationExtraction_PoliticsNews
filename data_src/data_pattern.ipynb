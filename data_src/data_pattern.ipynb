{
 "cells": [
  {
   "cell_type": "code",
   "execution_count": null,
   "metadata": {},
   "outputs": [],
   "source": [
    "{\"docid\": \"30113940\", \n",
    "\"title\": \"Transportation Journal\", \n",
    "\"uri\": \"Q7835172\", \n",
    "\"text\": \"\"\"Transportation Journal is an academic journal devoted to transportation, logistics and related fields. \n",
    "    The journal is published quarterly by the Penn State University Press on behalf of the American Society of Transportation and Logistics.\"\"\",\n",
    "\"entities\": [{\"uri\": \"Q737498\", \"boundaries\": [29, 45], \"surfaceform\": \"academic journal\", \"annotator\": \"Me\"}, \n",
    "            {\"uri\": \"Q7163300\", \"boundaries\": [145, 172], \"surfaceform\": \"Penn State University Press\", \"annotator\": \"Me\"}, \n",
    "            {\"uri\": \"Q296160\", \"boundaries\": [190, 238], \"surfaceform\": \"American Society of Transportation and Logistics\", \"annotator\": \"Me\"},\n",
    "             {\"uri\": \"Q7835172\", \"boundaries\": [0, 22], \"surfaceform\": \"Transportation Journal\", \"annotator\": \"Me\"}],\n",
    "\"triples\": [{\"subject\": {\"uri\": \"Q7835172\", \"boundaries\": [0, 22], \"surfaceform\": \"Transportation Journal\", \"annotator\": \"Me\"}, \n",
    "            \"predicate\": {\"uri\": \"P123\", \"boundaries\": null, \"surfaceform\": \"publisher\", \"annotator\": \"NoSubject-Triple-aligner\"}, \n",
    "            \"object\": {\"uri\": \"Q7163300\", \"boundaries\": [145, 172], \"surfaceform\": \"Penn State University Press\", \"annotator\": \"Me\"}, \n",
    "\"sentence_id\": 1, \n",
    "\"dependency_path\": null, \n",
    "\"confidence\": null, \n",
    "\"annotator\": \"NoSubject-Triple-aligner\"}]}"
   ]
  }
 ],
 "metadata": {
  "language_info": {
   "name": "python"
  },
  "orig_nbformat": 4
 },
 "nbformat": 4,
 "nbformat_minor": 2
}
