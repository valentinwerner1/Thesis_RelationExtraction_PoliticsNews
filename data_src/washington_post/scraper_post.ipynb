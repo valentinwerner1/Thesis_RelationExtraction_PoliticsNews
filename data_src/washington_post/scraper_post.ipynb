{
 "cells": [
  {
   "cell_type": "code",
   "execution_count": null,
   "metadata": {},
   "outputs": [],
   "source": [
    "https://feeds.washingtonpost.com/rss/world?itid=lk_inline_manual_42"
   ]
  },
  {
   "cell_type": "code",
   "execution_count": 1,
   "metadata": {},
   "outputs": [],
   "source": [
    "# In[1]:\n",
    "#General libraries\n",
    "import numpy as np\n",
    "import pandas as pd\n",
    "import sys\n",
    "import os \n",
    "\n",
    "#Libraries for parsing and getting text from websites\n",
    "from codecs import xmlcharrefreplace_errors\n",
    "import feedparser\n",
    "import urllib.parse\n",
    "import requests\n",
    "from bs4 import BeautifulSoup\n",
    "import ssl\n",
    "\n",
    "#Loading extras for parsing\n",
    "ssl._create_default_https_context = ssl._create_unverified_context #avoiding SSL errors\n",
    "headers =  {\"User-Agent\": \"Mozilla/5.0 (Windows NT 10.0; Win64; x64; rv:100.0) Gecko/20100101 Firefox/100.0\"} #avoiding some bot-shields\n",
    "\n",
    "\n",
    "# In[2]:\n",
    "\n",
    "#Functions for scraping\n",
    "def scrape_text(link, name, attrs):#, number):\n",
    "    \"\"\"retrieves text from the respective article; input is based on data which is received from rss feed\"\"\"\n",
    "    response = requests.get(link, headers = headers) \n",
    "    soup = BeautifulSoup(response.content, \"html.parser\")\n",
    "    content = soup.find(name, attrs)#[number]\n",
    "    return content.text\n",
    "\n",
    "def full_scrape_post():\n",
    "    \"\"\"iterates through entire available worlds news RSS feeds from guardian,\n",
    "    will extract text if not extracted yet\"\"\"\n",
    "    feed = feedparser.parse(\"https://feeds.washingtonpost.com/rss/world?itid=lk_inline_manual_42\")\n",
    "    entry = feed.entries"
   ]
  },
  {
   "cell_type": "code",
   "execution_count": 2,
   "metadata": {},
   "outputs": [],
   "source": [
    "feed = feedparser.parse(\"https://feeds.washingtonpost.com/rss/world?itid=lk_inline_manual_42\")\n",
    "entry = feed.entries"
   ]
  },
  {
   "cell_type": "code",
   "execution_count": 4,
   "metadata": {},
   "outputs": [
    {
     "data": {
      "text/plain": [
       "33"
      ]
     },
     "execution_count": 4,
     "metadata": {},
     "output_type": "execute_result"
    }
   ],
   "source": [
    "len(entry)"
   ]
  },
  {
   "cell_type": "code",
   "execution_count": 6,
   "metadata": {},
   "outputs": [
    {
     "data": {
      "text/plain": [
       "'https://www.washingtonpost.com/world/2022/10/05/russia-ukraine-war-latest-updates/?utm_source=rss&utm_medium=referral&utm_campaign=wp_world'"
      ]
     },
     "execution_count": 6,
     "metadata": {},
     "output_type": "execute_result"
    }
   ],
   "source": [
    "entry[0][\"link\"]"
   ]
  },
  {
   "cell_type": "code",
   "execution_count": null,
   "metadata": {},
   "outputs": [],
   "source": []
  }
 ],
 "metadata": {
  "kernelspec": {
   "display_name": "Python 3.9.7 ('base': conda)",
   "language": "python",
   "name": "python3"
  },
  "language_info": {
   "codemirror_mode": {
    "name": "ipython",
    "version": 3
   },
   "file_extension": ".py",
   "mimetype": "text/x-python",
   "name": "python",
   "nbconvert_exporter": "python",
   "pygments_lexer": "ipython3",
   "version": "3.9.7"
  },
  "orig_nbformat": 4,
  "vscode": {
   "interpreter": {
    "hash": "e68333006553a7c259dbbc354d1c2bf2da12a2e4ac4c5930a431473931cc291e"
   }
  }
 },
 "nbformat": 4,
 "nbformat_minor": 2
}
