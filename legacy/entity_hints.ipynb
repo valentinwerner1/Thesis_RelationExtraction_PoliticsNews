{
 "cells": [
  {
   "cell_type": "code",
   "execution_count": 19,
   "metadata": {},
   "outputs": [],
   "source": [
    "hints = \"spacy\""
   ]
  },
  {
   "cell_type": "code",
   "execution_count": 2,
   "metadata": {},
   "outputs": [],
   "source": [
    "import pandas as pd\n",
    "import numpy as np\n",
    "import re"
   ]
  },
  {
   "cell_type": "code",
   "execution_count": 6,
   "metadata": {},
   "outputs": [],
   "source": [
    "import os\n",
    "os.chdir(\"..\")"
   ]
  },
  {
   "cell_type": "code",
   "execution_count": 18,
   "metadata": {},
   "outputs": [],
   "source": [
    "def get_spacy_hints(df, nlp):\n",
    "    \"\"\"extract noun chunks with relevant entity types and prepend them to text\"\"\"\n",
    "    new_text = []\n",
    "    for row in df.iterrows():\n",
    "        ents = []\n",
    "        doc = nlp(row[1][\"text\"])\n",
    "        new = row[1][\"text\"]\n",
    "        for chunk in doc.noun_chunks:\n",
    "            #check if any words of the chunk are relevant entities \n",
    "            if set([word.ent_type_ for word in chunk]) & set([\"GPE\", \"NORP\", \"EVENTS\", \"FAC\", \"LAW\", \"ORG\", \"PERSON\"]) != set():\n",
    "                new = new.replace(chunk.text, \"<ents> \" + chunk.text + \" </ents>\")\n",
    "\n",
    "        new_text.append([new, row[1][\"triplets\"]])\n",
    "    print(new)\n",
    "    return pd.DataFrame(new_text, columns = [\"text\",\"triplets\"])"
   ]
  },
  {
   "cell_type": "code",
   "execution_count": 16,
   "metadata": {},
   "outputs": [],
   "source": [
    "def get_gold_hints(df):\n",
    "    new_text = []\n",
    "    for row in df.iterrows():\n",
    "        \n",
    "        subj = re.findall(\"(?<=<triplet> ).*?(?= <subj>)\", row[1][\"triplets\"])\n",
    "        obj = re.findall(\"(?<=<subj> ).*?(?= <obj>)\", row[1][\"triplets\"])\n",
    "\n",
    "        ents = subj + obj\n",
    "        ents = list(set(ents))\n",
    "\n",
    "        new = row[1][\"text\"]\n",
    "        for ent in ents:\n",
    "            new = new.replace(ent, \"<ents> \" + ent + \" </ents>\")\n",
    "\n",
    "        #add identified entities between entitiy tokens before text\n",
    "        #change token depending on ConfliBERT / REBEL\n",
    "        #new = \"<ents> \" + \", \".join(list(set(ents))) + \" </ents> \" + row[1][\"text\"]\n",
    "        new_text.append([new, row[1][\"triplets\"]])\n",
    "        print(ents)\n",
    "        print(new)\n",
    "        print(\"---\")\n",
    "    return pd.DataFrame(new_text, columns = [\"text\",\"triplets\"])"
   ]
  },
  {
   "cell_type": "code",
   "execution_count": 20,
   "metadata": {},
   "outputs": [
    {
     "name": "stderr",
     "output_type": "stream",
     "text": [
      "/home/werner/thesis_valentin/lib/python3.8/site-packages/tqdm/auto.py:22: TqdmWarning: IProgress not found. Please update jupyter and ipywidgets. See https://ipywidgets.readthedocs.io/en/stable/user_install.html\n",
      "  from .autonotebook import tqdm as notebook_tqdm\n"
     ]
    },
    {
     "name": "stdout",
     "output_type": "stream",
     "text": [
      "<ents> Liberians </ents> Fortify Lines of Defense in <ents> the Khartoum government </ents>.\n",
      "<ents> Serb forces </ents> killed <ents> three ethnic Albanians </ents> in a gunbattle in <ents> southeastern Serbia </ents> Friday\n",
      "<ents> North Korea </ents> has trained more than 500 computer hackers capable of launching cyber warfare against <ents> the United States </ents>\n"
     ]
    }
   ],
   "source": [
    "train = pd.read_csv(f\"data_src/annotated/new_train_aug_0.csv\", index_col = 0)\n",
    "train = train.rename(columns = {\"label\":\"triplets\"})\n",
    "val = pd.read_csv(f\"data_src/annotated/new_val_aug_0.csv\", index_col = 0)\n",
    "val = val.rename(columns = {\"label\":\"triplets\"})\n",
    "test = pd.read_csv(f\"data_src/annotated/new_test_aug_0.csv\", index_col = 0)\n",
    "test = test.rename(columns = {\"label\":\"triplets\"})\n",
    "\n",
    "if hints == \"spacy\":\n",
    "    import spacy \n",
    "    nlp = spacy.load(\"en_core_web_trf\")\n",
    "\n",
    "    train = get_spacy_hints(train, nlp)\n",
    "    val = get_spacy_hints(val, nlp)\n",
    "    test = get_spacy_hints(test, nlp)\n",
    "\n",
    "elif hints == \"gold\":\n",
    "    \n",
    "    train = get_gold_hints(train.iloc[:200])\n",
    "    val = get_gold_hints(val)\n",
    "    test = get_gold_hints(test)\n"
   ]
  },
  {
   "cell_type": "code",
   "execution_count": null,
   "metadata": {},
   "outputs": [],
   "source": []
  }
 ],
 "metadata": {
  "kernelspec": {
   "display_name": "thesis_valentin",
   "language": "python",
   "name": "python3"
  },
  "language_info": {
   "codemirror_mode": {
    "name": "ipython",
    "version": 3
   },
   "file_extension": ".py",
   "mimetype": "text/x-python",
   "name": "python",
   "nbconvert_exporter": "python",
   "pygments_lexer": "ipython3",
   "version": "3.8.10"
  },
  "orig_nbformat": 4,
  "vscode": {
   "interpreter": {
    "hash": "a1350fe81f24607af7015099983099ac829ebf1f4acb969c2cf14b7230b10f2d"
   }
  }
 },
 "nbformat": 4,
 "nbformat_minor": 2
}
