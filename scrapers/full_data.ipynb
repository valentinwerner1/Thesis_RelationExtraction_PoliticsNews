{
 "cells": [
  {
   "cell_type": "code",
   "execution_count": 1,
   "metadata": {},
   "outputs": [],
   "source": [
    "import pandas as pd\n",
    "import os\n",
    "import json"
   ]
  },
  {
   "cell_type": "code",
   "execution_count": 2,
   "metadata": {},
   "outputs": [
    {
     "data": {
      "text/plain": [
       "'c:\\\\Users\\\\svawe\\\\Thesis_RelationExtraction_PoliticsNews\\\\data_src'"
      ]
     },
     "execution_count": 2,
     "metadata": {},
     "output_type": "execute_result"
    }
   ],
   "source": [
    "os.getcwd()"
   ]
  },
  {
   "cell_type": "code",
   "execution_count": 3,
   "metadata": {},
   "outputs": [],
   "source": [
    "#Changing directory to data_src folder, where all csv files are\n",
    "os.chdir(os.path.dirname(os.path.abspath(\"full_data.ipynb\")))"
   ]
  },
  {
   "cell_type": "code",
   "execution_count": 4,
   "metadata": {},
   "outputs": [],
   "source": [
    "#Load csv files and add column \"paper\" to further give credits to the news company\n",
    "df_bbc = pd.read_csv(\"bbc/bbc.csv\", index_col = 0)\n",
    "df_bbc[\"paper\"] = \"bbc\"\n",
    "df_cnn = pd.read_csv(\"cnn/cnn.csv\", index_col = 0)\n",
    "df_cnn[\"paper\"] = \"cnn\"\n",
    "df_guardian = pd.read_csv(\"guardian/guardian.csv\", index_col = 0)\n",
    "df_guardian[\"paper\"] = \"guardian\"\n",
    "df_post = pd.read_csv(\"washington_post/post.csv\", index_col = 0)\n",
    "df_post[\"paper\"] = \"washington_post\""
   ]
  },
  {
   "cell_type": "code",
   "execution_count": 5,
   "metadata": {},
   "outputs": [],
   "source": [
    "df = pd.concat([df_bbc, df_cnn, df_guardian, df_post], axis = 0)\n",
    "#Further specify that BBC News authors is unknown sometimes (was fixed in scraper later)\n",
    "for index in df.index:\n",
    "    if df.author.iloc[index] == \"BBC News\": df.author.iloc[index] = \"BBC News, author unspecified\""
   ]
  },
  {
   "cell_type": "code",
   "execution_count": 6,
   "metadata": {},
   "outputs": [
    {
     "data": {
      "text/html": [
       "<div>\n",
       "<style scoped>\n",
       "    .dataframe tbody tr th:only-of-type {\n",
       "        vertical-align: middle;\n",
       "    }\n",
       "\n",
       "    .dataframe tbody tr th {\n",
       "        vertical-align: top;\n",
       "    }\n",
       "\n",
       "    .dataframe thead th {\n",
       "        text-align: right;\n",
       "    }\n",
       "</style>\n",
       "<table border=\"1\" class=\"dataframe\">\n",
       "  <thead>\n",
       "    <tr style=\"text-align: right;\">\n",
       "      <th></th>\n",
       "      <th>text</th>\n",
       "      <th>author</th>\n",
       "      <th>title</th>\n",
       "      <th>paper</th>\n",
       "    </tr>\n",
       "  </thead>\n",
       "  <tbody>\n",
       "    <tr>\n",
       "      <th>0</th>\n",
       "      <td>At least 23 people have been killed and dozens...</td>\n",
       "      <td>By James Waterhouse in Zaporizhzhia and Yarosl...</td>\n",
       "      <td>Ukraine war: Survivors speak of horror as Zapo...</td>\n",
       "      <td>bbc</td>\n",
       "    </tr>\n",
       "    <tr>\n",
       "      <th>1</th>\n",
       "      <td>About 20 members of a Jewish sect held at a fa...</td>\n",
       "      <td>By Raffi Berg</td>\n",
       "      <td>Lev Tahor Jewish sect members held in Mexico e...</td>\n",
       "      <td>bbc</td>\n",
       "    </tr>\n",
       "    <tr>\n",
       "      <th>2</th>\n",
       "      <td>The European Union has agreed to impose emerge...</td>\n",
       "      <td>BBC News, author unspecified</td>\n",
       "      <td>EU agrees windfall tax on energy firms</td>\n",
       "      <td>bbc</td>\n",
       "    </tr>\n",
       "    <tr>\n",
       "      <th>3</th>\n",
       "      <td>A suicide attack at a tuition centre in the Af...</td>\n",
       "      <td>BBC News, author unspecified</td>\n",
       "      <td>Kabul blast kills teenagers sitting practice exam</td>\n",
       "      <td>bbc</td>\n",
       "    </tr>\n",
       "    <tr>\n",
       "      <th>4</th>\n",
       "      <td>A rights group has called on Fifa to ban Iran ...</td>\n",
       "      <td>By Flora Drury</td>\n",
       "      <td>Iran: Fifa called on to ban country from World...</td>\n",
       "      <td>bbc</td>\n",
       "    </tr>\n",
       "  </tbody>\n",
       "</table>\n",
       "</div>"
      ],
      "text/plain": [
       "                                                text  \\\n",
       "0  At least 23 people have been killed and dozens...   \n",
       "1  About 20 members of a Jewish sect held at a fa...   \n",
       "2  The European Union has agreed to impose emerge...   \n",
       "3  A suicide attack at a tuition centre in the Af...   \n",
       "4  A rights group has called on Fifa to ban Iran ...   \n",
       "\n",
       "                                              author  \\\n",
       "0  By James Waterhouse in Zaporizhzhia and Yarosl...   \n",
       "1                                      By Raffi Berg   \n",
       "2                       BBC News, author unspecified   \n",
       "3                       BBC News, author unspecified   \n",
       "4                                     By Flora Drury   \n",
       "\n",
       "                                               title paper  \n",
       "0  Ukraine war: Survivors speak of horror as Zapo...   bbc  \n",
       "1  Lev Tahor Jewish sect members held in Mexico e...   bbc  \n",
       "2             EU agrees windfall tax on energy firms   bbc  \n",
       "3  Kabul blast kills teenagers sitting practice exam   bbc  \n",
       "4  Iran: Fifa called on to ban country from World...   bbc  "
      ]
     },
     "execution_count": 6,
     "metadata": {},
     "output_type": "execute_result"
    }
   ],
   "source": [
    "df.head()"
   ]
  },
  {
   "cell_type": "code",
   "execution_count": 18,
   "metadata": {},
   "outputs": [
    {
     "data": {
      "text/plain": [
       "\"King Charles will host the first state visit of his reign next month when he welcomes the president of South Africa to Buckingham Palace.President Cyril Ramaphosa and his wife, First Lady Tshepo Motsepe, have accepted an invitation to visit the King and Queen Consort.The visit will take place from Tuesday November 22 to Thursday November 24.It is understood the trip was in the early stages of being planned before the Queen's death in September.It will be the first time a South African leader has visited the UK in an official capacity in more than a decade, with the last state visit being in 2010 when Jacob Zuma visited the late Queen.The King has visited South Africa on a number of occasions since his first tour of the country in 1997, which included stops in Pretoria, Johannesburg, Durban and Cape Town.He last travelled to the country in 2011, with the Queen Consort. It was not a state event.The Queen shared a particularly close relationship with Nelson Mandela, the first democratically elected president of South Africa. The pair were said to have enjoyed a warm friendship, and unusually, referred to each other by their first names.Mr Ramaphosa, who has been in power since 2018, is the fourth leader of South Africa since Mr Mandela. State visits are an exercise in soft power and red carpets, filled with royal ceremony and banquets, but focused on the hard-headed business of strengthening international relationships.It's the Foreign Office that advises on which countries are invited - the last being US President Donald Trump in 2019, before Covid stopped any further state visits.It's pomp with a purpose against a backdrop of pageantry, photo ops and the jangle of a royal carriage ride. Even the paintings and items on view from the Royal Collection can be changed to set the right tone.For the first time it will be King Charles who will now be the host at Buckingham Palace, proposing the toast to the South African president, Cyril Ramaphosa.Charles was a guest at the state banquet in 1996 when Nelson Mandela paid a state visit, after post-apartheid South Africa had rejoined the Commonwealth.The new King will want to build his own bridges with the Commonwealth, sending a message about supporting diversity and multiculturalism.When he arrives, Mr Ramaphosa will be given a ceremonial welcome on Horse Guards Parade, and then invited to a state banquet hosted by the monarch. He is expected to spend the rest of their trip visiting Prime Minister Liz Truss, government ministers and leaders of the main political parties. But Mr Ramaphosa's visit is clouded by allegations of money laundering.The rolling scandal, which erupted in June, has seen Mr Ramaphosa accused of covering up of a robbery that took place at his private farm in February 2020.He has repeatedly denied the allegations and insists he will stand for a second term in the 2024 national elections as ANC leader and president. UNDER THE SKIN: Where is the most painful place to get a tattoo?TEMPTING TEASERS: Step into the meticulously managed marketing zone of supermarkets...\""
      ]
     },
     "execution_count": 18,
     "metadata": {},
     "output_type": "execute_result"
    }
   ],
   "source": [
    "df.iloc[25].text"
   ]
  },
  {
   "cell_type": "code",
   "execution_count": 46,
   "metadata": {},
   "outputs": [],
   "source": [
    "#create jsonl format input from sentences\n",
    "jsonl = []\n",
    "for index in df.index:\n",
    "    jsonl.append({\"text\":df.text.iloc[index], \"paper\":df.paper.iloc[index], \"author\":df.author.iloc[index], \"title\":df.title.iloc[index]})\n",
    "\n",
    "#turn to jsonl file\n",
    "with open(\"full_articles.jsonl\", 'w') as f:\n",
    "    for item in jsonl:\n",
    "        f.write(json.dumps(item) + \"\\n\")"
   ]
  }
 ],
 "metadata": {
  "kernelspec": {
   "display_name": "Python 3.10.7 ('coref': venv)",
   "language": "python",
   "name": "python3"
  },
  "language_info": {
   "codemirror_mode": {
    "name": "ipython",
    "version": 3
   },
   "file_extension": ".py",
   "mimetype": "text/x-python",
   "name": "python",
   "nbconvert_exporter": "python",
   "pygments_lexer": "ipython3",
   "version": "3.10.8"
  },
  "orig_nbformat": 4,
  "vscode": {
   "interpreter": {
    "hash": "fdccd49880aec91fb83b1cd01d5a81b6783a504aa09cc31d0cfeac7cb2107159"
   }
  }
 },
 "nbformat": 4,
 "nbformat_minor": 2
}
