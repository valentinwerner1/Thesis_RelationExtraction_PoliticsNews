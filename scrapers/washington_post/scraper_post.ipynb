{
 "cells": [
  {
   "cell_type": "code",
   "execution_count": null,
   "metadata": {},
   "outputs": [],
   "source": [
    "https://feeds.washingtonpost.com/rss/world?itid=lk_inline_manual_42"
   ]
  },
  {
   "cell_type": "code",
   "execution_count": 1,
   "metadata": {},
   "outputs": [],
   "source": [
    "# In[1]:\n",
    "#General libraries\n",
    "import numpy as np\n",
    "import pandas as pd\n",
    "import sys\n",
    "import os \n",
    "\n",
    "#Libraries for parsing and getting text from websites\n",
    "from codecs import xmlcharrefreplace_errors\n",
    "import feedparser\n",
    "import urllib.parse\n",
    "import requests\n",
    "from bs4 import BeautifulSoup\n",
    "import ssl\n",
    "\n",
    "#Loading extras for parsing\n",
    "ssl._create_default_https_context = ssl._create_unverified_context #avoiding SSL errors\n",
    "headers =  {\"User-Agent\": \"Mozilla/5.0 (Windows NT 10.0; Win64; x64; rv:100.0) Gecko/20100101 Firefox/100.0\"} #avoiding some bot-shields\n",
    "\n",
    "\n",
    "# In[2]:\n",
    "\n",
    "#Functions for scraping\n",
    "def scrape_text(link, name, attrs):#, number):\n",
    "    \"\"\"retrieves text from the respective article; input is based on data which is received from rss feed\"\"\"\n",
    "    response = requests.get(link, headers = headers) \n",
    "    soup = BeautifulSoup(response.content, \"html.parser\")\n",
    "    content = soup.find(name, attrs)#[number]\n",
    "    return content.text\n",
    "\n",
    "def full_scrape_post():\n",
    "    \"\"\"iterates through entire available worlds news RSS feeds from guardian,\n",
    "    will extract text if not extracted yet\"\"\"\n",
    "    feed = feedparser.parse(\"https://feeds.washingtonpost.com/rss/world?itid=lk_inline_manual_42\")\n",
    "    entry = feed.entries"
   ]
  },
  {
   "cell_type": "code",
   "execution_count": 2,
   "metadata": {},
   "outputs": [],
   "source": [
    "feed = feedparser.parse(\"https://feeds.washingtonpost.com/rss/world?itid=lk_inline_manual_42\")\n",
    "entry = feed.entries"
   ]
  },
  {
   "cell_type": "code",
   "execution_count": 4,
   "metadata": {},
   "outputs": [
    {
     "data": {
      "text/plain": [
       "33"
      ]
     },
     "execution_count": 4,
     "metadata": {},
     "output_type": "execute_result"
    }
   ],
   "source": [
    "len(entry)"
   ]
  },
  {
   "cell_type": "code",
   "execution_count": 6,
   "metadata": {},
   "outputs": [
    {
     "data": {
      "text/plain": [
       "'https://www.washingtonpost.com/world/2022/10/05/russia-ukraine-war-latest-updates/?utm_source=rss&utm_medium=referral&utm_campaign=wp_world'"
      ]
     },
     "execution_count": 6,
     "metadata": {},
     "output_type": "execute_result"
    }
   ],
   "source": [
    "entry[0][\"link\"]"
   ]
  },
  {
   "cell_type": "code",
   "execution_count": null,
   "metadata": {},
   "outputs": [],
   "source": []
  },
  {
   "cell_type": "code",
   "execution_count": 1,
   "metadata": {},
   "outputs": [],
   "source": [
    "# In[1]:\n",
    "#General libraries\n",
    "import numpy as np\n",
    "import pandas as pd\n",
    "import sys\n",
    "import os \n",
    "\n",
    "#Libraries for parsing and getting text from websites\n",
    "from codecs import xmlcharrefreplace_errors\n",
    "import feedparser\n",
    "import urllib.parse\n",
    "import requests\n",
    "from bs4 import BeautifulSoup\n",
    "import ssl\n",
    "\n",
    "#Loading extras for parsing\n",
    "ssl._create_default_https_context = ssl._create_unverified_context #avoiding SSL errors\n",
    "headers =  {\"User-Agent\": \"Mozilla/5.0 (Windows NT 10.0; Win64; x64; rv:100.0) Gecko/20100101 Firefox/100.0\"} #avoiding some bot-shields"
   ]
  },
  {
   "cell_type": "code",
   "execution_count": 2,
   "metadata": {},
   "outputs": [],
   "source": [
    "#Functions for scraping\n",
    "def scrape_text(link, name, attrs):#, number):\n",
    "    \"\"\"retrieves text from the respective article; input is based on data which is received from rss feed\"\"\"\n",
    "    response = requests.get(link, headers = headers) \n",
    "    soup = BeautifulSoup(response.content, \"html.parser\")\n",
    "    content = soup.find(name, attrs)#[number]\n",
    "    return content.text\n",
    "\n",
    "def full_scrape_post():\n",
    "    \"\"\"iterates through entire available worlds news RSS feeds from guardian,\n",
    "    will extract text if not extracted yet\"\"\"\n",
    "    feed = feedparser.parse(\"https://feeds.washingtonpost.com/rss/world?itid=lk_inline_manual_42\")\n",
    "    entry = feed.entries\n",
    "\n",
    "    articles = []\n",
    "\n",
    "    for item in entry:\n",
    "        try:\n",
    "            title = item[\"title\"]\n",
    "            author = item[\"author\"]\n",
    "            if title in df.title.to_list(): \n",
    "                print(\"article received already\")\n",
    "            else:\n",
    "                response = requests.get(item[\"link\"], headers = headers) \n",
    "                soup = BeautifulSoup(response.content, \"html.parser\")\n",
    "                content = soup.find_all(\"div\", \"article-body\")#[number]\n",
    "                text = \"\"\n",
    "                for para in content:\n",
    "                    text = text + \" \" + para.text\n",
    "                if text == \"\":\n",
    "                    print(f\"could not scrape article {title}\")\n",
    "                else: articles.append([text, author, title])\n",
    "                \n",
    "        except AttributeError:\n",
    "            print(f\"scraper did not work for {item['title']}\")\n",
    "\n",
    "    return articles"
   ]
  },
  {
   "cell_type": "code",
   "execution_count": 3,
   "metadata": {},
   "outputs": [],
   "source": [
    "    feed = feedparser.parse(\"https://feeds.washingtonpost.com/rss/world?itid=lk_inline_manual_42\")\n",
    "    entry = feed.entries"
   ]
  },
  {
   "cell_type": "code",
   "execution_count": 12,
   "metadata": {},
   "outputs": [],
   "source": [
    "link = entry[1][\"link\"]"
   ]
  },
  {
   "cell_type": "code",
   "execution_count": 27,
   "metadata": {},
   "outputs": [],
   "source": [
    "response = requests.get(link, headers = headers) \n",
    "soup = BeautifulSoup(response.content, \"html.parser\")\n",
    "content = soup.find_all(\"div\", \"article-body\")\n",
    "texts = []\n",
    "\n",
    "para = \"\"\n",
    "for text in content:\n",
    "    if text.text != \"\":\n",
    "        para = para + \" \" + text.text \n",
    "    else: \n",
    "        texts.append(para)\n",
    "        para = \"\""
   ]
  },
  {
   "cell_type": "code",
   "execution_count": 28,
   "metadata": {},
   "outputs": [
    {
     "data": {
      "text/plain": [
       "[' IZYUM, Ukraine — Soon after Russian forces took her prisoner, the 52-year-old woman picked up a nail and carved her name into a brick wall. A-L-L-A, she wrote. Below, she scratched how many days she had been held in the shed outside a medical clinic in her hometown. Above, she wrote in simple words what she had endured in captivity: ELECTRICAL SHOCK. UNDRESS. PAINFUL. She hoped the markings would one day serve as clues for her son about what she expected to be the final days of her life. “I thought if my son would look for me, he could find these writings and understand that I was there and died there,” she later recalled. Alla, 52, claims Russian forces brutalized her and her husband for 10 days during the occupation of Izyum. (Video: Whitney Shefte, Jon Gerberg/The Washington Post) Some of Alla’s writing is still visible in the small shed in Izyum, the city in northeast Ukraine, where she said occupying Russian forces tortured, raped and beat her while she was held captive for 10 days in July. The men who detained her, Alla said, were seeking information about her son, who works for Ukraine’s internal security service, the SBU, and about her own work at the region’s gas company. Her husband, who worked at the same company, was also detained and tortured on the clinic’s property.',\n",
       " ' Alla’s account of her treatment at the hands of Russian forces adds to a growing body of evidence of alleged war crimes committed by Russian troops and officials in the parts of Ukraine they occupied this year, after President Vladimir Putin ordered an invasion and launched a full-scale war. Russian forces have left a trail of destruction and cruelty across Ukraine, including in Bucha, where they were accused of atrocities. New reports of barbarity are emerging as Ukraine’s military liberates more towns following months of occupation, and as authorities and rights groups try to document these acts of inhumanity in hopes of one day bringing perpetrators to justice, perhaps before an international tribunal. Advertisement',\n",
       " ' Russia controlled Izyum, a small city in the northeast Kharkiv region, from March through September, when a surprise Ukrainian counteroffensive forced Russian troops and local collaborators to rapidly retreat. In the weeks since Ukraine retook its territory, horrific details have emerged about some of the most grievous offenses Russian forces allegedly committed during their violent occupation. Civilians who survived the occupation have recounted other instances of rape and torture at the hands of Russian and Russia-backed troops. Some of the hundreds of civilian bodies retrieved from a mass burial site in Izyum showed signs of torture, Ukrainian officials said. Alla shared her account with The Washington Post on the condition only her first name be used. The Post is also not naming her husband, or son, to protect her identity. Torture, killings, abductions: Russian retreat from Izyum reveals horrors Washington Post journalists twice visited the site where she was imprisoned, once independently and once with Alla and her husband. Her account was consistent with what Post journalists found inside, including her name and other details still scrawled on the wall. It was impossible to independently verify every detail of Alla’s case. But in an investigation into torture in Izyum, Human Rights Watch spoke to eight other men and one other woman who were detained at the clinic during the Russian occupation, said Belkis Wille, senior researcher in the group’s conflict and crisis division. The woman told the group she was threatened with rape but not sexually assaulted. A man who was held in a garage at the clinic during the same time as Alla reported that he heard women’s screams, and soldiers talking about denying food to a prisoner because she had not performed a sex act, Wille said. Alla also showed The Post journalists a video of herself after she returned home, in which she appeared gaunt and disheveled.',\n",
       " ' Harassment The harassment started in mid-March. After surviving heavy shelling, Alla braved a pedestrian bridge across the river that runs through Izyum to check on her son’s empty apartment near the city center. On her way, she found a scene of ruin: Corpses lay on the sides of the road, and there were destroyed buildings everywhere she looked. Her son’s neighbors told her that Russians had visited the building, asked about her son, who was working elsewhere in the Kharkiv region, and searched his apartment. The men “started taking out everything,” she recalled, including his coffee machine, CD player, television and washing machine. Fearing all his belongings would be looted, she moved what valuables were left to a friend’s house nearby. That same month, Russian forces began visiting her and her husband at their home. First they said they were looking for weapons or wanted photos of her son, who was deployed for work outside of Izyum. Later they started searching her phone, interrogating her and her husband about whether their son was hiding in Izyum and insisting he should collaborate with Russia. Propaganda newspapers show how Russia promoted annexation in Kharkiv Soldiers also told them that her son’s neighbors had provided intelligence to them about their family. They were “threatening us all the time, telling me that if my son collaborated with them, they won’t touch us, everything will be good,” Alla said. “We lived in constant fear, but they didn’t touch us, didn’t torture us.” Like many other civilians, Alla and her husband knew they might be safer elsewhere but they feared leaving behind her elderly parents. Advertisement',\n",
       " ' Then the Russians’ demands escalated. The Russian-appointed mayor of Izyum and men who identified themselves as FSB agents repeatedly asked Alla to return to her job at the Kharkiv gas company. The gas supply was cut to the much of the city and Russian officials wanted to turn it back on. Alla insisted she would not return to work and that as a manager, she did not have the technical expertise they needed. When she finally visited her office, she found the door kicked in and her belongings turned upside down. The next day, on July 1 at 11 a.m., two cars pulled up outside their house — both emblazoned with the Russian “Z.” About 10 men jumped out of the vehicles, including those who had visited them before. “ ‘You were saying you wouldn’t go to work?’ ” Alla recalled them shouting. “ ‘You went to the gas bureau and bossed around there? Now, get ready.’ ” The men placed bags over Alla and her husband’s heads, tied their hands with duct tape and shoved them into the trunks of each car. With her eyes covered, Alla did not know where she was being taken. Then the cars stopped and the soldiers jumped out. “ ‘We’ll beat the Ukrainian out of you here, you won’t come out of here alive,’ ” they told her. “ ‘Either you accept our rules and acknowledge that you live in Russia or you’ll go missing. No one will find you, ever.’ ” Then they pushed Alla through a door, untied her hands and took off the bag covering her eyes. She was inside a small, dark shed with a cement floor. The men locked the door and said they would be back soon.',\n",
       " ' Torture An hour later, six men returned to the shed, placed the bag back over her head and brought her to another building nearby, where they demanded she undress. When she refused, “they forcefully undressed me, laid me on [the] table and started touching me, everywhere,” she said. They laughed as they groped her. “Then they were throwing me on my knees, screaming, ‘Oh you are Ukrainian. Do you know what we do with Ukrainian women and mothers of Ukraine’s Security Service officers?’ ” Alla said. “ ‘We tie them up naked on the main square and send pictures of them to their sons so they would see what we can do to their parents.’ ” The commander made rules about how Alla should behave, threatening to beat her if she disobeyed: When the men entered the shed, she should be naked from the waist down and keep her back turned to them. She initially refused. “ ‘What do you mean you would not take your clothes off? Do you think you can argue with us?’ ” she recalled the commander saying. “I started crying and screaming, but he took my clothes off and asked his soldiers who would be the first to rape me.” The assaults — carried out by the commander — usually began after 4 p.m., when the men returned to the clinic. For three days, the commander forcibly touched her and forced her to perform oral sex on him while holding her husband hostage in a garage nearby. Alla said she could hear her husband cry out as the troops beat him, and overheard the commander tell “my husband that he raped me, and that we both enjoyed it.”',\n",
       " ' The shed was so stuffy that she found it difficult to breathe and had to remove a loose brick from the wall to try to get fresh air. She begged the soldiers for anti-anxiety medication, which they provided. They also gave her two buckets — one to use as a toilet and the other for porridge and stale bread. Through a hole in the wall, she once saw the men escorting her husband back to the garage, beaten so badly he could barely stand. “I was determined to commit suicide. There were some spikes inside the barn, and I had a bra so I thought of hanging myself,” she said. “It did not work out. I started crying. I was crying all the time. They heard me crying and came back, and started harassing me again.” Kharkiv children went to summer camp in Russia. They never came back. As the days passed, the men continued to demand information from her about the gas supply in Izyum — at one point shocking her feet with electricity and laughing as she screamed. “I cannot express what kind of pain it was,” she said. The commander also asked about money on her bank card and in her house, which she later realized they stole, she said. For days as they questioned her, the men accused her of lying about even basic information. In the end, after demanding details from her about how to extract and distribute natural gas in Izyum, the Russians said they were satisfied with her answers and that she and her husband would both be released — a decision the couple still does not fully understand. Advertisement',\n",
       " ' On July 10, they were blindfolded and dumped at a gas station on the side of the road. After taking some time to heal, they fled through Russia, Belarus and Poland until they reached a part of Ukraine not occupied by Russia, where Alla received gynecological treatment due to her repeated assaults. In September, days after Ukraine liberated Izyum, Alla and her husband returned to their hometown for the first time. With the Russians gone, their son has also been able to return. Leaning up against the wall outside their home, Alla turned to her husband. “Did you believe them when they said they were raping me?” she asked him. He paused. “I didn’t know what to believe,” he responded. He said he could only hope it wasn’t true and was some form of psychological torture the soldiers were using against him instead. Two days later, they returned to the abandoned clinic where they were tortured just two months before.']"
      ]
     },
     "execution_count": 28,
     "metadata": {},
     "output_type": "execute_result"
    }
   ],
   "source": [
    "texts"
   ]
  },
  {
   "cell_type": "code",
   "execution_count": 26,
   "metadata": {},
   "outputs": [
    {
     "data": {
      "text/plain": [
       "['IZYUM, Ukraine — Soon after Russian forces took her prisoner, the 52-year-old woman picked up a nail and carved her name into a brick wall.',\n",
       " 'A-L-L-A, she wrote.',\n",
       " 'Below, she scratched how many days she had been held in the shed outside a medical clinic in her hometown. Above, she wrote in simple words what she had endured in captivity: ELECTRICAL SHOCK. UNDRESS. PAINFUL.',\n",
       " 'She hoped the markings would one day serve as clues for her son about what she expected to be the final days of her life.',\n",
       " '“I thought if my son would look for me, he could find these writings and understand that I was there and died there,” she later recalled.',\n",
       " 'Alla, 52, claims Russian forces brutalized her and her husband for 10 days during the occupation of Izyum. (Video: Whitney Shefte, Jon Gerberg/The Washington Post)',\n",
       " 'Some of Alla’s writing is still visible in the small shed in Izyum, the city in northeast Ukraine, where she said occupying Russian forces tortured, raped and beat her while she was held captive for 10 days in July.',\n",
       " 'The men who detained her, Alla said, were seeking information about her son, who works for Ukraine’s internal security service, the SBU, and about her own work at the region’s gas company. Her husband, who worked at the same company, was also detained and tortured on the clinic’s property.',\n",
       " '',\n",
       " 'Alla’s account of her treatment at the hands of Russian forces adds to a growing body of evidence of alleged war crimes committed by Russian troops and officials in the parts of Ukraine they occupied this year, after President Vladimir Putin ordered an invasion and launched a full-scale war.',\n",
       " 'Russian forces have left a trail of destruction and cruelty across Ukraine, including in Bucha, where they were accused of atrocities. New reports of barbarity are emerging as Ukraine’s military liberates more towns following months of occupation, and as authorities and rights groups try to document these acts of inhumanity in hopes of one day bringing perpetrators to justice, perhaps before an international tribunal.',\n",
       " 'Advertisement',\n",
       " '',\n",
       " 'Russia controlled Izyum, a small city in the northeast Kharkiv region, from March through September, when a surprise Ukrainian counteroffensive forced Russian troops and local collaborators to rapidly retreat. In the weeks since Ukraine retook its territory, horrific details have emerged about some of the most grievous offenses Russian forces allegedly committed during their violent occupation.',\n",
       " 'Civilians who survived the occupation have recounted other instances of rape and torture at the hands of Russian and Russia-backed troops. Some of the hundreds of civilian bodies retrieved from a mass burial site in Izyum showed signs of torture, Ukrainian officials said.',\n",
       " 'Alla shared her account with The Washington Post on the condition only her first name be used. The Post is also not naming her husband, or son, to protect her identity.',\n",
       " 'Torture, killings, abductions: Russian retreat from Izyum reveals horrors',\n",
       " 'Washington Post journalists twice visited the site where she was imprisoned, once independently and once with Alla and her husband. Her account was consistent with what Post journalists found inside, including her name and other details still scrawled on the wall.',\n",
       " 'It was impossible to independently verify every detail of Alla’s case. But in an investigation into torture in Izyum, Human Rights Watch spoke to eight other men and one other woman who were detained at the clinic during the Russian occupation, said Belkis Wille, senior researcher in the group’s conflict and crisis division. The woman told the group she was threatened with rape but not sexually assaulted. A man who was held in a garage at the clinic during the same time as Alla reported that he heard women’s screams, and soldiers talking about denying food to a prisoner because she had not performed a sex act, Wille said.',\n",
       " 'Alla also showed The Post journalists a video of herself after she returned home, in which she appeared gaunt and disheveled.',\n",
       " '',\n",
       " 'Harassment',\n",
       " 'The harassment started in mid-March.',\n",
       " 'After surviving heavy shelling, Alla braved a pedestrian bridge across the river that runs through Izyum to check on her son’s empty apartment near the city center. On her way, she found a scene of ruin: Corpses lay on the sides of the road, and there were destroyed buildings everywhere she looked.',\n",
       " 'Her son’s neighbors told her that Russians had visited the building, asked about her son, who was working elsewhere in the Kharkiv region, and searched his apartment. The men “started taking out everything,” she recalled, including his coffee machine, CD player, television and washing machine. Fearing all his belongings would be looted, she moved what valuables were left to a friend’s house nearby.',\n",
       " 'That same month, Russian forces began visiting her and her husband at their home. First they said they were looking for weapons or wanted photos of her son, who was deployed for work outside of Izyum. Later they started searching her phone, interrogating her and her husband about whether their son was hiding in Izyum and insisting he should collaborate with Russia.',\n",
       " 'Propaganda newspapers show how Russia promoted annexation in Kharkiv',\n",
       " 'Soldiers also told them that her son’s neighbors had provided intelligence to them about their family. They were “threatening us all the time, telling me that if my son collaborated with them, they won’t touch us, everything will be good,” Alla said. “We lived in constant fear, but they didn’t touch us, didn’t torture us.”',\n",
       " 'Like many other civilians, Alla and her husband knew they might be safer elsewhere but they feared leaving behind her elderly parents.',\n",
       " 'Advertisement',\n",
       " '',\n",
       " 'Then the Russians’ demands escalated.',\n",
       " 'The Russian-appointed mayor of Izyum and men who identified themselves as FSB agents repeatedly asked Alla to return to her job at the Kharkiv gas company. The gas supply was cut to the much of the city and Russian officials wanted to turn it back on. Alla insisted she would not return to work and that as a manager, she did not have the technical expertise they needed. When she finally visited her office, she found the door kicked in and her belongings turned upside down.',\n",
       " 'The next day, on July 1 at 11 a.m., two cars pulled up outside their house — both emblazoned with the Russian “Z.” About 10 men jumped out of the vehicles, including those who had visited them before. “ ‘You were saying you wouldn’t go to work?’ ” Alla recalled them shouting. “ ‘You went to the gas bureau and bossed around there? Now, get ready.’ ”',\n",
       " 'The men placed bags over Alla and her husband’s heads, tied their hands with duct tape and shoved them into the trunks of each car.',\n",
       " 'With her eyes covered, Alla did not know where she was being taken. Then the cars stopped and the soldiers jumped out. “ ‘We’ll beat the Ukrainian out of you here, you won’t come out of here alive,’ ” they told her. “ ‘Either you accept our rules and acknowledge that you live in Russia or you’ll go missing. No one will find you, ever.’ ”',\n",
       " 'Then they pushed Alla through a door, untied her hands and took off the bag covering her eyes. She was inside a small, dark shed with a cement floor. The men locked the door and said they would be back soon.',\n",
       " '',\n",
       " 'Torture',\n",
       " 'An hour later, six men returned to the shed, placed the bag back over her head and brought her to another building nearby, where they demanded she undress. When she refused, “they forcefully undressed me, laid me on [the] table and started touching me, everywhere,” she said.',\n",
       " 'They laughed as they groped her. “Then they were throwing me on my knees, screaming, ‘Oh you are Ukrainian. Do you know what we do with Ukrainian women and mothers of Ukraine’s Security Service officers?’ ” Alla said. “ ‘We tie them up naked on the main square and send pictures of them to their sons so they would see what we can do to their parents.’ ”',\n",
       " 'The commander made rules about how Alla should behave, threatening to beat her if she disobeyed: When the men entered the shed, she should be naked from the waist down and keep her back turned to them.',\n",
       " 'She initially refused. “ ‘What do you mean you would not take your clothes off? Do you think you can argue with us?’ ” she recalled the commander saying. “I started crying and screaming, but he took my clothes off and asked his soldiers who would be the first to rape me.”',\n",
       " 'The assaults — carried out by the commander — usually began after 4 p.m., when the men returned to the clinic.',\n",
       " 'For three days, the commander forcibly touched her and forced her to perform oral sex on him while holding her husband hostage in a garage nearby. Alla said she could hear her husband cry out as the troops beat him, and overheard the commander tell “my husband that he raped me, and that we both enjoyed it.”',\n",
       " '',\n",
       " 'The shed was so stuffy that she found it difficult to breathe and had to remove a loose brick from the wall to try to get fresh air. She begged the soldiers for anti-anxiety medication, which they provided. They also gave her two buckets — one to use as a toilet and the other for porridge and stale bread. Through a hole in the wall, she once saw the men escorting her husband back to the garage, beaten so badly he could barely stand.',\n",
       " '“I was determined to commit suicide. There were some spikes inside the barn, and I had a bra so I thought of hanging myself,” she said. “It did not work out. I started crying. I was crying all the time. They heard me crying and came back, and started harassing me again.”',\n",
       " 'Kharkiv children went to summer camp in Russia. They never came back.',\n",
       " 'As the days passed, the men continued to demand information from her about the gas supply in Izyum — at one point shocking her feet with electricity and laughing as she screamed. “I cannot express what kind of pain it was,” she said. The commander also asked about money on her bank card and in her house, which she later realized they stole, she said.',\n",
       " 'For days as they questioned her, the men accused her of lying about even basic information. In the end, after demanding details from her about how to extract and distribute natural gas in Izyum, the Russians said they were satisfied with her answers and that she and her husband would both be released — a decision the couple still does not fully understand.',\n",
       " 'Advertisement',\n",
       " '',\n",
       " 'On July 10, they were blindfolded and dumped at a gas station on the side of the road. After taking some time to heal, they fled through Russia, Belarus and Poland until they reached a part of Ukraine not occupied by Russia, where Alla received gynecological treatment due to her repeated assaults.',\n",
       " 'In September, days after Ukraine liberated Izyum, Alla and her husband returned to their hometown for the first time. With the Russians gone, their son has also been able to return. Leaning up against the wall outside their home, Alla turned to her husband.',\n",
       " '“Did you believe them when they said they were raping me?” she asked him.',\n",
       " 'He paused. “I didn’t know what to believe,” he responded. He said he could only hope it wasn’t true and was some form of psychological torture the soldiers were using against him instead.',\n",
       " 'Two days later, they returned to the abandoned clinic where they were tortured just two months before.',\n",
       " '',\n",
       " 'Inside the main clinic building, where Alla and other detainees were tortured, the German words “Truth Sets You Free” were scrawled on the wall in what appeared to be a nod to the Nazis’ use of “Work Sets You Free” — the slogan on the gate to Auschwitz and other Nazi concentration camps.',\n",
       " 'Alla stepped into the shed where she was held, her eyes scanning the wall to look for the markings she left — some now scratched over in what she thinks was an effort to erase the truth of what the Russian forces did to her. She pulled back the covering on the boarded up window. She found the sedative packets on the floor. She pointed to the corner where she moved a brick to get light and fresh air — then the metal rods where she tried to hang herself.',\n",
       " 'In the garage where her husband was held, Alla found the filthy yellow foam mattress she had slept on, and the dirty clothes she used as a pillow.',\n",
       " 'Her ordeal was over but the trauma was not.',\n",
       " '“We are Ukrainians. We were always for Ukraine,” she said. “For that, we were punished.”',\n",
       " 'Sergii Mukaieliants contributed to this report.']"
      ]
     },
     "execution_count": 26,
     "metadata": {},
     "output_type": "execute_result"
    }
   ],
   "source": [
    "b = [text.text for text in content]\n",
    "b"
   ]
  },
  {
   "cell_type": "code",
   "execution_count": 24,
   "metadata": {},
   "outputs": [
    {
     "data": {
      "text/plain": [
       "[<div class=\"article-body grid-center grid-body\" data-qa=\"article-body\"><p class=\"wpds-c-cYdRxM wpds-c-cYdRxM-iPJLV-css font-copy\" data-el=\"text\" data-qa=\"drop-cap-letter\">IZYUM, Ukraine — Soon after Russian forces took her prisoner, the 52-year-old woman picked up a nail and carved her name into a brick wall.</p></div>,\n",
       " <div class=\"article-body grid-center grid-body\" data-qa=\"article-body\"><p class=\"wpds-c-cYdRxM wpds-c-cYdRxM-iPJLV-css font-copy\" data-el=\"text\" data-qa=\"drop-cap-letter\">A-L-L-A, she wrote.</p></div>,\n",
       " <div class=\"article-body grid-center grid-body\" data-qa=\"article-body\"><p class=\"wpds-c-cYdRxM wpds-c-cYdRxM-iPJLV-css font-copy\" data-el=\"text\" data-qa=\"drop-cap-letter\">Below, she scratched how many days she had been held in the shed outside a medical clinic in her hometown. Above, she wrote in simple words what she had endured in captivity: ELECTRICAL SHOCK. UNDRESS. PAINFUL.</p></div>,\n",
       " <div class=\"article-body grid-center grid-body\" data-qa=\"article-body\"><p class=\"wpds-c-cYdRxM wpds-c-cYdRxM-iPJLV-css font-copy\" data-el=\"text\" data-qa=\"drop-cap-letter\">She hoped the markings would one day serve as clues for her son about what she expected to be the final days of her life.</p></div>,\n",
       " <div class=\"article-body grid-center grid-body\" data-qa=\"article-body\"><p class=\"wpds-c-cYdRxM wpds-c-cYdRxM-iPJLV-css font-copy\" data-el=\"text\" data-qa=\"drop-cap-letter\">“I thought if my son would look for me, he could find these writings and understand that I was there and died there,” she later recalled.</p></div>,\n",
       " <div class=\"article-body grid-center grid-body\" data-qa=\"article-body\"><div class=\"\" data-qa=\"article-video\"><div><div data-testid=\"video-wrapper\"><figure class=\"pt-xs mb-md mr-auto-ns ml-auto-ns hide-for-print ml-neg-gutter mr-neg-gutter\"><div class=\"w-100 aspect-custom\" style=\"overflow:hidden;background-position:center;background-repeat:no-repeat;background-color:rgb(245, 245, 245);background-image:url(https://www.washingtonpost.com/player/prod/img/video-thumbnail-bg.png);background-size:contain;--aspect-height:0.5625;--aspect-width:1\"></div><figcaption><div class=\"mt-xs mr-auto-ns ml-auto-ns left gray-dark font--subhead font-xxxs ml-gutter mr-gutter\" data-qa=\"video-caption\">Alla, 52, claims Russian forces brutalized her and her husband for 10 days during the occupation of Izyum. (Video: Whitney Shefte, Jon Gerberg/The Washington Post)</div></figcaption></figure></div></div></div></div>,\n",
       " <div class=\"article-body grid-center grid-body\" data-qa=\"article-body\"><p class=\"wpds-c-cYdRxM wpds-c-cYdRxM-iPJLV-css font-copy\" data-el=\"text\" data-qa=\"drop-cap-letter\">Some of Alla’s writing is still visible in the small shed in Izyum, the city in northeast Ukraine, where she said occupying Russian forces tortured, raped and beat her while she was held captive for 10 days in July.</p></div>,\n",
       " <div class=\"article-body grid-center grid-body\" data-qa=\"article-body\"><p class=\"wpds-c-cYdRxM wpds-c-cYdRxM-iPJLV-css font-copy\" data-el=\"text\" data-qa=\"drop-cap-letter\">The men who detained her, Alla said, were seeking information about her son, who works for Ukraine’s internal security service, the SBU, and about her own work at the region’s gas company. Her husband, who worked at the same company, was also detained and tortured on the clinic’s property.</p></div>,\n",
       " <div class=\"article-body grid-center grid-body\" data-qa=\"article-body\"></div>,\n",
       " <div class=\"article-body grid-center grid-body\" data-qa=\"article-body\"><p class=\"wpds-c-cYdRxM wpds-c-cYdRxM-iPJLV-css font-copy\" data-el=\"text\" data-qa=\"drop-cap-letter\">Alla’s account of her treatment at the hands of Russian forces adds to a growing body of evidence of alleged war crimes committed by Russian troops and officials in the parts of Ukraine they occupied this year, after President Vladimir Putin ordered an invasion and launched a full-scale war.</p></div>,\n",
       " <div class=\"article-body grid-center grid-body\" data-qa=\"article-body\"><p class=\"wpds-c-cYdRxM wpds-c-cYdRxM-iPJLV-css font-copy\" data-el=\"text\" data-qa=\"drop-cap-letter\">Russian forces have left a trail of destruction and cruelty across Ukraine, including in <a href=\"https://www.washingtonpost.com/world/2022/04/21/bucha-ukraine-russia-war-hrw-report/?itid=lk_inline_manual_10\" target=\"_blank\">Bucha</a>, where they were accused of atrocities. New reports of barbarity are emerging as Ukraine’s military liberates more towns following months of occupation, and as authorities and rights groups try to document these acts of inhumanity in hopes of one day bringing perpetrators to justice, perhaps before an international tribunal.</p></div>,\n",
       " <div class=\"article-body grid-full-bleed\" data-qa=\"article-body\"><div class=\"cb dn db-ns\" data-qa=\"article-body-ad\"><div aria-hidden=\"true\" class=\"hide-for-print relative flex justify-center content-box items-center b bh mb-md mt-none pt-lg pb-lg\" style=\"min-height:250px;border-top-color:;border-bottom-color:\"><div class=\"center absolute w-100 border-box\" style=\"top:\"><div class=\"dib gray-dark pl-xs pr-xs font-sans-serif light font-xxxxs lh-md\" style=\"--primary-border-color:\"></div></div><div class=\"w-100 h-100 absolute flex flex-column justify-center border-box bg-offwhite\" data-testid=\"placeholder-box\" style=\"width:300px;height:250px\"><div class=\"flex flex-column justify-center font-sans-serif center font-xxs light gray-dark lh-md\"><div>Advertisement</div></div></div></div></div></div>,\n",
       " <div class=\"article-body grid-full-bleed\" data-qa=\"article-body\"><div class=\"cb db dn-ns\" data-qa=\"article-body-ad\"><div aria-hidden=\"true\" class=\"hide-for-print relative flex justify-center content-box items-center b bh mb-md mt-sm pt-sm pb-sm\" style=\"min-height:250px;border-top-color:;border-bottom-color:\"><div class=\"center absolute w-100 border-box\" style=\"top:\"><div class=\"dib gray-dark pl-xs pr-xs font-sans-serif light font-xxxxs lh-md\" style=\"--primary-border-color:\"></div></div><div class=\"w-100 h-100 absolute flex flex-column justify-center border-box bg-offwhite\" data-testid=\"placeholder-box\" style=\"width:300px;height:250px\"><div class=\"flex flex-column justify-center font-sans-serif center font-xxs light gray-dark lh-md\"></div></div></div></div></div>,\n",
       " <div class=\"article-body grid-center grid-body\" data-qa=\"article-body\"><p class=\"wpds-c-cYdRxM wpds-c-cYdRxM-iPJLV-css font-copy\" data-el=\"text\" data-qa=\"drop-cap-letter\">Russia controlled Izyum, a small city in the northeast Kharkiv region, from March through September, when a surprise Ukrainian counteroffensive forced Russian troops and local collaborators to rapidly retreat. In the weeks since Ukraine retook its territory, horrific details have emerged about some of the most grievous offenses Russian forces allegedly committed during their violent occupation.</p></div>,\n",
       " <div class=\"article-body grid-center grid-body\" data-qa=\"article-body\"><p class=\"wpds-c-cYdRxM wpds-c-cYdRxM-iPJLV-css font-copy\" data-el=\"text\" data-qa=\"drop-cap-letter\">Civilians who survived the occupation have recounted other instances of rape and torture at the hands of Russian and Russia-backed troops. Some of the hundreds of civilian bodies retrieved from a mass burial site in Izyum showed signs of torture, Ukrainian officials said.</p></div>,\n",
       " <div class=\"article-body grid-center grid-body\" data-qa=\"article-body\"><p class=\"wpds-c-cYdRxM wpds-c-cYdRxM-iPJLV-css font-copy\" data-el=\"text\" data-qa=\"drop-cap-letter\">Alla shared her account with The Washington Post on the condition only her first name be used. The Post is also not naming her husband, or son, to protect her identity.</p></div>,\n",
       " <div class=\"article-body grid-center grid-body\" data-qa=\"article-body\"><p><span class=\"font--article-body font-copy hide-for-print ma-0 pb-md db italic interstitial\"><a data-qa=\"interstitial-link\" href=\"https://www.washingtonpost.com/world/2022/09/16/izyum-grave-ukraine-horrors-rape/?itid=lk_interstitial_manual_15\">Torture, killings, abductions: Russian retreat from Izyum reveals horrors</a></span></p></div>,\n",
       " <div class=\"article-body grid-center grid-body\" data-qa=\"article-body\"><p class=\"wpds-c-cYdRxM wpds-c-cYdRxM-iPJLV-css font-copy\" data-el=\"text\" data-qa=\"drop-cap-letter\">Washington Post journalists twice visited the site where she was imprisoned, once independently and once with Alla and her husband. Her account was consistent with what Post journalists found inside, including her name and other details still scrawled on the wall.</p></div>,\n",
       " <div class=\"article-body grid-center grid-body\" data-qa=\"article-body\"><p class=\"wpds-c-cYdRxM wpds-c-cYdRxM-iPJLV-css font-copy\" data-el=\"text\" data-qa=\"drop-cap-letter\">It was impossible to independently verify every detail of Alla’s case. But in an investigation into torture in Izyum, Human Rights Watch spoke to eight other men and one other woman who were detained at the clinic during the Russian occupation, said Belkis Wille, senior researcher in the group’s conflict and crisis division. The woman told the group she was threatened with rape but not sexually assaulted. A man who was held in a garage at the clinic during the same time as Alla reported that he heard women’s screams, and soldiers talking about denying food to a prisoner because she had not performed a sex act, Wille said.</p></div>,\n",
       " <div class=\"article-body grid-center grid-body\" data-qa=\"article-body\"><p class=\"wpds-c-cYdRxM wpds-c-cYdRxM-iPJLV-css font-copy\" data-el=\"text\" data-qa=\"drop-cap-letter\">Alla also showed The Post journalists a video of herself after she returned home, in which she appeared gaunt and disheveled.</p></div>,\n",
       " <div class=\"article-body grid-full-bleed\" data-qa=\"article-body\"><div class=\"hide-for-print\" data-qa=\"article-image\"><div style=\"min-height:358px\"></div></div></div>,\n",
       " <div class=\"article-body grid-center grid-body\" data-qa=\"article-body\"><h3 class=\"pb-sm pt-md\" data-qa=\"article-header\" id=\"S3OZHX5WDRE6HBYSMGXO2WQDA4\"><div>Harassment</div></h3></div>,\n",
       " <div class=\"article-body grid-center grid-body\" data-qa=\"article-body\"><p class=\"wpds-c-cYdRxM wpds-c-cYdRxM-iPJLV-css font-copy\" data-el=\"text\" data-qa=\"drop-cap-letter\">The harassment started in mid-March.</p></div>,\n",
       " <div class=\"article-body grid-center grid-body\" data-qa=\"article-body\"><p class=\"wpds-c-cYdRxM wpds-c-cYdRxM-iPJLV-css font-copy\" data-el=\"text\" data-qa=\"drop-cap-letter\">After surviving heavy shelling, Alla braved a pedestrian bridge across the river that runs through Izyum to check on her son’s empty apartment near the city center. On her way, she found a scene of ruin: Corpses lay on the sides of the road, and there were destroyed buildings everywhere she looked.</p></div>,\n",
       " <div class=\"article-body grid-center grid-body\" data-qa=\"article-body\"><p class=\"wpds-c-cYdRxM wpds-c-cYdRxM-iPJLV-css font-copy\" data-el=\"text\" data-qa=\"drop-cap-letter\">Her son’s neighbors told her that Russians had visited the building, asked about her son, who was working elsewhere in the Kharkiv region, and searched his apartment. The men “started taking out everything,” she recalled, including his coffee machine, CD player, television and washing machine. Fearing all his belongings would be looted, she moved what valuables were left to a friend’s house nearby.</p></div>,\n",
       " <div class=\"article-body grid-center grid-body\" data-qa=\"article-body\"><p class=\"wpds-c-cYdRxM wpds-c-cYdRxM-iPJLV-css font-copy\" data-el=\"text\" data-qa=\"drop-cap-letter\">That same month, Russian forces began visiting her and her husband at their home. First they said they were looking for weapons or wanted photos of her son, who was deployed for work outside of Izyum. Later they started searching her phone, interrogating her and her husband about whether their son was hiding in Izyum and insisting he should collaborate with Russia.</p></div>,\n",
       " <div class=\"article-body grid-center grid-body\" data-qa=\"article-body\"><p><span class=\"font--article-body font-copy hide-for-print ma-0 pb-md db italic interstitial\"><a data-qa=\"interstitial-link\" href=\"https://www.washingtonpost.com/world/2022/09/24/izyum-russia-propaganda-newspapers-kharkiv/?itid=lk_interstitial_manual_25\">Propaganda newspapers show how Russia promoted annexation in Kharkiv</a></span></p></div>,\n",
       " <div class=\"article-body grid-center grid-body\" data-qa=\"article-body\"><p class=\"wpds-c-cYdRxM wpds-c-cYdRxM-iPJLV-css font-copy\" data-el=\"text\" data-qa=\"drop-cap-letter\">Soldiers also told them that her son’s neighbors had provided intelligence to them about their family. They were “threatening us all the time, telling me that if my son collaborated with them, they won’t touch us, everything will be good,” Alla said. “We lived in constant fear, but they didn’t touch us, didn’t torture us.”</p></div>,\n",
       " <div class=\"article-body grid-center grid-body\" data-qa=\"article-body\"><p class=\"wpds-c-cYdRxM wpds-c-cYdRxM-iPJLV-css font-copy\" data-el=\"text\" data-qa=\"drop-cap-letter\">Like many other civilians, Alla and her husband knew they might be safer elsewhere but they feared leaving behind her elderly parents.</p></div>,\n",
       " <div class=\"article-body grid-full-bleed\" data-qa=\"article-body\"><div class=\"cb dn db-ns\" data-qa=\"article-body-ad\"><div aria-hidden=\"true\" class=\"hide-for-print relative flex justify-center content-box items-center b bh mb-md mt-none pt-lg pb-lg\" style=\"min-height:250px;border-top-color:;border-bottom-color:\"><div class=\"center absolute w-100 border-box\" style=\"top:\"><div class=\"dib gray-dark pl-xs pr-xs font-sans-serif light font-xxxxs lh-md\" style=\"--primary-border-color:\"></div></div><div class=\"w-100 h-100 absolute flex flex-column justify-center border-box bg-offwhite\" data-testid=\"placeholder-box\" style=\"width:300px;height:250px\"><div class=\"flex flex-column justify-center font-sans-serif center font-xxs light gray-dark lh-md\"><div>Advertisement</div></div></div></div></div></div>,\n",
       " <div class=\"article-body grid-full-bleed\" data-qa=\"article-body\"><div class=\"cb db dn-ns\" data-qa=\"article-body-ad\"><div aria-hidden=\"true\" class=\"hide-for-print relative flex justify-center content-box items-center b bh mb-md mt-sm pt-sm pb-sm\" style=\"min-height:250px;border-top-color:;border-bottom-color:\"><div class=\"center absolute w-100 border-box\" style=\"top:\"><div class=\"dib gray-dark pl-xs pr-xs font-sans-serif light font-xxxxs lh-md\" style=\"--primary-border-color:\"></div></div><div class=\"w-100 h-100 absolute flex flex-column justify-center border-box bg-offwhite\" data-testid=\"placeholder-box\" style=\"width:300px;height:250px\"><div class=\"flex flex-column justify-center font-sans-serif center font-xxs light gray-dark lh-md\"></div></div></div></div></div>,\n",
       " <div class=\"article-body grid-center grid-body\" data-qa=\"article-body\"><p class=\"wpds-c-cYdRxM wpds-c-cYdRxM-iPJLV-css font-copy\" data-el=\"text\" data-qa=\"drop-cap-letter\">Then the Russians’ demands escalated.</p></div>,\n",
       " <div class=\"article-body grid-center grid-body\" data-qa=\"article-body\"><p class=\"wpds-c-cYdRxM wpds-c-cYdRxM-iPJLV-css font-copy\" data-el=\"text\" data-qa=\"drop-cap-letter\">The Russian-appointed mayor of Izyum and men who identified themselves as FSB agents repeatedly asked Alla to return to her job at the Kharkiv gas company. The gas supply was cut to the much of the city and Russian officials wanted to turn it back on. Alla insisted she would not return to work and that as a manager, she did not have the technical expertise they needed. When she finally visited her office, she found the door kicked in and her belongings turned upside down.</p></div>,\n",
       " <div class=\"article-body grid-center grid-body\" data-qa=\"article-body\"><p class=\"wpds-c-cYdRxM wpds-c-cYdRxM-iPJLV-css font-copy\" data-el=\"text\" data-qa=\"drop-cap-letter\">The next day, on July 1 at 11 a.m., two cars pulled up outside their house — both emblazoned with the Russian “Z.” About 10 men jumped out of the vehicles, including those who had visited them before. “ ‘You were saying you wouldn’t go to work?’ ” Alla recalled them shouting. “ ‘You went to the gas bureau and bossed around there? Now, get ready.’ ”</p></div>,\n",
       " <div class=\"article-body grid-center grid-body\" data-qa=\"article-body\"><p class=\"wpds-c-cYdRxM wpds-c-cYdRxM-iPJLV-css font-copy\" data-el=\"text\" data-qa=\"drop-cap-letter\">The men placed bags over Alla and her husband’s heads, tied their hands with duct tape and shoved them into the trunks of each car.</p></div>,\n",
       " <div class=\"article-body grid-center grid-body\" data-qa=\"article-body\"><p class=\"wpds-c-cYdRxM wpds-c-cYdRxM-iPJLV-css font-copy\" data-el=\"text\" data-qa=\"drop-cap-letter\">With her eyes covered, Alla did not know where she was being taken. Then the cars stopped and the soldiers jumped out. “ ‘We’ll beat the Ukrainian out of you here, you won’t come out of here alive,’ ” they told her. “ ‘Either you accept our rules and acknowledge that you live in Russia or you’ll go missing. No one will find you, ever.’ ”</p></div>,\n",
       " <div class=\"article-body grid-center grid-body\" data-qa=\"article-body\"><p class=\"wpds-c-cYdRxM wpds-c-cYdRxM-iPJLV-css font-copy\" data-el=\"text\" data-qa=\"drop-cap-letter\">Then they pushed Alla through a door, untied her hands and took off the bag covering her eyes. She was inside a small, dark shed with a cement floor. The men locked the door and said they would be back soon.</p></div>,\n",
       " <div class=\"article-body grid-full-bleed\" data-qa=\"article-body\"><div class=\"hide-for-print\" data-qa=\"article-image\"><div style=\"min-height:358px\"></div></div></div>,\n",
       " <div class=\"article-body grid-center grid-body\" data-qa=\"article-body\"><h3 class=\"pb-sm pt-md\" data-qa=\"article-header\" id=\"VNXKFSQSSJEO7BN7SLFECN2XDY\"><div>Torture</div></h3></div>,\n",
       " <div class=\"article-body grid-center grid-body\" data-qa=\"article-body\"><p class=\"wpds-c-cYdRxM wpds-c-cYdRxM-iPJLV-css font-copy\" data-el=\"text\" data-qa=\"drop-cap-letter\">An hour later, six men returned to the shed, placed the bag back over her head and brought her to another building nearby, where they demanded she undress. When she refused, “they forcefully undressed me, laid me on [the] table and started touching me, everywhere,” she said.</p></div>,\n",
       " <div class=\"article-body grid-center grid-body\" data-qa=\"article-body\"><p class=\"wpds-c-cYdRxM wpds-c-cYdRxM-iPJLV-css font-copy\" data-el=\"text\" data-qa=\"drop-cap-letter\">They laughed as they groped her. “Then they were throwing me on my knees, screaming, ‘Oh you are Ukrainian. Do you know what we do with Ukrainian women and mothers of Ukraine’s Security Service officers?’ ” Alla said. “ ‘We tie them up naked on the main square and send pictures of them to their sons so they would see what we can do to their parents.’ ”</p></div>,\n",
       " <div class=\"article-body grid-center grid-body\" data-qa=\"article-body\"><p class=\"wpds-c-cYdRxM wpds-c-cYdRxM-iPJLV-css font-copy\" data-el=\"text\" data-qa=\"drop-cap-letter\">The commander made rules about how Alla should behave, threatening to beat her if she disobeyed: When the men entered the shed, she should be naked from the waist down and keep her back turned to them.</p></div>,\n",
       " <div class=\"article-body grid-center grid-body\" data-qa=\"article-body\"><p class=\"wpds-c-cYdRxM wpds-c-cYdRxM-iPJLV-css font-copy\" data-el=\"text\" data-qa=\"drop-cap-letter\">She initially refused. “ ‘What do you mean you would not take your clothes off? Do you think you can argue with us?’ ” she recalled the commander saying. “I started crying and screaming, but he took my clothes off and asked his soldiers who would be the first to rape me.”</p></div>,\n",
       " <div class=\"article-body grid-center grid-body\" data-qa=\"article-body\"><p class=\"wpds-c-cYdRxM wpds-c-cYdRxM-iPJLV-css font-copy\" data-el=\"text\" data-qa=\"drop-cap-letter\">The assaults — carried out by the commander — usually began after 4 p.m., when the men returned to the clinic.</p></div>,\n",
       " <div class=\"article-body grid-center grid-body\" data-qa=\"article-body\"><p class=\"wpds-c-cYdRxM wpds-c-cYdRxM-iPJLV-css font-copy\" data-el=\"text\" data-qa=\"drop-cap-letter\">For three days, the commander forcibly touched her and forced her to perform oral sex on him while holding her husband hostage in a garage nearby. Alla said she could hear her husband cry out as the troops beat him, and overheard the commander tell “my husband that he raped me, and that we both enjoyed it.”</p></div>,\n",
       " <div class=\"article-body grid-full-bleed\" data-qa=\"article-body\"><div class=\"hide-for-print\" data-qa=\"article-image\"><div style=\"min-height:358px\"></div></div></div>,\n",
       " <div class=\"article-body grid-center grid-body\" data-qa=\"article-body\"><p class=\"wpds-c-cYdRxM wpds-c-cYdRxM-iPJLV-css font-copy\" data-el=\"text\" data-qa=\"drop-cap-letter\">The shed was so stuffy that she found it difficult to breathe and had to remove a loose brick from the wall to try to get fresh air. She begged the soldiers for anti-anxiety medication, which they provided. They also gave her two buckets — one to use as a toilet and the other for porridge and stale bread. Through a hole in the wall, she once saw the men escorting her husband back to the garage, beaten so badly he could barely stand.</p></div>,\n",
       " <div class=\"article-body grid-center grid-body\" data-qa=\"article-body\"><p class=\"wpds-c-cYdRxM wpds-c-cYdRxM-iPJLV-css font-copy\" data-el=\"text\" data-qa=\"drop-cap-letter\">“I was determined to commit suicide. There were some spikes inside the barn, and I had a bra so I thought of hanging myself,” she said. “It did not work out. I started crying. I was crying all the time. They heard me crying and came back, and started harassing me again.”</p></div>,\n",
       " <div class=\"article-body grid-center grid-body\" data-qa=\"article-body\"><p><span class=\"font--article-body font-copy hide-for-print ma-0 pb-md db italic interstitial\"><a data-qa=\"interstitial-link\" href=\"https://www.washingtonpost.com/world/2022/09/20/kharkiv-summer-camp-children-missing/?itid=lk_interstitial_manual_46\">Kharkiv children went to summer camp in Russia. They never came back.</a></span></p></div>,\n",
       " <div class=\"article-body grid-center grid-body\" data-qa=\"article-body\"><p class=\"wpds-c-cYdRxM wpds-c-cYdRxM-iPJLV-css font-copy\" data-el=\"text\" data-qa=\"drop-cap-letter\">As the days passed, the men continued to demand information from her about the gas supply in Izyum — at one point shocking her feet with electricity and laughing as she screamed. “I cannot express what kind of pain it was,” she said.<b> </b>The commander also asked about money on her bank card and in her house, which she later realized they stole, she said.</p></div>,\n",
       " <div class=\"article-body grid-center grid-body\" data-qa=\"article-body\"><p class=\"wpds-c-cYdRxM wpds-c-cYdRxM-iPJLV-css font-copy\" data-el=\"text\" data-qa=\"drop-cap-letter\">For days as they questioned her, the men accused her of lying about even basic information. In the end, after demanding details from her about how to extract and distribute natural gas in Izyum, the Russians said they were satisfied with her answers and that she and her husband would both be released — a decision the couple still does not fully understand.</p></div>,\n",
       " <div class=\"article-body grid-full-bleed\" data-qa=\"article-body\"><div class=\"cb dn db-ns\" data-qa=\"article-body-ad\"><div aria-hidden=\"true\" class=\"hide-for-print relative flex justify-center content-box items-center b bh mb-md mt-none pt-lg pb-lg\" style=\"min-height:250px;border-top-color:;border-bottom-color:\"><div class=\"center absolute w-100 border-box\" style=\"top:\"><div class=\"dib gray-dark pl-xs pr-xs font-sans-serif light font-xxxxs lh-md\" style=\"--primary-border-color:\"></div></div><div class=\"w-100 h-100 absolute flex flex-column justify-center border-box bg-offwhite\" data-testid=\"placeholder-box\" style=\"width:300px;height:250px\"><div class=\"flex flex-column justify-center font-sans-serif center font-xxs light gray-dark lh-md\"><div>Advertisement</div></div></div></div></div></div>,\n",
       " <div class=\"article-body grid-full-bleed\" data-qa=\"article-body\"><div class=\"cb db dn-ns\" data-qa=\"article-body-ad\"><div aria-hidden=\"true\" class=\"hide-for-print relative flex justify-center content-box items-center b bh mb-md mt-sm pt-sm pb-sm\" style=\"min-height:250px;border-top-color:;border-bottom-color:\"><div class=\"center absolute w-100 border-box\" style=\"top:\"><div class=\"dib gray-dark pl-xs pr-xs font-sans-serif light font-xxxxs lh-md\" style=\"--primary-border-color:\"></div></div><div class=\"w-100 h-100 absolute flex flex-column justify-center border-box bg-offwhite\" data-testid=\"placeholder-box\" style=\"width:300px;height:250px\"><div class=\"flex flex-column justify-center font-sans-serif center font-xxs light gray-dark lh-md\"></div></div></div></div></div>,\n",
       " <div class=\"article-body grid-center grid-body\" data-qa=\"article-body\"><p class=\"wpds-c-cYdRxM wpds-c-cYdRxM-iPJLV-css font-copy\" data-el=\"text\" data-qa=\"drop-cap-letter\">On July 10, they were blindfolded and dumped at a gas station on the side of the road. After taking some time to heal, they fled through Russia, Belarus and Poland until they reached a part of Ukraine not occupied by Russia, where Alla received gynecological treatment due to her repeated assaults.</p></div>,\n",
       " <div class=\"article-body grid-center grid-body\" data-qa=\"article-body\"><p class=\"wpds-c-cYdRxM wpds-c-cYdRxM-iPJLV-css font-copy\" data-el=\"text\" data-qa=\"drop-cap-letter\">In September, days after Ukraine liberated Izyum, Alla and her husband returned to their hometown for the first time. With the Russians gone, their son has also been able to return. Leaning up against the wall outside their home, Alla turned to her husband.</p></div>,\n",
       " <div class=\"article-body grid-center grid-body\" data-qa=\"article-body\"><p class=\"wpds-c-cYdRxM wpds-c-cYdRxM-iPJLV-css font-copy\" data-el=\"text\" data-qa=\"drop-cap-letter\">“Did you believe them when they said they were raping me?” she asked him.</p></div>,\n",
       " <div class=\"article-body grid-center grid-body\" data-qa=\"article-body\"><p class=\"wpds-c-cYdRxM wpds-c-cYdRxM-iPJLV-css font-copy\" data-el=\"text\" data-qa=\"drop-cap-letter\">He paused. “I didn’t know what to believe,” he responded. He said he could only hope it wasn’t true and was some form of psychological torture the soldiers were using against him instead.</p></div>,\n",
       " <div class=\"article-body grid-center grid-body\" data-qa=\"article-body\"><p class=\"wpds-c-cYdRxM wpds-c-cYdRxM-iPJLV-css font-copy\" data-el=\"text\" data-qa=\"drop-cap-letter\">Two days later, they returned to the abandoned clinic where they were tortured just two months before.</p></div>,\n",
       " <div class=\"article-body grid-full-bleed\" data-qa=\"article-body\"><div class=\"hide-for-print\" data-qa=\"article-image\"><div style=\"min-height:358px\"></div></div></div>,\n",
       " <div class=\"article-body grid-center grid-body\" data-qa=\"article-body\"><p class=\"wpds-c-cYdRxM wpds-c-cYdRxM-iPJLV-css font-copy\" data-el=\"text\" data-qa=\"drop-cap-letter\">Inside the main clinic building, where Alla and other detainees were tortured, the German words “Truth Sets You Free” were scrawled on the wall in what appeared to be a nod to the Nazis’ use of “Work Sets You Free” — the slogan on the gate to Auschwitz and other Nazi concentration camps.</p></div>,\n",
       " <div class=\"article-body grid-center grid-body\" data-qa=\"article-body\"><p class=\"wpds-c-cYdRxM wpds-c-cYdRxM-iPJLV-css font-copy\" data-el=\"text\" data-qa=\"drop-cap-letter\">Alla stepped into the shed where she was held, her eyes scanning the wall to look for the markings she left — some now scratched over in what she thinks was an effort to erase the truth of what the Russian forces did to her. She pulled back the covering on the boarded up window. She found the sedative packets on the floor. She pointed to the corner where she moved a brick to get light and fresh air — then the metal rods where she tried to hang herself.</p></div>,\n",
       " <div class=\"article-body grid-center grid-body\" data-qa=\"article-body\"><p class=\"wpds-c-cYdRxM wpds-c-cYdRxM-iPJLV-css font-copy\" data-el=\"text\" data-qa=\"drop-cap-letter\">In the garage where her husband was held, Alla found the filthy yellow foam mattress she had slept on, and the dirty clothes she used as a pillow.</p></div>,\n",
       " <div class=\"article-body grid-center grid-body\" data-qa=\"article-body\"><p class=\"wpds-c-cYdRxM wpds-c-cYdRxM-iPJLV-css font-copy\" data-el=\"text\" data-qa=\"drop-cap-letter\">Her ordeal was over but the trauma was not.</p></div>,\n",
       " <div class=\"article-body grid-center grid-body\" data-qa=\"article-body\"><p class=\"wpds-c-cYdRxM wpds-c-cYdRxM-iPJLV-css font-copy\" data-el=\"text\" data-qa=\"drop-cap-letter\">“We are Ukrainians. We were always for Ukraine,” she said. “For that, we were punished.”</p></div>,\n",
       " <div class=\"article-body grid-center grid-body\" data-qa=\"article-body\"><p class=\"wpds-c-cYdRxM wpds-c-cYdRxM-iPJLV-css font-copy\" data-el=\"text\" data-qa=\"drop-cap-letter\"><i>Sergii Mukaieliants contributed to this report.</i></p></div>]"
      ]
     },
     "execution_count": 24,
     "metadata": {},
     "output_type": "execute_result"
    }
   ],
   "source": [
    "a "
   ]
  },
  {
   "cell_type": "code",
   "execution_count": null,
   "metadata": {},
   "outputs": [],
   "source": []
  }
 ],
 "metadata": {
  "kernelspec": {
   "display_name": "Python 3.9.7 ('base': conda)",
   "language": "python",
   "name": "python3"
  },
  "language_info": {
   "codemirror_mode": {
    "name": "ipython",
    "version": 3
   },
   "file_extension": ".py",
   "mimetype": "text/x-python",
   "name": "python",
   "nbconvert_exporter": "python",
   "pygments_lexer": "ipython3",
   "version": "3.9.7"
  },
  "orig_nbformat": 4,
  "vscode": {
   "interpreter": {
    "hash": "e68333006553a7c259dbbc354d1c2bf2da12a2e4ac4c5930a431473931cc291e"
   }
  }
 },
 "nbformat": 4,
 "nbformat_minor": 2
}
