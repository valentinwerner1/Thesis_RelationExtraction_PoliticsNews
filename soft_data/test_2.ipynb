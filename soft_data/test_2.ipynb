{
 "cells": [
  {
   "cell_type": "code",
   "execution_count": 1,
   "metadata": {},
   "outputs": [
    {
     "name": "stderr",
     "output_type": "stream",
     "text": [
      "/home/werner/thesis_valentin/lib/python3.8/site-packages/tqdm/auto.py:22: TqdmWarning: IProgress not found. Please update jupyter and ipywidgets. See https://ipywidgets.readthedocs.io/en/stable/user_install.html\n",
      "  from .autonotebook import tqdm as notebook_tqdm\n"
     ]
    }
   ],
   "source": [
    "import spacy\n",
    "import xml.etree.ElementTree as ET\n",
    "from spacy.symbols import nsubj, dobj, pobj, iobj, neg, xcomp, ccomp, VERB\n",
    "from gensim.parsing.preprocessing import strip_multiple_whitespaces\n",
    "import pandas as pd\n",
    "import re\n",
    "import os\n",
    "import sys\n",
    "\n",
    "def read_lines(inputparsed):    \n",
    "    \"\"\"takes input from CoreNLP sentence parsed file and returns sentences\"\"\"\n",
    "    #parse all lines from CoreNLP sentence split\n",
    "    parsed = open(inputparsed, encoding = \"utf-8\")\n",
    "    parsedfile = parsed.readlines()\n",
    "    parsedlines = []\n",
    "\n",
    "    #Only keep those lines which have Sentence #n in the line before\n",
    "    for idx, text in enumerate(parsedfile):\n",
    "        if text.startswith(\"Sentence #\"):\n",
    "            parsedlines.append(parsedfile[idx+1].replace('\\n','').strip())\n",
    "    \n",
    "    return parsedlines\n",
    "\n",
    "def gen_poss(line, verb_match, pre_dict):\n",
    "    \"\"\"generates all possibilities of patterns that a multi word line implies,\n",
    "    by extracting partial patterns and resolving placeholder words\"\"\"\n",
    "    poss = []\n",
    "\n",
    "    #replace special tokens in text that are clear at this point\n",
    "    line = line.replace(\"*\", verb_match)\n",
    "    line = line.replace(\"- \", \"\")\n",
    "    line = line.replace(\"+\",\"\")\n",
    "    line = line.replace(\"%\",\"\")\n",
    "    line = line.replace(\"^\",\"\")\n",
    "    line = line.replace(\"$\",\"\")\n",
    "\n",
    "    #split line by possibility indicators and code (always ends possibility)\n",
    "    #example.: \"- $ * (P ON KILLING (P OF + [010] #  COMMENT <ELH 07 May 2008>\"\n",
    "    poss_split = re.split(\"\\(P |\\[.*]\",line) \n",
    "\n",
    "    if len(poss_split) > 2: #2 is if no (P in the line\n",
    "        #only combining the first (P, as they share the same code \n",
    "        #and the longer version will never be contained in a text if the shorter isnt\n",
    "        poss.append(strip_multiple_whitespaces(\" \".join(poss_split[:2])).lower().rstrip().lstrip())\n",
    "    else: \n",
    "        poss.append(strip_multiple_whitespaces(poss_split[0].lower().rstrip().lstrip()))\n",
    "\n",
    "    cleaned = []\n",
    "    for text in list(set(poss)):\n",
    "        c = 0\n",
    "        for tag in list(pre_dict.keys()):\n",
    "            if tag in text:\n",
    "                for replacement in pre_dict[tag]:\n",
    "                    cleaned.append(text.replace(tag, replacement))\n",
    "                    c += 1\n",
    "        if c == 0:\n",
    "            cleaned.append(text)\n",
    "\n",
    "    return cleaned\n",
    "    \n",
    "\n",
    "def verb_code_dict(pico_path, verb_path):\n",
    "    \"\"\"reads coding ontology and verb lists, \n",
    "    directly matches verbs to their CAMEO codes and returns this verbs:codes dictionairy.\n",
    "    verb with codes that cannot be read are printed out as full line of the file\"\"\"\n",
    "    #read PETRARCH Internal Coding Ontology (= pico)\n",
    "    pico_path = os.path.join(os.getcwd(), pico_path)\n",
    "    pico_file = open(pico_path, 'r')\n",
    "    pico_lines = pico_file.readlines()\n",
    "\n",
    "    #get all 20 codes with their respective code\n",
    "    main_codes = {}                             #we run one iteration for all the main codes, only main codes contain relation name\n",
    "    for line in pico_lines:\n",
    "        line = line.split('#')\n",
    "        if line[0] == \"\" or line[0] == \"\\n\":    #only intro comments and empty lines\n",
    "            continue\n",
    "        else: \n",
    "            code_split = line[0].split(\":\")     #splits into CAMEO code and related hex\n",
    "            if len(line) > 1 and code_split[0][2] == \"0\":      #only main categories have 0 in 3rd idx, [cat_num 0] -> [010]\n",
    "                main_codes[code_split[0][:2]] = line[-1].replace(\"\\n\",\"\")\n",
    "    \n",
    "    #map code to code we want to use in the training\n",
    "    map_codes = {\"DiplomaticCoop\" : \"Engage In Diplomatic Cooperation\", \n",
    "                \"MaterialCoop\" : \"Engage In Material Cooperation\",\n",
    "                \"ProvideAid\" : \"Provide Aid\",\n",
    "                \"Exhibit Force Posture\": \"Exhibit Military Posture\",\n",
    "                \"Use Unconventional Mass Violence\" : \"Engage In Unconventional Mass Violence\"}\n",
    "    main_codes = {k: (map_codes[v] if v in map_codes else v) for k, v in main_codes.items()}\n",
    "    \n",
    "    #read single word patterns and match their code to the relation extracted in main_codes\n",
    "    verb_path = os.path.join(os.getcwd(), verb_path)\n",
    "    verb_file = open(verb_path, 'r')\n",
    "    verb_lines = verb_file.readlines()\n",
    "    \n",
    "    verb_dict = {}\n",
    "    for line in verb_lines:\n",
    "        if line[0] == \"#\":\n",
    "            continue\n",
    "        elif line.startswith(\"---\"):    #main verbs have a lead code, which is applied to all very in the section\n",
    "                                        #unless a separate code is specified for a specific verb in section\n",
    "            try: cur_main_code = re.split(\"\\[|\\]|---\", line)[2].replace(\":\",\"\")[:2]  #we only need main codes which are first two numbers\n",
    "                                                                                #sometimes code starts with \":\", e.g.: ---  OFFEND   [:110]  ---\n",
    "                                                                                #we just remove those to get the main code\n",
    "            except:                     #depending on chosen verb dictionairy, there may be main verbs without lead codes\n",
    "                print(\"couldn't finde code in: \", line.replace(\"\\n\",\"\")) \n",
    "                cur_main_code == \"--\"\n",
    "            if cur_main_code == \"\": cur_main_code = \"--\"\n",
    "        elif line == \"\\n\":              #skip empty lines\n",
    "            continue\n",
    "        elif line[0] == \"-\" or line[0] == \"~\" or line[0] == \"+\" or line[0] == \"&\": #removes all special structures we cannot use\n",
    "            continue\n",
    "        else:\n",
    "            if len(re.split(\"\\[|\\]\", line)) > 1:    #verbs with their own code, e.g.: AFFIRM [051] \n",
    "                code = re.split(\"\\[|\\]\", line)[1].replace(\":\",\"\")[:2]\n",
    "                if code != \"--\":\n",
    "                    if \"{\" in line:         #conjugated verbs, e.g. \"APPLY {APPLYING APPLIED APPLIES } [020]\"\n",
    "                        line_s = re.split(\"\\{|\\}\", line)    #split at { and }\n",
    "                        verb_dict[line_s[0].lower()] = main_codes[code] \n",
    "                        for word in line_s[1].split():\n",
    "                            verb_dict[word.lower()] = main_codes[code]\n",
    "                    else:\n",
    "                        word = re.split(\"\\[|\\]\", line)[0]\n",
    "                        verb_dict[word.lower()] = main_codes[code]\n",
    "            else:\n",
    "                if cur_main_code != \"--\":\n",
    "                    if \"{\" in line:         #e.g. \"HURRY {HURRIES HURRYING HURRIED }\" \n",
    "                        line_s = re.split(\"\\{|\\}\", line)    #split at { and }\n",
    "                        verb_dict[line_s[0].lower()] = main_codes[cur_main_code]\n",
    "                        for word in line_s[1].split():\n",
    "                            verb_dict[word.lower()] = main_codes[cur_main_code]\n",
    "                    else:                   #only single words with sometimes comments, e.g.: CENSURE  # JON 5/17/95\n",
    "                        word = line.split(\"#\")[0].rstrip()    #gets part before \"#\", removes all whitespaces to the right\n",
    "                        verb_dict[word.lower()] = main_codes[cur_main_code]\n",
    "\n",
    "    #read multi word patterns and create a dictionary for their code\n",
    "\n",
    "    #get filler words that occur in multi word patterns\n",
    "    verb_file = open(verb_path, 'r')\n",
    "    verb_lines = verb_file.readlines()\n",
    "\n",
    "    pre_dict = {}\n",
    "    filter_list = []\n",
    "    for line in verb_lines:\n",
    "        if line.startswith(\"&\"):\n",
    "            cur_filter = line.rstrip()\n",
    "        elif line.startswith(\"\\n\") and \"cur_filter\" in locals():\n",
    "            pre_dict[cur_filter.lower()] = filter_list\n",
    "            cur_filter = \"\"\n",
    "            filter_list = []\n",
    "        elif line.startswith(\"+\") and cur_filter != \"\":\n",
    "            filter_list.append(line.rstrip()[1:].replace(\"_\", \"\").lower())\n",
    "    del pre_dict[\"\"]\n",
    "\n",
    "    #generate dictionaries for multi word patterns\n",
    "    verb_file = open(verb_path, 'r')\n",
    "    verb_lines = verb_file.readlines()\n",
    "\n",
    "    spec_dict = {}\n",
    "    spec_code = {}\n",
    "\n",
    "    count = 0\n",
    "    for line in verb_lines:\n",
    "        if line.startswith(\"- \"):\n",
    "            #get main verb as dict key\n",
    "            try: \n",
    "                verb_match = re.search(\"# *\\w+\", line).group()\n",
    "                verb_match = re.search(\"\\w+\", verb_match).group()\n",
    "                verb_match = verb_match.replace(\"_\", \" \").lower()\n",
    "            except: \n",
    "                count += 1\n",
    "\n",
    "            #get code for line\n",
    "            try:\n",
    "                code = re.search(\"\\[.*]\", line).group()[1:3]\n",
    "                if code != \"--\":\n",
    "                    #get all possibility that the line indicates\n",
    "                    poss = gen_poss(line, verb_match, pre_dict)\n",
    "                    for pattern in poss:\n",
    "                        spec_code[pattern] = main_codes[code]\n",
    "                    spec_dict[verb_match] = poss\n",
    "            except:\n",
    "                count += 1\n",
    "\n",
    "    print(f\"{count} patterns could not be loaded\")        \n",
    "\n",
    "    return verb_dict, spec_dict, spec_code\n",
    "\n",
    "\n",
    "def get_triples(sentence, verb_dict, spec_dict, spec_code, nlp):\n",
    "    \"\"\"create triplet structure for training from text input, \n",
    "    verb_dict needs to be loaded before,\n",
    "    spacy model needs to be initialized before \"\"\"\n",
    "    doc = nlp(sentence)\n",
    "    verbs = []\n",
    "    dict = {}\n",
    "\n",
    "\n",
    "    for possible_verb in doc:\n",
    "        if possible_verb.pos == VERB:\n",
    "            if neg in [child.dep for child in possible_verb.children]: continue\n",
    "            else: \n",
    "                for possible_subject in possible_verb.children: \n",
    "                    if possible_subject.dep == xcomp or possible_subject.dep == ccomp: \n",
    "                        main_verb = possible_subject\n",
    "                        main_idx = possible_subject.idx\n",
    "                        for token in doc.ents:\n",
    "                            if token.label_ in [\"GPE\", \"NORP\", \"EVENTS\", \"FAC\", \"LAW\", \"ORG\", \"PERSON\"]:\n",
    "                                if token.root.dep_ == \"poss\" or token.root.dep_ == \"prep\":\n",
    "                                    if token.root.head.head.idx == possible_verb.idx:\n",
    "                                        verbs.append([main_idx, main_verb.lemma_, token.text, token.root.head.dep_])\n",
    "                                        if main_idx in dict.keys(): dict[main_idx] += 1\n",
    "                                        else: dict[main_idx] = 1\n",
    "                                else:\n",
    "                                    if token.root.head.idx == possible_verb.idx:\n",
    "                                        verbs.append([main_idx, main_verb.lemma_, token.text, token.root.dep_])\n",
    "                                        if possible_verb.idx in dict.keys(): dict[possible_verb.idx] += 1\n",
    "                                        else: dict[possible_verb.idx] = 1\n",
    "\n",
    "                for token in doc.ents:\n",
    "                    if token.label_ in [\"GPE\", \"NORP\", \"EVENTS\", \"FAC\", \"LAW\", \"ORG\", \"PERSON\"]:\n",
    "                        if token.root.dep_ == \"poss\" or token.root.dep_ == \"prep\":\n",
    "                            if token.root.head.head.idx == possible_verb.idx:\n",
    "                                verbs.append([possible_verb.idx, possible_verb.lemma_, token.text, token.root.head.dep_])\n",
    "                                if possible_verb.idx in dict.keys(): dict[possible_verb.idx] += 1\n",
    "                                else: dict[possible_verb.idx] = 1\n",
    "                        else:\n",
    "                            if token.root.head.idx == possible_verb.idx:\n",
    "                                verbs.append([possible_verb.idx, possible_verb.lemma_, token.text, token.root.dep_])\n",
    "                                if possible_verb.idx in dict.keys(): dict[possible_verb.idx] += 1\n",
    "                                else: dict[possible_verb.idx] = 1\n",
    "\n",
    "    trip_idx = [key for key in dict if dict[key] > 1]\n",
    "\n",
    "    # doc = nlp(sentence)\n",
    "    # verbs = []\n",
    "    # dict = {}\n",
    "\n",
    "    # for possible_verb in doc:           #parses through all words in sentence\n",
    "    #     if possible_verb.pos == VERB:   #we only care about verbs\n",
    "    #         if neg in [child.dep for child in possible_verb.children]: continue #we exclude all negated verbs\n",
    "    #         else: \n",
    "    #             for candidate in possible_verb.children: #for composed verbs of verb (e.g. \"want to join\" -> \"want join\")\n",
    "    #                 if candidate.dep == xcomp:   #subj / obj of composed verb should also be subj / obj of main verb\n",
    "    #                     main_verb = candidate    \n",
    "    #                     main_idx = candidate.idx\n",
    "    #                     for chunk in doc.noun_chunks:   #chunks are noun-groups (e.g.: \"78 out of 100 people\" instead of \"people\")\n",
    "    #                         if chunk.root.head.idx == possible_verb.idx:    #if chunk applies to xcomp (want),\n",
    "    #                                                                         #treat it like it aplles to main verb (\"join\")\n",
    "    #                             verbs.append([main_idx, main_verb.lemma_, chunk.text, chunk.root.dep_])\n",
    "    #                             if main_idx in dict.keys(): dict[main_idx] += 1 #count how often verb is used\n",
    "    #                             else: dict[main_idx] = 1\n",
    "\n",
    "    #             for chunk in doc.noun_chunks:       #for normal verbs, check chunks directly\n",
    "    #                 if chunk.root.head.idx == possible_verb.idx:\n",
    "    #                     verbs.append([possible_verb.idx, possible_verb.lemma_, chunk.text, chunk.root.dep_])\n",
    "    #                     if possible_verb.idx in dict.keys(): dict[possible_verb.idx] += 1\n",
    "    #                     else: dict[possible_verb.idx] = 1\n",
    "    \n",
    "    # trip_idx = [key for key in dict if dict[key] > 1]   #if verbs used more than once, its candidate for triplet\n",
    "\n",
    "    #priority for subj-relation-obj triplets\n",
    "    mapper = {\"nsubj\":1,\"dobj\":2, \"pobj\":2, \"iobj\":2}\n",
    "\n",
    "    #create df from verbs extracted \n",
    "    df = pd.DataFrame(verbs, columns = [\"idx\", \"verb\", \"noun\", \"noun_type\"])\n",
    "    df[\"noun_map\"] = df.noun_type.map(mapper)  #turn noun_types into priority \n",
    "    return df\n",
    "\n",
    "    # #create groups that resolve around same word\n",
    "    # gb = df.groupby('idx')    \n",
    "    # #only keep groups if verb idx was identified as potential triplet before, sort by priority for structure\n",
    "    # df_l = [gb.get_group(x).sort_values(\"noun_map\") for x in gb.groups if gb.get_group(x).idx.iloc[0] in dict]\n",
    "    # matches = [merge_trip(group) for group in df_l if not merge_trip(group) == None] #get groups into triplet structure\n",
    "    \n",
    "    # #turn matches into triples by only keeping those with coded verbs, return code instead of verb\n",
    "    # triples = []\n",
    "    # for match in matches:\n",
    "    #     if match[1].lower() in spec_dict:\n",
    "    #         for poss_pattern in spec_dict[match[1].lower()]:\n",
    "    #             if set(poss_pattern.split()).intersection(sentence.split()) == set(poss_pattern.split()):\n",
    "    #                 triples.append(f\"<triplet> {match[0]} <subj> {match[2]} <obj> {spec_code[poss_pattern]}\")\n",
    "                    \n",
    "    #     elif match[1].lower() in verb_dict:\n",
    "    #         triples.append(f\"<triplet> {match[0]} <subj> {match[2]} <obj> {verb_dict[match[1].lower()]}\")\n",
    "    #     else: print(f\"couldn't match {match[1].lower()}\")\n",
    "\n",
    "    # #triples = [f\"<triplet> {match[0]} <subj> {match[2]} <obj> {verb_dict[match[1].lower()]}\" for match in matches if match[1].lower() in verb_dict]\n",
    "\n",
    "    # return triples\n",
    "\n",
    "def merge_trip(df):\n",
    "    \"\"\"helper function to turn two rows of a pandas groupby into subj, verb, obj\"\"\"\n",
    "    if df.shape[0] == 2:\n",
    "        if df.noun_type.iloc[0] != df.noun_type.iloc[1]:\n",
    "            return [df.iloc[0].noun, df.iloc[0].verb, df.iloc[1].noun]\n",
    "    elif df.shape[0] > 2:\n",
    "        for i in range(df.shape[0] - 1):\n",
    "            if df.noun_type.iloc[i] != df.noun_type.iloc[i+1]:\n",
    "                return [df.iloc[0].noun, df.iloc[0].verb, df.iloc[1].noun]\n",
    "\n",
    "    "
   ]
  },
  {
   "cell_type": "code",
   "execution_count": 2,
   "metadata": {},
   "outputs": [],
   "source": [
    "pico_path = \"src/add_labels/dictionaries/PETR.Internal.Coding.Ontology.txt\"\n",
    "verb_path = \"src/add_labels/dictionaries/newdict.txt\""
   ]
  },
  {
   "cell_type": "code",
   "execution_count": 3,
   "metadata": {},
   "outputs": [],
   "source": [
    "nlp = spacy.load('en_core_web_lg')\n",
    "read = read_lines(\"data/out_data/articles_url_coref3.csv.xml.out\")"
   ]
  },
  {
   "cell_type": "code",
   "execution_count": 4,
   "metadata": {},
   "outputs": [
    {
     "name": "stdout",
     "output_type": "stream",
     "text": [
      "couldn't finde code in:  --- DEFEND  ###\n",
      "couldn't finde code in:  --- REVOKE_   ###\n",
      "couldn't finde code in:  --- SEND   ###\n",
      "couldn't finde code in:  --- COLLAPSE  ###\n",
      "22 patterns could not be loaded\n"
     ]
    }
   ],
   "source": [
    "verb_dict, spec_dict, spec_code = verb_code_dict(pico_path, verb_path)"
   ]
  },
  {
   "cell_type": "code",
   "execution_count": 194,
   "metadata": {},
   "outputs": [],
   "source": [
    "dfs_2 = [[sentence, get_triples(sentence, verb_dict, spec_dict, spec_code, nlp)] for sentence in read]"
   ]
  },
  {
   "cell_type": "code",
   "execution_count": 195,
   "metadata": {},
   "outputs": [
    {
     "data": {
      "text/plain": [
       "21395"
      ]
     },
     "execution_count": 195,
     "metadata": {},
     "output_type": "execute_result"
    }
   ],
   "source": [
    "len(dfs_2)"
   ]
  },
  {
   "cell_type": "code",
   "execution_count": 102,
   "metadata": {},
   "outputs": [
    {
     "data": {
      "text/plain": [
       "[['AdvertisingRead moreThis live page is no longer being updated.',\n",
       "  Empty DataFrame\n",
       "  Columns: [idx, verb, noun, noun_type, noun_map]\n",
       "  Index: []],\n",
       " ['For more on\\xa0our coverage of the war in Ukraine, click here.11:44pm:\\xa0UN grain coordinator\\xa0expects loaded ships to depart Ukraine on ThursdayThe UN coordinator for the Ukraine Black Sea grain deal said UN grain coordinator expects loaded ships to depart Ukrainian ports on ThursdayThe.',\n",
       "     idx    verb     noun noun_type  noun_map\n",
       "  0  113  depart  Ukraine      dobj         2],\n",
       " ['“Exports of grain and foodstuffs from Ukraine need to continue.',\n",
       "  Empty DataFrame\n",
       "  Columns: [idx, verb, noun, noun_type, noun_map]\n",
       "  Index: []],\n",
       " ['Although no movements of vessels are planned for 2 November under the #BlackSeaGrainInitiative, we expect loaded ships to sail on ThursdayThe,” UN coordinator Amir Abdulla posted on Twitter.',\n",
       "     idx  verb          noun noun_type  noun_map\n",
       "  0  172  post  Amir Abdulla     nsubj         1],\n",
       " ['Exports of grain and foodstuffs from Ukraine need to continue.',\n",
       "  Empty DataFrame\n",
       "  Columns: [idx, verb, noun, noun_type, noun_map]\n",
       "  Index: []]]"
      ]
     },
     "execution_count": 102,
     "metadata": {},
     "output_type": "execute_result"
    }
   ],
   "source": [
    "dfs_2[:5]"
   ]
  },
  {
   "cell_type": "code",
   "execution_count": 103,
   "metadata": {},
   "outputs": [
    {
     "data": {
      "text/plain": [
       "['The UN Secretariat at coordination centreThere reports that the Ukrainian, Turkish and UN delegations agreed not to plan any movement of vessels in the Black Sea Grain Initiative for 2 November,\" \"The UN Secretariat at the Joint Coordination Centre said Tuesday, referring to the July deal brokered by Turkey and the UN.6:15pm:\\xa0Russian President Vladimir Putin tells Erdogan Russian President Vladimir Putin wants \\'real guarantees\\' from Kyiv on grain deal, says Russian President Vladimir Putin told Erdogan Tuesday that Russian President Vladimir Putin wanted \"real guarantees\" from Kyiv before Kyiv potentially rejoined grain deal.',\n",
       "    idx    verb                noun noun_type  noun_map\n",
       " 0   47  report  The UN Secretariat     nsubj         1\n",
       " 1  361    tell      Vladimir Putin     nsubj         1\n",
       " 2  408    want      Vladimir Putin     nsubj         1\n",
       " 3  495    tell      Vladimir Putin     nsubj         1\n",
       " 4  495    tell             Erdogan      dobj         2\n",
       " 5  554    want      Vladimir Putin     nsubj         1\n",
       " 6  613  rejoin                Kyiv     nsubj         1]"
      ]
     },
     "execution_count": 103,
     "metadata": {},
     "output_type": "execute_result"
    }
   ],
   "source": [
    "dfs_2[13]"
   ]
  },
  {
   "cell_type": "code",
   "execution_count": 196,
   "metadata": {},
   "outputs": [],
   "source": [
    "candidats_2 = [df for df in dfs_2 if df[1].shape[0] >= 2]"
   ]
  },
  {
   "cell_type": "code",
   "execution_count": 197,
   "metadata": {},
   "outputs": [
    {
     "data": {
      "text/plain": [
       "8364"
      ]
     },
     "execution_count": 197,
     "metadata": {},
     "output_type": "execute_result"
    }
   ],
   "source": [
    "len(candidats_2)"
   ]
  },
  {
   "cell_type": "code",
   "execution_count": 198,
   "metadata": {},
   "outputs": [
    {
     "data": {
      "text/plain": [
       "0     102\n",
       "1      47\n",
       "2     408\n",
       "3     361\n",
       "4     408\n",
       "5     554\n",
       "6     554\n",
       "7     495\n",
       "8     495\n",
       "9     554\n",
       "10    613\n",
       "Name: idx, dtype: int64"
      ]
     },
     "execution_count": 198,
     "metadata": {},
     "output_type": "execute_result"
    }
   ],
   "source": [
    "dfs_2[13][1][\"idx\"]"
   ]
  },
  {
   "cell_type": "code",
   "execution_count": 199,
   "metadata": {},
   "outputs": [],
   "source": [
    "trips_2 = []\n",
    "for can in candidats_2:\n",
    "    for idx in can[1][\"idx\"]:\n",
    "        if can[1][\"idx\"].to_list().count(idx) > 1:\n",
    "            trips_2.append([can[0], can[1]])\n",
    "            break"
   ]
  },
  {
   "cell_type": "code",
   "execution_count": 200,
   "metadata": {},
   "outputs": [
    {
     "data": {
      "text/plain": [
       "3510"
      ]
     },
     "execution_count": 200,
     "metadata": {},
     "output_type": "execute_result"
    }
   ],
   "source": [
    "len(trips_2)\n"
   ]
  },
  {
   "cell_type": "code",
   "execution_count": 201,
   "metadata": {},
   "outputs": [],
   "source": [
    "matches_2 = []\n",
    "for idx, df in enumerate(trips_2):\n",
    "    #create groups that resolve around same word\n",
    "    gb = df[1].groupby('idx')  \n",
    "    #only keep groups if verb idx was identified as potential triplet before, sort by priority for structure\n",
    "    for x in gb.groups:\n",
    "        group = gb.get_group(x).sort_values(\"noun_map\")\n",
    "        if group.shape[0] == 2:\n",
    "            if group.noun_type.iloc[0] != group.noun_type.iloc[1]:\n",
    "                matches_2.append([df[0], group.iloc[0].noun, group.iloc[0].verb, group.iloc[1].noun])\n",
    "        elif group.shape[0] > 2:\n",
    "            for i in range(group.shape[0] - 1):\n",
    "                if group.noun_type.iloc[i] != group.noun_type.iloc[i+1]:\n",
    "                    matches_2.append([df[0], group.iloc[0].noun, group.iloc[0].verb, group.iloc[1].noun])"
   ]
  },
  {
   "cell_type": "code",
   "execution_count": 202,
   "metadata": {},
   "outputs": [],
   "source": [
    "triples_2 = []\n",
    "ma_df = pd.DataFrame(matches_2, columns = [\"text\",\"subj\", \"verb\",\"obj\"])\n",
    "for row in ma_df.iterrows():\n",
    "    if row[1][\"verb\"] in spec_dict:\n",
    "        for poss_pattern in spec_dict[row[1][\"verb\"]]:\n",
    "            if set(poss_pattern.split()).intersection(row[1][\"text\"].split()) == set(poss_pattern.split()):\n",
    "                triples_2.append([row[1][\"text\"], row[1]['subj'], row[1]['obj'] , spec_code[poss_pattern]])\n",
    "    elif row[1][\"verb\"] in verb_dict:\n",
    "            triples_2.append([row[1][\"text\"], row[1]['subj'], row[1]['obj'], verb_dict[row[1]['verb']]])"
   ]
  },
  {
   "cell_type": "code",
   "execution_count": 203,
   "metadata": {},
   "outputs": [
    {
     "data": {
      "text/plain": [
       "276"
      ]
     },
     "execution_count": 203,
     "metadata": {},
     "output_type": "execute_result"
    }
   ],
   "source": [
    "len(triples_2)"
   ]
  },
  {
   "cell_type": "code",
   "execution_count": 205,
   "metadata": {},
   "outputs": [],
   "source": [
    "huh2 = pd.DataFrame(triples_2, columns = [\"text\", \"subj\", \"obj\", \"label\"])"
   ]
  },
  {
   "cell_type": "code",
   "execution_count": 206,
   "metadata": {},
   "outputs": [
    {
     "name": "stderr",
     "output_type": "stream",
     "text": [
      "C:\\Users\\svawe\\AppData\\Local\\Packages\\PythonSoftwareFoundation.Python.3.10_qbz5n2kfra8p0\\LocalCache\\local-packages\\Python310\\site-packages\\transformers\\tokenization_utils_base.py:2339: FutureWarning: The `truncation_strategy` argument is deprecated and will be removed in a future version, use `truncation=True` to truncate examples to a max length. You can give a specific length with `max_length` (e.g. `max_length=45`) or leave max_length to None to truncate to the maximal input size of the model (e.g. 512 for Bert).  If you have pairs of inputs, you can give a specific truncation strategy selected among `truncation='only_first'` (will only truncate the first sentence in the pairs) `truncation='only_second'` (will only truncate the second sentence in the pairs) or `truncation='longest_first'` (will iteratively remove tokens from the longest sentence in the pairs).\n",
      "  warnings.warn(\n"
     ]
    },
    {
     "name": "stdout",
     "output_type": "stream",
     "text": [
      "0\n",
      "100\n",
      "200\n"
     ]
    }
   ],
   "source": [
    "from transformers import AutoModelForSequenceClassification, AutoTokenizer\n",
    "nli_model = AutoModelForSequenceClassification.from_pretrained('facebook/bart-large-mnli')\n",
    "tokenizer = AutoTokenizer.from_pretrained('facebook/bart-large-mnli')\n",
    "probs_l = []\n",
    "for row in huh2.iterrows():\n",
    "    premise = row[1][\"text\"]\n",
    "    subj = row[1][\"subj\"]\n",
    "    rel = row[1][\"label\"]\n",
    "    obj =  row[1][\"obj\"]\n",
    "\n",
    "    hypothesis = f'{subj} does {rel} towards {obj}.'\n",
    "\n",
    "    # run through model pre-trained on MNLI\n",
    "    x = tokenizer.encode(premise, hypothesis, return_tensors='pt',\n",
    "                        truncation_strategy='only_first')\n",
    "    logits = nli_model(x)[0]\n",
    "\n",
    "    # we throw away \"neutral\" (dim 1) and take the probability of\n",
    "    # \"entailment\" (2) as the probability of the label being true \n",
    "    entail_contradiction_logits = logits[:,[0,2]]\n",
    "    probs = entail_contradiction_logits.softmax(dim=1)\n",
    "    prob_label_is_true = probs[:,1]\n",
    "\n",
    "    probs_l.append([row[0], prob_label_is_true.item()])\n",
    "    if row[0] % 100 == 0: print(row[0])"
   ]
  },
  {
   "cell_type": "code",
   "execution_count": 207,
   "metadata": {},
   "outputs": [],
   "source": [
    "ent = pd.merge(huh2.reset_index(), pd.DataFrame(probs_l, columns = [\"index\", \"prob\"]), on = \"index\")"
   ]
  },
  {
   "cell_type": "code",
   "execution_count": 208,
   "metadata": {},
   "outputs": [
    {
     "data": {
      "text/plain": [
       "'Russian President Vladimir Putin told Erdogan in a phone call that Russia sought \"real guarantees from Kyiv about the strict observance of the Istanbul agreement, in particular about not using the humanitarian corridor for military purposes\", according to a statement from the Kremlin.3:51pm: France says Russia endangering world food securityFrench President Emmanuel Macron on Tuesday accused Russia of endangering world food supplies by a unilateral decision by Russia which again harms global food security Russia\\'s participation in a landmark Ukraine grain deal.Russia on Saturday halted Russia\\'s participation in the agreement that allowed vital grain exports from Ukraine, blaming drone attacks on Russian ships in the Crimea.In a call with Ukrainian President Volodymyr Zelensky, securityFrench President Emmanuel Macron \"the announcement a unilateral decision by Russia which again harms global food security\", the president\\'s office said.Russia made the announcement after Russia\\'s army accused Kyiv of a \"massive\" drone attack on Kyiv\\'s Black Sea fleet, which Ukraine labelled a \"false pretext\" and UN urged grain deal\\'s preservation.The July deal to unlock grain exports signed between Russia and Ukraine and brokered by Turkey and UN has been seen as critical to easing the global food crisis caused by the conflict.3:18pm: securityFrench President Emmanuel Macron says France will help Ukraine get through winter, fix securityFrench President Emmanuel Macron, following a telephone call with Ukrainian President Volodymyr Zelensky, said France would help Ukraine get through winter and help repair water and energy infrastructure damaged by Russian strikes.France will also help boost Ukraine\\'s anti-air defences and securityFrench President Emmanuel Macron said securityFrench President Emmanuel Macron and Ukrainian President Volodymyr Zelensky had agreed to hold an international conference in Paris on December 13 to support Ukraine civilians in winter.A bilateral conference on December 12 will also aim at raising support for Ukraine from French companies, securityFrench President Emmanuel Macron said in a statement.3:13pm: securityFrench President Emmanuel Macron, Ukrainian President Volodymyr Zelensky discuss Ukraine\\'s defence needs, restoring energy ZelenskyUkraine\\'s President Volodymyr Zelensky said on Tuesday ZelenskyUkraine\\'s President Volodymyr Zelensky had an \"extremely important and productive conversation\" with securityFrench President Emmanuel Macron about strengthening Ukraine\\'s defence capabilities and restoring damaged\\xa0energy infrastructure.ZelenskyUkraine\\'s President Volodymyr Zelensky did not say what had been agreed but thanked securityFrench President Emmanuel Macron for securityFrench President Emmanuel Macron\\'s support since Russia invaded Ukraine.'"
      ]
     },
     "execution_count": 208,
     "metadata": {},
     "output_type": "execute_result"
    }
   ],
   "source": [
    "ent.text.iloc[0]"
   ]
  },
  {
   "cell_type": "code",
   "execution_count": 123,
   "metadata": {},
   "outputs": [
    {
     "data": {
      "text/plain": [
       "index                                                    1\n",
       "text     10:23am: Three more ships leave Ukraine ports ...\n",
       "subj                                               Finland\n",
       "obj                                                 Turkey\n",
       "label                                           Disapprove\n",
       "prob                                              0.097846\n",
       "Name: 1, dtype: object"
      ]
     },
     "execution_count": 123,
     "metadata": {},
     "output_type": "execute_result"
    }
   ],
   "source": [
    "ent.iloc[1]"
   ]
  },
  {
   "cell_type": "code",
   "execution_count": 209,
   "metadata": {},
   "outputs": [
    {
     "data": {
      "text/html": [
       "<div>\n",
       "<style scoped>\n",
       "    .dataframe tbody tr th:only-of-type {\n",
       "        vertical-align: middle;\n",
       "    }\n",
       "\n",
       "    .dataframe tbody tr th {\n",
       "        vertical-align: top;\n",
       "    }\n",
       "\n",
       "    .dataframe thead th {\n",
       "        text-align: right;\n",
       "    }\n",
       "</style>\n",
       "<table border=\"1\" class=\"dataframe\">\n",
       "  <thead>\n",
       "    <tr style=\"text-align: right;\">\n",
       "      <th></th>\n",
       "      <th>index</th>\n",
       "      <th>text</th>\n",
       "      <th>subj</th>\n",
       "      <th>obj</th>\n",
       "      <th>label</th>\n",
       "      <th>prob</th>\n",
       "    </tr>\n",
       "  </thead>\n",
       "  <tbody>\n",
       "    <tr>\n",
       "      <th>2</th>\n",
       "      <td>2</td>\n",
       "      <td>\"Those who intend to confront and subvert the ...</td>\n",
       "      <td>the Associated Press</td>\n",
       "      <td>Iran</td>\n",
       "      <td>Make Public Statement</td>\n",
       "      <td>0.599615</td>\n",
       "    </tr>\n",
       "    <tr>\n",
       "      <th>10</th>\n",
       "      <td>10</td>\n",
       "      <td>China have suggested to the Saudis that China ...</td>\n",
       "      <td>China</td>\n",
       "      <td>China</td>\n",
       "      <td>Engage In Material Cooperation</td>\n",
       "      <td>0.666303</td>\n",
       "    </tr>\n",
       "    <tr>\n",
       "      <th>17</th>\n",
       "      <td>17</td>\n",
       "      <td>Maxim Dlugy said, \"Well, world champion Magnus...</td>\n",
       "      <td>Magnus Carlsen</td>\n",
       "      <td>Maxim Dlugy</td>\n",
       "      <td>Engage In Diplomatic Cooperation</td>\n",
       "      <td>0.829087</td>\n",
       "    </tr>\n",
       "    <tr>\n",
       "      <th>23</th>\n",
       "      <td>23</td>\n",
       "      <td>Can China Bring Vladimir Putin's To Vladimir P...</td>\n",
       "      <td>China</td>\n",
       "      <td>Vladimir Putin's</td>\n",
       "      <td>Consult</td>\n",
       "      <td>0.598665</td>\n",
       "    </tr>\n",
       "    <tr>\n",
       "      <th>24</th>\n",
       "      <td>24</td>\n",
       "      <td>Can China Bring Vladimir Putin's To Vladimir P...</td>\n",
       "      <td>China</td>\n",
       "      <td>Vladimir Putin's</td>\n",
       "      <td>Consult</td>\n",
       "      <td>0.598665</td>\n",
       "    </tr>\n",
       "    <tr>\n",
       "      <th>...</th>\n",
       "      <td>...</td>\n",
       "      <td>...</td>\n",
       "      <td>...</td>\n",
       "      <td>...</td>\n",
       "      <td>...</td>\n",
       "      <td>...</td>\n",
       "    </tr>\n",
       "    <tr>\n",
       "      <th>266</th>\n",
       "      <td>266</td>\n",
       "      <td>In June, Alexander Nikulin - who worked at the...</td>\n",
       "      <td>Alexander Nikulin</td>\n",
       "      <td>Britons</td>\n",
       "      <td>Coerce</td>\n",
       "      <td>0.838175</td>\n",
       "    </tr>\n",
       "    <tr>\n",
       "      <th>268</th>\n",
       "      <td>268</td>\n",
       "      <td>(Fernando Vergara/Associated Press)Earlier thi...</td>\n",
       "      <td>Nicolas Maduro</td>\n",
       "      <td>Gustavo Petro</td>\n",
       "      <td>Disapprove</td>\n",
       "      <td>0.587277</td>\n",
       "    </tr>\n",
       "    <tr>\n",
       "      <th>269</th>\n",
       "      <td>269</td>\n",
       "      <td>In June, Alexander Nikulin - who worked at the...</td>\n",
       "      <td>Alexander Nikulin</td>\n",
       "      <td>Britons</td>\n",
       "      <td>Coerce</td>\n",
       "      <td>0.838175</td>\n",
       "    </tr>\n",
       "    <tr>\n",
       "      <th>270</th>\n",
       "      <td>270</td>\n",
       "      <td>'Jordan, AdvertisingRead moreJordan Bardella, ...</td>\n",
       "      <td>moreJordan Bardella</td>\n",
       "      <td>Jordan</td>\n",
       "      <td>Make Public Statement</td>\n",
       "      <td>0.524766</td>\n",
       "    </tr>\n",
       "    <tr>\n",
       "      <th>273</th>\n",
       "      <td>273</td>\n",
       "      <td>Donald Trump's victory in Pennsylvania helped ...</td>\n",
       "      <td>Donald Trump's</td>\n",
       "      <td>Donald Trump</td>\n",
       "      <td>Provide Aid</td>\n",
       "      <td>0.836310</td>\n",
       "    </tr>\n",
       "  </tbody>\n",
       "</table>\n",
       "<p>93 rows × 6 columns</p>\n",
       "</div>"
      ],
      "text/plain": [
       "     index                                               text  \\\n",
       "2        2  \"Those who intend to confront and subvert the ...   \n",
       "10      10  China have suggested to the Saudis that China ...   \n",
       "17      17  Maxim Dlugy said, \"Well, world champion Magnus...   \n",
       "23      23  Can China Bring Vladimir Putin's To Vladimir P...   \n",
       "24      24  Can China Bring Vladimir Putin's To Vladimir P...   \n",
       "..     ...                                                ...   \n",
       "266    266  In June, Alexander Nikulin - who worked at the...   \n",
       "268    268  (Fernando Vergara/Associated Press)Earlier thi...   \n",
       "269    269  In June, Alexander Nikulin - who worked at the...   \n",
       "270    270  'Jordan, AdvertisingRead moreJordan Bardella, ...   \n",
       "273    273  Donald Trump's victory in Pennsylvania helped ...   \n",
       "\n",
       "                     subj               obj                             label  \\\n",
       "2    the Associated Press              Iran             Make Public Statement   \n",
       "10                  China             China    Engage In Material Cooperation   \n",
       "17         Magnus Carlsen       Maxim Dlugy  Engage In Diplomatic Cooperation   \n",
       "23                  China  Vladimir Putin's                           Consult   \n",
       "24                  China  Vladimir Putin's                           Consult   \n",
       "..                    ...               ...                               ...   \n",
       "266     Alexander Nikulin           Britons                            Coerce   \n",
       "268        Nicolas Maduro     Gustavo Petro                        Disapprove   \n",
       "269     Alexander Nikulin           Britons                            Coerce   \n",
       "270   moreJordan Bardella            Jordan             Make Public Statement   \n",
       "273        Donald Trump's      Donald Trump                       Provide Aid   \n",
       "\n",
       "         prob  \n",
       "2    0.599615  \n",
       "10   0.666303  \n",
       "17   0.829087  \n",
       "23   0.598665  \n",
       "24   0.598665  \n",
       "..        ...  \n",
       "266  0.838175  \n",
       "268  0.587277  \n",
       "269  0.838175  \n",
       "270  0.524766  \n",
       "273  0.836310  \n",
       "\n",
       "[93 rows x 6 columns]"
      ]
     },
     "execution_count": 209,
     "metadata": {},
     "output_type": "execute_result"
    }
   ],
   "source": [
    "ent[ent.prob > 0.5]"
   ]
  },
  {
   "cell_type": "markdown",
   "metadata": {},
   "source": [
    "# Retrial with chunks instead of tokens"
   ]
  },
  {
   "cell_type": "code",
   "execution_count": 5,
   "metadata": {},
   "outputs": [],
   "source": [
    "import spacy\n",
    "import xml.etree.ElementTree as ET\n",
    "from spacy.symbols import nsubj, dobj, pobj, iobj, neg, xcomp, VERB\n",
    "from gensim.parsing.preprocessing import strip_multiple_whitespaces\n",
    "import pandas as pd\n",
    "import re\n",
    "import os\n",
    "import sys\n",
    "\n",
    "def read_lines(inputparsed):    \n",
    "    \"\"\"takes input from CoreNLP sentence parsed file and returns sentences\"\"\"\n",
    "    #parse all lines from CoreNLP sentence split\n",
    "    parsed = open(inputparsed, encoding = \"utf-8\")\n",
    "    parsedfile = parsed.readlines()\n",
    "    parsedlines = []\n",
    "\n",
    "    #Only keep those lines which have Sentence #n in the line before\n",
    "    for idx, text in enumerate(parsedfile):\n",
    "        if text.startswith(\"Sentence #\"):\n",
    "            parsedlines.append(parsedfile[idx+1].replace('\\n','').strip())\n",
    "    \n",
    "    return parsedlines\n",
    "\n",
    "def gen_poss(line, verb_match, pre_dict):\n",
    "    \"\"\"generates all possibilities of patterns that a multi word line implies,\n",
    "    by extracting partial patterns and resolving placeholder words\"\"\"\n",
    "    poss = []\n",
    "\n",
    "    #replace special tokens in text that are clear at this point\n",
    "    line = line.replace(\"*\", verb_match)\n",
    "    line = line.replace(\"- \", \"\")\n",
    "    line = line.replace(\"+\",\"\")\n",
    "    line = line.replace(\"%\",\"\")\n",
    "    line = line.replace(\"^\",\"\")\n",
    "    line = line.replace(\"$\",\"\")\n",
    "\n",
    "    #split line by possibility indicators and code (always ends possibility)\n",
    "    #example.: \"- $ * (P ON KILLING (P OF + [010] #  COMMENT <ELH 07 May 2008>\"\n",
    "    poss_split = re.split(\"\\(P |\\[.*]\",line) \n",
    "\n",
    "    if len(poss_split) > 2: #2 is if no (P in the line\n",
    "        #only combining the first (P, as they share the same code \n",
    "        #and the longer version will never be contained in a text if the shorter isnt\n",
    "        poss.append(strip_multiple_whitespaces(\" \".join(poss_split[:2])).lower().rstrip().lstrip())\n",
    "    else: \n",
    "        poss.append(strip_multiple_whitespaces(poss_split[0].lower().rstrip().lstrip()))\n",
    "\n",
    "    cleaned = []\n",
    "    for text in list(set(poss)):\n",
    "        c = 0\n",
    "        for tag in list(pre_dict.keys()):\n",
    "            if tag in text:\n",
    "                for replacement in pre_dict[tag]:\n",
    "                    cleaned.append(text.replace(tag, replacement))\n",
    "                    c += 1\n",
    "        if c == 0:\n",
    "            cleaned.append(text)\n",
    "\n",
    "    return cleaned\n",
    "    \n",
    "\n",
    "def verb_code_dict(pico_path, verb_path):\n",
    "    \"\"\"reads coding ontology and verb lists, \n",
    "    directly matches verbs to their CAMEO codes and returns this verbs:codes dictionairy.\n",
    "    verb with codes that cannot be read are printed out as full line of the file\"\"\"\n",
    "    #read PETRARCH Internal Coding Ontology (= pico)\n",
    "    pico_path = os.path.join(os.getcwd(), pico_path)\n",
    "    pico_file = open(pico_path, 'r')\n",
    "    pico_lines = pico_file.readlines()\n",
    "\n",
    "    #get all 20 codes with their respective code\n",
    "    main_codes = {}                             #we run one iteration for all the main codes, only main codes contain relation name\n",
    "    for line in pico_lines:\n",
    "        line = line.split('#')\n",
    "        if line[0] == \"\" or line[0] == \"\\n\":    #only intro comments and empty lines\n",
    "            continue\n",
    "        else: \n",
    "            code_split = line[0].split(\":\")     #splits into CAMEO code and related hex\n",
    "            if len(line) > 1 and code_split[0][2] == \"0\":      #only main categories have 0 in 3rd idx, [cat_num 0] -> [010]\n",
    "                main_codes[code_split[0][:2]] = line[-1].replace(\"\\n\",\"\")\n",
    "    \n",
    "    #map code to code we want to use in the training\n",
    "    map_codes = {\"DiplomaticCoop\" : \"Engage In Diplomatic Cooperation\", \n",
    "                \"MaterialCoop\" : \"Engage In Material Cooperation\",\n",
    "                \"ProvideAid\" : \"Provide Aid\",\n",
    "                \"Exhibit Force Posture\": \"Exhibit Military Posture\",\n",
    "                \"Use Unconventional Mass Violence\" : \"Engage In Unconventional Mass Violence\"}\n",
    "    main_codes = {k: (map_codes[v] if v in map_codes else v) for k, v in main_codes.items()}\n",
    "    \n",
    "    #read single word patterns and match their code to the relation extracted in main_codes\n",
    "    verb_path = os.path.join(os.getcwd(), verb_path)\n",
    "    verb_file = open(verb_path, 'r')\n",
    "    verb_lines = verb_file.readlines()\n",
    "    \n",
    "    verb_dict = {}\n",
    "    for line in verb_lines:\n",
    "        if line[0] == \"#\":\n",
    "            continue\n",
    "        elif line.startswith(\"---\"):    #main verbs have a lead code, which is applied to all very in the section\n",
    "                                        #unless a separate code is specified for a specific verb in section\n",
    "            try: cur_main_code = re.split(\"\\[|\\]|---\", line)[2].replace(\":\",\"\")[:2]  #we only need main codes which are first two numbers\n",
    "                                                                                #sometimes code starts with \":\", e.g.: ---  OFFEND   [:110]  ---\n",
    "                                                                                #we just remove those to get the main code\n",
    "            except:                     #depending on chosen verb dictionairy, there may be main verbs without lead codes\n",
    "                print(\"couldn't finde code in: \", line.replace(\"\\n\",\"\")) \n",
    "                cur_main_code == \"--\"\n",
    "            if cur_main_code == \"\": cur_main_code = \"--\"\n",
    "        elif line == \"\\n\":              #skip empty lines\n",
    "            continue\n",
    "        elif line[0] == \"-\" or line[0] == \"~\" or line[0] == \"+\" or line[0] == \"&\": #removes all special structures we cannot use\n",
    "            continue\n",
    "        else:\n",
    "            if len(re.split(\"\\[|\\]\", line)) > 1:    #verbs with their own code, e.g.: AFFIRM [051] \n",
    "                code = re.split(\"\\[|\\]\", line)[1].replace(\":\",\"\")[:2]\n",
    "                if code != \"--\":\n",
    "                    if \"{\" in line:         #conjugated verbs, e.g. \"APPLY {APPLYING APPLIED APPLIES } [020]\"\n",
    "                        line_s = re.split(\"\\{|\\}\", line)    #split at { and }\n",
    "                        verb_dict[line_s[0].lower()] = main_codes[code] \n",
    "                        for word in line_s[1].split():\n",
    "                            verb_dict[word.lower()] = main_codes[code]\n",
    "                    else:\n",
    "                        word = re.split(\"\\[|\\]\", line)[0]\n",
    "                        verb_dict[word.lower()] = main_codes[code]\n",
    "            else:\n",
    "                if cur_main_code != \"--\":\n",
    "                    if \"{\" in line:         #e.g. \"HURRY {HURRIES HURRYING HURRIED }\" \n",
    "                        line_s = re.split(\"\\{|\\}\", line)    #split at { and }\n",
    "                        verb_dict[line_s[0].lower()] = main_codes[cur_main_code]\n",
    "                        for word in line_s[1].split():\n",
    "                            verb_dict[word.lower()] = main_codes[cur_main_code]\n",
    "                    else:                   #only single words with sometimes comments, e.g.: CENSURE  # JON 5/17/95\n",
    "                        word = line.split(\"#\")[0].rstrip()    #gets part before \"#\", removes all whitespaces to the right\n",
    "                        verb_dict[word.lower()] = main_codes[cur_main_code]\n",
    "\n",
    "    #read multi word patterns and create a dictionary for their code\n",
    "\n",
    "    #get filler words that occur in multi word patterns\n",
    "    verb_file = open(verb_path, 'r')\n",
    "    verb_lines = verb_file.readlines()\n",
    "\n",
    "    pre_dict = {}\n",
    "    filter_list = []\n",
    "    for line in verb_lines:\n",
    "        if line.startswith(\"&\"):\n",
    "            cur_filter = line.rstrip()\n",
    "        elif line.startswith(\"\\n\") and \"cur_filter\" in locals():\n",
    "            pre_dict[cur_filter.lower()] = filter_list\n",
    "            cur_filter = \"\"\n",
    "            filter_list = []\n",
    "        elif line.startswith(\"+\") and cur_filter != \"\":\n",
    "            filter_list.append(line.rstrip()[1:].replace(\"_\", \"\").lower())\n",
    "    del pre_dict[\"\"]\n",
    "\n",
    "    #generate dictionaries for multi word patterns\n",
    "    verb_file = open(verb_path, 'r')\n",
    "    verb_lines = verb_file.readlines()\n",
    "\n",
    "    spec_dict = {}\n",
    "    spec_code = {}\n",
    "\n",
    "    count = 0\n",
    "    for line in verb_lines:\n",
    "        if line.startswith(\"- \"):\n",
    "            #get main verb as dict key\n",
    "            try: \n",
    "                verb_match = re.search(\"# *\\w+\", line).group()\n",
    "                verb_match = re.search(\"\\w+\", verb_match).group()\n",
    "                verb_match = verb_match.replace(\"_\", \" \").lower()\n",
    "            except: \n",
    "                count += 1\n",
    "\n",
    "            #get code for line\n",
    "            try:\n",
    "                code = re.search(\"\\[.*]\", line).group()[1:3]\n",
    "                if code != \"--\":\n",
    "                    #get all possibility that the line indicates\n",
    "                    poss = gen_poss(line, verb_match, pre_dict)\n",
    "                    for pattern in poss:\n",
    "                        spec_code[pattern] = main_codes[code]\n",
    "                    spec_dict[verb_match] = poss\n",
    "            except:\n",
    "                count += 1\n",
    "\n",
    "    print(f\"{count} patterns could not be loaded\")        \n",
    "\n",
    "    return verb_dict, spec_dict, spec_code\n",
    "\n",
    "\n",
    "def get_triples(sentence, verb_dict, spec_dict, spec_code, nlp):\n",
    "    \"\"\"create triplet structure for training from text input, \n",
    "    verb_dict needs to be loaded before,\n",
    "    spacy model needs to be initialized before \"\"\"\n",
    "    doc = nlp(sentence)\n",
    "    verbs = []\n",
    "    dict = {}\n",
    "    for possible_verb in doc:\n",
    "        if possible_verb.pos == VERB:\n",
    "            if neg in [child.dep for child in possible_verb.children]: continue\n",
    "            else: \n",
    "                for possible_subject in possible_verb.children: \n",
    "                    if possible_subject.dep == xcomp or possible_subject.dep == ccomp:   #subj / obj of composed verb should also be subj / obj of main verb\n",
    "                        main_verb = possible_subject\n",
    "                        main_idx = possible_subject.idx\n",
    "                        \n",
    "                        for chunk in doc.noun_chunks:\n",
    "                            if chunk.root.dep_ == \"poss\" or chunk.root.dep_ == \"prep\":\n",
    "                                if chunk.root.head.head.idx == possible_verb.idx:\n",
    "                                    verbs.append([main_idx, main_verb.lemma_, chunk.text, chunk.root.head.dep_])\n",
    "\n",
    "                            else:\n",
    "                                if chunk.root.head.idx == possible_verb.idx:\n",
    "                                    verbs.append([main_idx, main_verb.lemma_, chunk.text, chunk.root.dep_])\n",
    "\n",
    "\n",
    "                for chunk in doc.noun_chunks:       #for normal verbs, check chunks directly\n",
    "                    if chunk.root.head.dep_ == \"poss\" or chunk.root.head.dep_ == \"prep\":\n",
    "                        if chunk.root.head.head.idx == possible_verb.idx:\n",
    "                            verbs.append([possible_verb.idx, possible_verb.lemma_, chunk.text, chunk.root.head.dep_])\n",
    "\n",
    "                    else:\n",
    "                        if chunk.root.head.idx == possible_verb.idx:\n",
    "                            verbs.append([possible_verb.idx, possible_verb.lemma_, chunk.text, chunk.root.dep_])\n",
    "\n",
    "    # doc = nlp(sentence)\n",
    "    # verbs = []\n",
    "    # dict = {}\n",
    "\n",
    "    # for possible_verb in doc:           #parses through all words in sentence\n",
    "    #     if possible_verb.pos == VERB:   #we only care about verbs\n",
    "    #         if neg in [child.dep for child in possible_verb.children]: continue #we exclude all negated verbs\n",
    "    #         else: \n",
    "    #             for candidate in possible_verb.children: #for composed verbs of verb (e.g. \"want to join\" -> \"want join\")\n",
    "    #                 if candidate.dep == xcomp:   #subj / obj of composed verb should also be subj / obj of main verb\n",
    "    #                     main_verb = candidate    \n",
    "    #                     main_idx = candidate.idx\n",
    "    #                     for chunk in doc.noun_chunks:   #chunks are noun-groups (e.g.: \"78 out of 100 people\" instead of \"people\")\n",
    "    #                         if chunk.root.head.idx == possible_verb.idx:    #if chunk applies to xcomp (want),\n",
    "    #                                                                         #treat it like it aplles to main verb (\"join\")\n",
    "    #                             verbs.append([main_idx, main_verb.lemma_, chunk.text, chunk.root.dep_])\n",
    "    #                             if main_idx in dict.keys(): dict[main_idx] += 1 #count how often verb is used\n",
    "    #                             else: dict[main_idx] = 1\n",
    "\n",
    "    #             for chunk in doc.noun_chunks:       #for normal verbs, check chunks directly\n",
    "    #                 if chunk.root.head.idx == possible_verb.idx:\n",
    "    #                     verbs.append([possible_verb.idx, possible_verb.lemma_, chunk.text, chunk.root.dep_])\n",
    "    #                     if possible_verb.idx in dict.keys(): dict[possible_verb.idx] += 1\n",
    "    #                     else: dict[possible_verb.idx] = 1\n",
    "    \n",
    "    # trip_idx = [key for key in dict if dict[key] > 1]   #if verbs used more than once, its candidate for triplet\n",
    "\n",
    "    #priority for subj-relation-obj triplets\n",
    "    mapper = {\"nsubj\":1,\"dobj\":2, \"pobj\":2, \"iobj\":2}\n",
    "\n",
    "    #create df from verbs extracted \n",
    "    df = pd.DataFrame(verbs, columns = [\"idx\", \"verb\", \"noun\", \"noun_type\"])\n",
    "    df[\"noun_map\"] = df.noun_type.map(mapper)  #turn noun_types into priority \n",
    "    return df\n",
    "\n",
    "    # #create groups that resolve around same word\n",
    "    # gb = df.groupby('idx')    \n",
    "    # #only keep groups if verb idx was identified as potential triplet before, sort by priority for structure\n",
    "    # df_l = [gb.get_group(x).sort_values(\"noun_map\") for x in gb.groups if gb.get_group(x).idx.iloc[0] in dict]\n",
    "    # matches = [merge_trip(group) for group in df_l if not merge_trip(group) == None] #get groups into triplet structure\n",
    "    \n",
    "    # #turn matches into triples by only keeping those with coded verbs, return code instead of verb\n",
    "    # triples = []\n",
    "    # for match in matches:\n",
    "    #     if match[1].lower() in spec_dict:\n",
    "    #         for poss_pattern in spec_dict[match[1].lower()]:\n",
    "    #             if set(poss_pattern.split()).intersection(sentence.split()) == set(poss_pattern.split()):\n",
    "    #                 triples.append(f\"<triplet> {match[0]} <subj> {match[2]} <obj> {spec_code[poss_pattern]}\")\n",
    "                    \n",
    "    #     elif match[1].lower() in verb_dict:\n",
    "    #         triples.append(f\"<triplet> {match[0]} <subj> {match[2]} <obj> {verb_dict[match[1].lower()]}\")\n",
    "    #     else: print(f\"couldn't match {match[1].lower()}\")\n",
    "\n",
    "    # #triples = [f\"<triplet> {match[0]} <subj> {match[2]} <obj> {verb_dict[match[1].lower()]}\" for match in matches if match[1].lower() in verb_dict]\n",
    "\n",
    "    # return triples\n",
    "\n",
    "def merge_trip(df):\n",
    "    \"\"\"helper function to turn two rows of a pandas groupby into subj, verb, obj\"\"\"\n",
    "    if df.shape[0] == 2:\n",
    "        if df.noun_type.iloc[0] != df.noun_type.iloc[1]:\n",
    "            return [df.iloc[0].noun, df.iloc[0].verb, df.iloc[1].noun]\n",
    "    elif df.shape[0] > 2:\n",
    "        for i in range(df.shape[0] - 1):\n",
    "            if df.noun_type.iloc[i] != df.noun_type.iloc[i+1]:\n",
    "                return [df.iloc[0].noun, df.iloc[0].verb, df.iloc[1].noun]\n",
    "\n",
    "    "
   ]
  },
  {
   "cell_type": "code",
   "execution_count": 6,
   "metadata": {},
   "outputs": [],
   "source": [
    "dfs = [[sentence, get_triples(sentence, verb_dict, spec_dict, spec_code, nlp)] for sentence in read]\n",
    "#very heavy single core - possibly parallelizable "
   ]
  },
  {
   "cell_type": "code",
   "execution_count": 7,
   "metadata": {},
   "outputs": [
    {
     "data": {
      "text/plain": [
       "21395"
      ]
     },
     "execution_count": 7,
     "metadata": {},
     "output_type": "execute_result"
    }
   ],
   "source": [
    "len(dfs)"
   ]
  },
  {
   "cell_type": "code",
   "execution_count": 8,
   "metadata": {},
   "outputs": [
    {
     "data": {
      "text/plain": [
       "['“They continue their indiscriminate bombardment of civilians and attacks on civilian infrastructure.',\n",
       "    idx      verb                              noun noun_type  noun_map\n",
       " 0    6  continue                              They     nsubj         1\n",
       " 1    6  continue  their indiscriminate bombardment      dobj         2]"
      ]
     },
     "execution_count": 8,
     "metadata": {},
     "output_type": "execute_result"
    }
   ],
   "source": [
    "dfs[20]"
   ]
  },
  {
   "cell_type": "code",
   "execution_count": 9,
   "metadata": {},
   "outputs": [],
   "source": [
    "candidats = [df for df in dfs if df[1].shape[0] >= 2]"
   ]
  },
  {
   "cell_type": "code",
   "execution_count": 10,
   "metadata": {},
   "outputs": [
    {
     "data": {
      "text/plain": [
       "18552"
      ]
     },
     "execution_count": 10,
     "metadata": {},
     "output_type": "execute_result"
    }
   ],
   "source": [
    "len(candidats)"
   ]
  },
  {
   "cell_type": "code",
   "execution_count": 11,
   "metadata": {},
   "outputs": [],
   "source": [
    "trips = []\n",
    "for can in candidats:\n",
    "    for idx in can[1][\"idx\"]:\n",
    "        if can[1][\"idx\"].to_list().count(idx) > 1:\n",
    "            trips.append([can[0], can[1]])\n",
    "            break"
   ]
  },
  {
   "cell_type": "code",
   "execution_count": 12,
   "metadata": {},
   "outputs": [
    {
     "data": {
      "text/plain": [
       "17157"
      ]
     },
     "execution_count": 12,
     "metadata": {},
     "output_type": "execute_result"
    }
   ],
   "source": [
    "len(trips)\n"
   ]
  },
  {
   "cell_type": "code",
   "execution_count": 13,
   "metadata": {},
   "outputs": [],
   "source": [
    "matches = []\n",
    "for idx, df in enumerate(trips):\n",
    "    #create groups that resolve around same word\n",
    "    gb = df[1].groupby('idx')    \n",
    "    #only keep groups if verb idx was identified as potential triplet before, sort by priority for structure\n",
    "    for x in gb.groups:\n",
    "        if gb.get_group(x).shape[0] == 2:\n",
    "            if gb.get_group(x).noun_type.iloc[0] != gb.get_group(x).noun_type.iloc[1]:\n",
    "                matches.append([df[0], gb.get_group(x).iloc[0].noun, gb.get_group(x).iloc[0].verb, gb.get_group(x).iloc[1].noun])\n",
    "        elif gb.get_group(x).shape[0] > 2:\n",
    "            for i in range(gb.get_group(x).shape[0] - 1):\n",
    "                if gb.get_group(x).noun_type.iloc[i] != gb.get_group(x).noun_type.iloc[i+1]:\n",
    "                    matches.append([df[0], gb.get_group(x).iloc[0].noun, gb.get_group(x).iloc[0].verb, gb.get_group(x).iloc[1].noun])"
   ]
  },
  {
   "cell_type": "code",
   "execution_count": 14,
   "metadata": {},
   "outputs": [
    {
     "data": {
      "text/plain": [
       "46112"
      ]
     },
     "execution_count": 14,
     "metadata": {},
     "output_type": "execute_result"
    }
   ],
   "source": [
    "len(matches)"
   ]
  },
  {
   "cell_type": "code",
   "execution_count": 15,
   "metadata": {},
   "outputs": [],
   "source": [
    "# triples = []\n",
    "# ma_df = pd.DataFrame(matches, columns = [\"text\",\"subj\", \"verb\",\"obj\"])\n",
    "# for row in ma_df.iterrows():\n",
    "#     if row[1][\"verb\"] in spec_dict:\n",
    "#         for poss_pattern in spec_dict[row[1][\"verb\"]]:\n",
    "#             if set(poss_pattern.split()).intersection(row[1][\"text\"].split()) == set(poss_pattern.split()):\n",
    "#                 triples.append([row[1][\"text\"], f\"<triplet> {row[1]['subj']} <subj> {row[1]['obj']} <obj> {spec_code[poss_pattern]}\"])\n",
    "#     elif row[1][\"verb\"] in verb_dict:\n",
    "#             triples.append([row[1][\"text\"], f\"<triplet> {row[1]['subj']} <subj> {row[1]['obj']} <obj> {verb_dict[row[1]['verb']]}\"])\n",
    "\n",
    "triples = []\n",
    "ma_df = pd.DataFrame(matches, columns = [\"text\",\"subj\", \"verb\",\"obj\"])\n",
    "for row in ma_df.iterrows():\n",
    "    if row[1][\"verb\"] in spec_dict:\n",
    "        for poss_pattern in spec_dict[row[1][\"verb\"]]:\n",
    "            if set(poss_pattern.split()).intersection(row[1][\"text\"].split()) == set(poss_pattern.split()):\n",
    "                triples.append([row[1][\"text\"], row[1]['subj'], row[1]['obj'] , spec_code[poss_pattern]])\n",
    "    elif row[1][\"verb\"] in verb_dict:\n",
    "            triples.append([row[1][\"text\"], row[1]['subj'], row[1]['obj'], verb_dict[row[1]['verb']]])"
   ]
  },
  {
   "cell_type": "code",
   "execution_count": 16,
   "metadata": {},
   "outputs": [],
   "source": [
    "huh = pd.DataFrame(triples, columns = [\"text\", \"subj\", \"obj\", \"label\"])"
   ]
  },
  {
   "cell_type": "code",
   "execution_count": 17,
   "metadata": {},
   "outputs": [
    {
     "data": {
      "text/plain": [
       "2117"
      ]
     },
     "execution_count": 17,
     "metadata": {},
     "output_type": "execute_result"
    }
   ],
   "source": [
    "huh.text.nunique()"
   ]
  },
  {
   "cell_type": "code",
   "execution_count": 2,
   "metadata": {},
   "outputs": [
    {
     "data": {
      "text/plain": [
       "7156"
      ]
     },
     "execution_count": 2,
     "metadata": {},
     "output_type": "execute_result"
    }
   ],
   "source": [
    "df = pd.read_csv(\"data/out_data/articles_url_coref3.csv.done.csv\", index_col = 0)\n",
    "df.text.nunique()"
   ]
  },
  {
   "cell_type": "code",
   "execution_count": 3,
   "metadata": {},
   "outputs": [
    {
     "data": {
      "text/html": [
       "<div>\n",
       "<style scoped>\n",
       "    .dataframe tbody tr th:only-of-type {\n",
       "        vertical-align: middle;\n",
       "    }\n",
       "\n",
       "    .dataframe tbody tr th {\n",
       "        vertical-align: top;\n",
       "    }\n",
       "\n",
       "    .dataframe thead th {\n",
       "        text-align: right;\n",
       "    }\n",
       "</style>\n",
       "<table border=\"1\" class=\"dataframe\">\n",
       "  <thead>\n",
       "    <tr style=\"text-align: right;\">\n",
       "      <th></th>\n",
       "      <th>text</th>\n",
       "      <th>label</th>\n",
       "    </tr>\n",
       "  </thead>\n",
       "  <tbody>\n",
       "    <tr>\n",
       "      <th>0</th>\n",
       "      <td>11:44pm: UN grain coordinator expects loaded s...</td>\n",
       "      <td>&lt;triplet&gt; UN grain coordinator &lt;subj&gt; loaded s...</td>\n",
       "    </tr>\n",
       "    <tr>\n",
       "      <th>1</th>\n",
       "      <td>\"Russia must clearly understand that Russia wi...</td>\n",
       "      <td>&lt;triplet&gt; Russia &lt;subj&gt; Russia &lt;obj&gt; Consult</td>\n",
       "    </tr>\n",
       "    <tr>\n",
       "      <th>2</th>\n",
       "      <td>8:04pm: Pro-Moscow force renews evacuation of ...</td>\n",
       "      <td>&lt;triplet&gt; the Kherson region &lt;subj&gt; a counter ...</td>\n",
       "    </tr>\n",
       "    <tr>\n",
       "      <th>3</th>\n",
       "      <td>\"Wagner and its alleged boss Yevgeny Prigozhin...</td>\n",
       "      <td>&lt;triplet&gt; terror &lt;subj&gt; Ukraine &lt;obj&gt; Make Pub...</td>\n",
       "    </tr>\n",
       "    <tr>\n",
       "      <th>4</th>\n",
       "      <td>12:04pm Kremlin accuses UK of ‘directing and c...</td>\n",
       "      <td>&lt;triplet&gt; Nord Stream blastsThe Kremlin &lt;subj&gt;...</td>\n",
       "    </tr>\n",
       "    <tr>\n",
       "      <th>...</th>\n",
       "      <td>...</td>\n",
       "      <td>...</td>\n",
       "    </tr>\n",
       "    <tr>\n",
       "      <th>8433</th>\n",
       "      <td>then President Donald Trump added then Preside...</td>\n",
       "      <td>&lt;triplet&gt; President Donald Trump &lt;subj&gt; the ap...</td>\n",
       "    </tr>\n",
       "    <tr>\n",
       "      <th>8434</th>\n",
       "      <td>Taiwan's main opposition party the Kuomintang,...</td>\n",
       "      <td>&lt;triplet&gt; Taiwan's main opposition party &lt;subj...</td>\n",
       "    </tr>\n",
       "    <tr>\n",
       "      <th>8435</th>\n",
       "      <td>Kanye West hints at another presidential run  ...</td>\n",
       "      <td>&lt;triplet&gt; Kanye West &lt;subj&gt; another presidenti...</td>\n",
       "    </tr>\n",
       "    <tr>\n",
       "      <th>8436</th>\n",
       "      <td>Credit:BloombergChina continues to send every ...</td>\n",
       "      <td>&lt;triplet&gt; Credit &lt;subj&gt; BloombergChina &lt;obj&gt; P...</td>\n",
       "    </tr>\n",
       "    <tr>\n",
       "      <th>8437</th>\n",
       "      <td>A solitary grey wolf (or Canis lupus a species...</td>\n",
       "      <td>&lt;triplet&gt; that &lt;subj&gt; the Eurasian wolf &lt;obj&gt; ...</td>\n",
       "    </tr>\n",
       "  </tbody>\n",
       "</table>\n",
       "<p>8438 rows × 2 columns</p>\n",
       "</div>"
      ],
      "text/plain": [
       "                                                   text  \\\n",
       "0     11:44pm: UN grain coordinator expects loaded s...   \n",
       "1     \"Russia must clearly understand that Russia wi...   \n",
       "2     8:04pm: Pro-Moscow force renews evacuation of ...   \n",
       "3     \"Wagner and its alleged boss Yevgeny Prigozhin...   \n",
       "4     12:04pm Kremlin accuses UK of ‘directing and c...   \n",
       "...                                                 ...   \n",
       "8433  then President Donald Trump added then Preside...   \n",
       "8434  Taiwan's main opposition party the Kuomintang,...   \n",
       "8435  Kanye West hints at another presidential run  ...   \n",
       "8436  Credit:BloombergChina continues to send every ...   \n",
       "8437  A solitary grey wolf (or Canis lupus a species...   \n",
       "\n",
       "                                                  label  \n",
       "0     <triplet> UN grain coordinator <subj> loaded s...  \n",
       "1          <triplet> Russia <subj> Russia <obj> Consult  \n",
       "2     <triplet> the Kherson region <subj> a counter ...  \n",
       "3     <triplet> terror <subj> Ukraine <obj> Make Pub...  \n",
       "4     <triplet> Nord Stream blastsThe Kremlin <subj>...  \n",
       "...                                                 ...  \n",
       "8433  <triplet> President Donald Trump <subj> the ap...  \n",
       "8434  <triplet> Taiwan's main opposition party <subj...  \n",
       "8435  <triplet> Kanye West <subj> another presidenti...  \n",
       "8436  <triplet> Credit <subj> BloombergChina <obj> P...  \n",
       "8437  <triplet> that <subj> the Eurasian wolf <obj> ...  \n",
       "\n",
       "[8438 rows x 2 columns]"
      ]
     },
     "execution_count": 3,
     "metadata": {},
     "output_type": "execute_result"
    }
   ],
   "source": [
    "df"
   ]
  },
  {
   "cell_type": "code",
   "execution_count": 4,
   "metadata": {},
   "outputs": [],
   "source": [
    "df[\"len\"] = df.text.apply(lambda x: len(x))"
   ]
  },
  {
   "cell_type": "code",
   "execution_count": 5,
   "metadata": {},
   "outputs": [
    {
     "data": {
      "text/plain": [
       "<AxesSubplot: >"
      ]
     },
     "execution_count": 5,
     "metadata": {},
     "output_type": "execute_result"
    },
    {
     "data": {
      "image/png": "[encoded data removed]",
      "text/plain": [
       "<Figure size 640x480 with 1 Axes>"
      ]
     },
     "metadata": {},
     "output_type": "display_data"
    }
   ],
   "source": [
    "import matplotlib.pyplot as plt\n",
    "df.boxplot(\"len\")"
   ]
  },
  {
   "cell_type": "code",
   "execution_count": 6,
   "metadata": {},
   "outputs": [],
   "source": [
    "import re\n",
    "#split combined triplets into single triplets\n",
    "new = []\n",
    "for row in df.iterrows():\n",
    "    split = re.split(\"<\\w*>\", row[1][\"label\"])[1:] #first one is empty\n",
    "    for i in range(int(len(split)/3)): #always pairs of 3\n",
    "        sub = split[i*3:i*3+3]\n",
    "        new.append([row[1][\"text\"], sub[0].lstrip().rstrip(), sub[1].lstrip().rstrip(), sub[2].lstrip().rstrip()])"
   ]
  },
  {
   "cell_type": "code",
   "execution_count": 7,
   "metadata": {},
   "outputs": [],
   "source": [
    "huh = pd.DataFrame(new, columns = [\"text\", \"subj\", \"obj\", \"label\"])"
   ]
  },
  {
   "cell_type": "code",
   "execution_count": 8,
   "metadata": {},
   "outputs": [
    {
     "data": {
      "text/html": [
       "<div>\n",
       "<style scoped>\n",
       "    .dataframe tbody tr th:only-of-type {\n",
       "        vertical-align: middle;\n",
       "    }\n",
       "\n",
       "    .dataframe tbody tr th {\n",
       "        vertical-align: top;\n",
       "    }\n",
       "\n",
       "    .dataframe thead th {\n",
       "        text-align: right;\n",
       "    }\n",
       "</style>\n",
       "<table border=\"1\" class=\"dataframe\">\n",
       "  <thead>\n",
       "    <tr style=\"text-align: right;\">\n",
       "      <th></th>\n",
       "      <th>text</th>\n",
       "      <th>subj</th>\n",
       "      <th>obj</th>\n",
       "      <th>label</th>\n",
       "    </tr>\n",
       "  </thead>\n",
       "  <tbody>\n",
       "    <tr>\n",
       "      <th>0</th>\n",
       "      <td>11:44pm: UN grain coordinator expects loaded s...</td>\n",
       "      <td>UN grain coordinator</td>\n",
       "      <td>loaded ships</td>\n",
       "      <td>Consult</td>\n",
       "    </tr>\n",
       "    <tr>\n",
       "      <th>1</th>\n",
       "      <td>11:44pm: UN grain coordinator expects loaded s...</td>\n",
       "      <td>UN grain coordinator</td>\n",
       "      <td>loaded ships</td>\n",
       "      <td>Consult</td>\n",
       "    </tr>\n",
       "    <tr>\n",
       "      <th>2</th>\n",
       "      <td>11:44pm: UN grain coordinator expects loaded s...</td>\n",
       "      <td>UN grain coordinator</td>\n",
       "      <td>loaded ships</td>\n",
       "      <td>Consult</td>\n",
       "    </tr>\n",
       "    <tr>\n",
       "      <th>3</th>\n",
       "      <td>\"Russia must clearly understand that Russia wi...</td>\n",
       "      <td>Russia</td>\n",
       "      <td>Russia</td>\n",
       "      <td>Consult</td>\n",
       "    </tr>\n",
       "    <tr>\n",
       "      <th>4</th>\n",
       "      <td>8:04pm: Pro-Moscow force renews evacuation of ...</td>\n",
       "      <td>the Kherson region</td>\n",
       "      <td>a counter</td>\n",
       "      <td>Reduce Relations</td>\n",
       "    </tr>\n",
       "    <tr>\n",
       "      <th>...</th>\n",
       "      <td>...</td>\n",
       "      <td>...</td>\n",
       "      <td>...</td>\n",
       "      <td>...</td>\n",
       "    </tr>\n",
       "    <tr>\n",
       "      <th>11014</th>\n",
       "      <td>Taiwan's main opposition party the Kuomintang,...</td>\n",
       "      <td>Taiwan's main opposition party</td>\n",
       "      <td>the Kuomintang</td>\n",
       "      <td>Engage In Diplomatic Cooperation</td>\n",
       "    </tr>\n",
       "    <tr>\n",
       "      <th>11015</th>\n",
       "      <td>Kanye West hints at another presidential run  ...</td>\n",
       "      <td>Kanye West</td>\n",
       "      <td>another presidential run                      ...</td>\n",
       "      <td>Appeal</td>\n",
       "    </tr>\n",
       "    <tr>\n",
       "      <th>11016</th>\n",
       "      <td>Credit:BloombergChina continues to send every ...</td>\n",
       "      <td>Credit</td>\n",
       "      <td>BloombergChina</td>\n",
       "      <td>Provide Aid</td>\n",
       "    </tr>\n",
       "    <tr>\n",
       "      <th>11017</th>\n",
       "      <td>Credit:BloombergChina continues to send every ...</td>\n",
       "      <td>Credit</td>\n",
       "      <td>BloombergChina</td>\n",
       "      <td>Provide Aid</td>\n",
       "    </tr>\n",
       "    <tr>\n",
       "      <th>11018</th>\n",
       "      <td>A solitary grey wolf (or Canis lupus a species...</td>\n",
       "      <td>that</td>\n",
       "      <td>the Eurasian wolf</td>\n",
       "      <td>Yield</td>\n",
       "    </tr>\n",
       "  </tbody>\n",
       "</table>\n",
       "<p>11019 rows × 4 columns</p>\n",
       "</div>"
      ],
      "text/plain": [
       "                                                    text  \\\n",
       "0      11:44pm: UN grain coordinator expects loaded s...   \n",
       "1      11:44pm: UN grain coordinator expects loaded s...   \n",
       "2      11:44pm: UN grain coordinator expects loaded s...   \n",
       "3      \"Russia must clearly understand that Russia wi...   \n",
       "4      8:04pm: Pro-Moscow force renews evacuation of ...   \n",
       "...                                                  ...   \n",
       "11014  Taiwan's main opposition party the Kuomintang,...   \n",
       "11015  Kanye West hints at another presidential run  ...   \n",
       "11016  Credit:BloombergChina continues to send every ...   \n",
       "11017  Credit:BloombergChina continues to send every ...   \n",
       "11018  A solitary grey wolf (or Canis lupus a species...   \n",
       "\n",
       "                                 subj  \\\n",
       "0                UN grain coordinator   \n",
       "1                UN grain coordinator   \n",
       "2                UN grain coordinator   \n",
       "3                              Russia   \n",
       "4                  the Kherson region   \n",
       "...                               ...   \n",
       "11014  Taiwan's main opposition party   \n",
       "11015                      Kanye West   \n",
       "11016                          Credit   \n",
       "11017                          Credit   \n",
       "11018                            that   \n",
       "\n",
       "                                                     obj  \\\n",
       "0                                           loaded ships   \n",
       "1                                           loaded ships   \n",
       "2                                           loaded ships   \n",
       "3                                                 Russia   \n",
       "4                                              a counter   \n",
       "...                                                  ...   \n",
       "11014                                     the Kuomintang   \n",
       "11015  another presidential run                      ...   \n",
       "11016                                     BloombergChina   \n",
       "11017                                     BloombergChina   \n",
       "11018                                  the Eurasian wolf   \n",
       "\n",
       "                                  label  \n",
       "0                               Consult  \n",
       "1                               Consult  \n",
       "2                               Consult  \n",
       "3                               Consult  \n",
       "4                      Reduce Relations  \n",
       "...                                 ...  \n",
       "11014  Engage In Diplomatic Cooperation  \n",
       "11015                            Appeal  \n",
       "11016                       Provide Aid  \n",
       "11017                       Provide Aid  \n",
       "11018                             Yield  \n",
       "\n",
       "[11019 rows x 4 columns]"
      ]
     },
     "execution_count": 8,
     "metadata": {},
     "output_type": "execute_result"
    }
   ],
   "source": [
    "huh"
   ]
  },
  {
   "cell_type": "code",
   "execution_count": 9,
   "metadata": {},
   "outputs": [
    {
     "data": {
      "text/plain": [
       "7156"
      ]
     },
     "execution_count": 9,
     "metadata": {},
     "output_type": "execute_result"
    }
   ],
   "source": [
    "huh.text.nunique()"
   ]
  },
  {
   "cell_type": "code",
   "execution_count": 10,
   "metadata": {},
   "outputs": [],
   "source": [
    "from transformers import AutoModelForSequenceClassification, AutoTokenizer\n",
    "import torch\n",
    "cuda_ = \"cuda\" #all GPUS, specify specific GPUs with \"cuda:0\"\n",
    "device = torch.device(cuda_ if torch.cuda.is_available() else \"cpu\")\n",
    "\n",
    "nli_model = AutoModelForSequenceClassification.from_pretrained('facebook/bart-large-mnli')\n",
    "nli_model.to(device)\n",
    "tokenizer = AutoTokenizer.from_pretrained('facebook/bart-large-mnli')"
   ]
  },
  {
   "cell_type": "code",
   "execution_count": 11,
   "metadata": {},
   "outputs": [
    {
     "name": "stderr",
     "output_type": "stream",
     "text": [
      "/home/werner/thesis_valentin/lib/python3.8/site-packages/transformers/tokenization_utils_base.py:2296: FutureWarning: The `truncation_strategy` argument is deprecated and will be removed in a future version, use `truncation=True` to truncate examples to a max length. You can give a specific length with `max_length` (e.g. `max_length=45`) or leave max_length to None to truncate to the maximal input size of the model (e.g. 512 for Bert).  If you have pairs of inputs, you can give a specific truncation strategy selected among `truncation='only_first'` (will only truncate the first sentence in the pairs) `truncation='only_second'` (will only truncate the second sentence in the pairs) or `truncation='longest_first'` (will iteratively remove tokens from the longest sentence in the pairs).\n",
      "  warnings.warn(\n"
     ]
    }
   ],
   "source": [
    "probs_l = []\n",
    "for row in huh.iterrows():\n",
    "    premise = row[1][\"text\"]\n",
    "    subj = row[1][\"subj\"]\n",
    "    rel = row[1][\"label\"]\n",
    "    obj =  row[1][\"obj\"]\n",
    "\n",
    "    hypothesis = f'{subj} does {rel} towards {obj}.'\n",
    "\n",
    "    # run through model pre-trained on MNLI\n",
    "    x = tokenizer.encode(premise, hypothesis, return_tensors='pt',\n",
    "                        truncation_strategy='only_first')\n",
    "    logits = nli_model(x.to(device))[0]\n",
    "\n",
    "    # we throw away \"neutral\" (dim 1) and take the probability of\n",
    "    # \"entailment\" (2) as the probability of the label being true \n",
    "    entail_contradiction_logits = logits[:,[0,2]]\n",
    "    probs = entail_contradiction_logits.softmax(dim=1)\n",
    "    prob_label_is_true = probs[:,1]\n",
    "\n",
    "    probs_l.append([row[0], prob_label_is_true.item()])\n",
    "if device != \"cpu\": torch.cuda.empty_cache()"
   ]
  },
  {
   "cell_type": "code",
   "execution_count": 12,
   "metadata": {},
   "outputs": [],
   "source": [
    "huh = pd.merge(huh.reset_index(), pd.DataFrame(probs_l, columns = [\"index\", \"prob\"]), on = \"index\")\n",
    "huh = huh.drop_duplicates([\"text\", \"prob\", \"label\"], keep = \"first\")"
   ]
  },
  {
   "cell_type": "code",
   "execution_count": 13,
   "metadata": {},
   "outputs": [
    {
     "data": {
      "text/plain": [
       "(4959, 6)"
      ]
     },
     "execution_count": 13,
     "metadata": {},
     "output_type": "execute_result"
    }
   ],
   "source": [
    "dec = huh[huh.prob < 0.7]\n",
    "dec.shape"
   ]
  },
  {
   "cell_type": "code",
   "execution_count": 14,
   "metadata": {},
   "outputs": [
    {
     "data": {
      "text/plain": [
       "(2685, 6)"
      ]
     },
     "execution_count": 14,
     "metadata": {},
     "output_type": "execute_result"
    }
   ],
   "source": [
    "keep = huh[huh.prob > 0.7]\n",
    "keep.shape"
   ]
  },
  {
   "cell_type": "code",
   "execution_count": 15,
   "metadata": {},
   "outputs": [
    {
     "data": {
      "text/plain": [
       "(2685, 6)"
      ]
     },
     "execution_count": 15,
     "metadata": {},
     "output_type": "execute_result"
    }
   ],
   "source": [
    "keep.shape"
   ]
  },
  {
   "cell_type": "code",
   "execution_count": 20,
   "metadata": {},
   "outputs": [
    {
     "data": {
      "text/plain": [
       "2601"
      ]
     },
     "execution_count": 20,
     "metadata": {},
     "output_type": "execute_result"
    }
   ],
   "source": [
    "keep.text.nunique()"
   ]
  },
  {
   "cell_type": "code",
   "execution_count": 16,
   "metadata": {},
   "outputs": [
    {
     "data": {
      "text/html": [
       "<div>\n",
       "<style scoped>\n",
       "    .dataframe tbody tr th:only-of-type {\n",
       "        vertical-align: middle;\n",
       "    }\n",
       "\n",
       "    .dataframe tbody tr th {\n",
       "        vertical-align: top;\n",
       "    }\n",
       "\n",
       "    .dataframe thead th {\n",
       "        text-align: right;\n",
       "    }\n",
       "</style>\n",
       "<table border=\"1\" class=\"dataframe\">\n",
       "  <thead>\n",
       "    <tr style=\"text-align: right;\">\n",
       "      <th></th>\n",
       "      <th>index</th>\n",
       "      <th>text</th>\n",
       "      <th>subj</th>\n",
       "      <th>obj</th>\n",
       "      <th>label</th>\n",
       "      <th>prob</th>\n",
       "    </tr>\n",
       "  </thead>\n",
       "  <tbody>\n",
       "    <tr>\n",
       "      <th>0</th>\n",
       "      <td>0</td>\n",
       "      <td>11:44pm: UN grain coordinator expects loaded s...</td>\n",
       "      <td>UN grain coordinator</td>\n",
       "      <td>loaded ships</td>\n",
       "      <td>Consult</td>\n",
       "      <td>0.979625</td>\n",
       "    </tr>\n",
       "    <tr>\n",
       "      <th>5</th>\n",
       "      <td>5</td>\n",
       "      <td>8:04pm: Pro-Moscow force renews evacuation of ...</td>\n",
       "      <td>which</td>\n",
       "      <td>70,000 people</td>\n",
       "      <td>Yield</td>\n",
       "      <td>0.979495</td>\n",
       "    </tr>\n",
       "    <tr>\n",
       "      <th>6</th>\n",
       "      <td>6</td>\n",
       "      <td>\"Wagner and its alleged boss Yevgeny Prigozhin...</td>\n",
       "      <td>terror</td>\n",
       "      <td>Ukraine</td>\n",
       "      <td>Make Public Statement</td>\n",
       "      <td>0.880736</td>\n",
       "    </tr>\n",
       "    <tr>\n",
       "      <th>11</th>\n",
       "      <td>11</td>\n",
       "      <td>Finland and Sweden asked to join the NATO defe...</td>\n",
       "      <td>Finland</td>\n",
       "      <td>the NATO defence alliance</td>\n",
       "      <td>Consult</td>\n",
       "      <td>0.874101</td>\n",
       "    </tr>\n",
       "    <tr>\n",
       "      <th>13</th>\n",
       "      <td>13</td>\n",
       "      <td>In a post on Telegram, Vladimir Saldo, the Rus...</td>\n",
       "      <td>civilians</td>\n",
       "      <td>an additional 15 kilometres</td>\n",
       "      <td>Reduce Relations</td>\n",
       "      <td>0.745262</td>\n",
       "    </tr>\n",
       "    <tr>\n",
       "      <th>14</th>\n",
       "      <td>14</td>\n",
       "      <td>the country to hold 5th election in 3 years as...</td>\n",
       "      <td>a powerful new player</td>\n",
       "      <td>a vote</td>\n",
       "      <td>Consult</td>\n",
       "      <td>0.875621</td>\n",
       "    </tr>\n",
       "    <tr>\n",
       "      <th>17</th>\n",
       "      <td>17</td>\n",
       "      <td>The ultranationalist Religious Zionism party, ...</td>\n",
       "      <td>whose provocative top candidate</td>\n",
       "      <td>Arab legislators</td>\n",
       "      <td>Coerce</td>\n",
       "      <td>0.941591</td>\n",
       "    </tr>\n",
       "    <tr>\n",
       "      <th>21</th>\n",
       "      <td>21</td>\n",
       "      <td>“Pakistan can serve as the manufacturing base ...</td>\n",
       "      <td>Pakistan</td>\n",
       "      <td>the manufacturing base</td>\n",
       "      <td>Engage In Material Cooperation</td>\n",
       "      <td>0.769296</td>\n",
       "    </tr>\n",
       "    <tr>\n",
       "      <th>22</th>\n",
       "      <td>22</td>\n",
       "      <td>In Bangkok for the latest leg of Foreign Affai...</td>\n",
       "      <td>Foreign Affairs Minister Penny Wong</td>\n",
       "      <td>Bangkok</td>\n",
       "      <td>Engage In Diplomatic Cooperation</td>\n",
       "      <td>0.991021</td>\n",
       "    </tr>\n",
       "    <tr>\n",
       "      <th>24</th>\n",
       "      <td>24</td>\n",
       "      <td>Prime Minister Han Duck-soo said South Korea's...</td>\n",
       "      <td>Prime Minister Han Duck-soo</td>\n",
       "      <td>South Korea</td>\n",
       "      <td>Make Public Statement</td>\n",
       "      <td>0.741399</td>\n",
       "    </tr>\n",
       "  </tbody>\n",
       "</table>\n",
       "</div>"
      ],
      "text/plain": [
       "    index                                               text  \\\n",
       "0       0  11:44pm: UN grain coordinator expects loaded s...   \n",
       "5       5  8:04pm: Pro-Moscow force renews evacuation of ...   \n",
       "6       6  \"Wagner and its alleged boss Yevgeny Prigozhin...   \n",
       "11     11  Finland and Sweden asked to join the NATO defe...   \n",
       "13     13  In a post on Telegram, Vladimir Saldo, the Rus...   \n",
       "14     14  the country to hold 5th election in 3 years as...   \n",
       "17     17  The ultranationalist Religious Zionism party, ...   \n",
       "21     21  “Pakistan can serve as the manufacturing base ...   \n",
       "22     22  In Bangkok for the latest leg of Foreign Affai...   \n",
       "24     24  Prime Minister Han Duck-soo said South Korea's...   \n",
       "\n",
       "                                   subj                          obj  \\\n",
       "0                  UN grain coordinator                 loaded ships   \n",
       "5                                 which                70,000 people   \n",
       "6                                terror                      Ukraine   \n",
       "11                              Finland    the NATO defence alliance   \n",
       "13                            civilians  an additional 15 kilometres   \n",
       "14                a powerful new player                       a vote   \n",
       "17      whose provocative top candidate             Arab legislators   \n",
       "21                             Pakistan       the manufacturing base   \n",
       "22  Foreign Affairs Minister Penny Wong                      Bangkok   \n",
       "24          Prime Minister Han Duck-soo                  South Korea   \n",
       "\n",
       "                               label      prob  \n",
       "0                            Consult  0.979625  \n",
       "5                              Yield  0.979495  \n",
       "6              Make Public Statement  0.880736  \n",
       "11                           Consult  0.874101  \n",
       "13                  Reduce Relations  0.745262  \n",
       "14                           Consult  0.875621  \n",
       "17                            Coerce  0.941591  \n",
       "21    Engage In Material Cooperation  0.769296  \n",
       "22  Engage In Diplomatic Cooperation  0.991021  \n",
       "24             Make Public Statement  0.741399  "
      ]
     },
     "execution_count": 16,
     "metadata": {},
     "output_type": "execute_result"
    }
   ],
   "source": [
    "keep.head(10)"
   ]
  },
  {
   "cell_type": "code",
   "execution_count": 21,
   "metadata": {},
   "outputs": [],
   "source": [
    "res = []\n",
    "last_txt = \"\"\n",
    "for row in keep.iterrows():\n",
    "    trip = f\"<triplet> {row[1]['subj']} <subj> {row[1]['obj']} <obj> {row[1]['label']}\"\n",
    "    if row[1][\"text\"] == last_txt:\n",
    "        res[-1] = [res[-1][0], res[-1][1] + trip]\n",
    "    else:\n",
    "        res.append([row[1][\"text\"], trip])\n",
    "    last_txt = row[1][\"text\"]"
   ]
  },
  {
   "cell_type": "code",
   "execution_count": 22,
   "metadata": {},
   "outputs": [
    {
     "data": {
      "text/plain": [
       "(2601, 2)"
      ]
     },
     "execution_count": 22,
     "metadata": {},
     "output_type": "execute_result"
    }
   ],
   "source": [
    "df_new = pd.DataFrame(res, columns = [\"text\",\"label\"])\n",
    "df_new.shape"
   ]
  },
  {
   "cell_type": "code",
   "execution_count": null,
   "metadata": {},
   "outputs": [],
   "source": [
    "df_new.to_csv(\"data/out_data/entail_articles_url_coref3.csv.done.csv\")"
   ]
  },
  {
   "cell_type": "code",
   "execution_count": 23,
   "metadata": {},
   "outputs": [
    {
     "data": {
      "text/html": [
       "<div>\n",
       "<style scoped>\n",
       "    .dataframe tbody tr th:only-of-type {\n",
       "        vertical-align: middle;\n",
       "    }\n",
       "\n",
       "    .dataframe tbody tr th {\n",
       "        vertical-align: top;\n",
       "    }\n",
       "\n",
       "    .dataframe thead th {\n",
       "        text-align: right;\n",
       "    }\n",
       "</style>\n",
       "<table border=\"1\" class=\"dataframe\">\n",
       "  <thead>\n",
       "    <tr style=\"text-align: right;\">\n",
       "      <th></th>\n",
       "      <th>text</th>\n",
       "      <th>label</th>\n",
       "    </tr>\n",
       "  </thead>\n",
       "  <tbody>\n",
       "    <tr>\n",
       "      <th>0</th>\n",
       "      <td>11:44pm: UN grain coordinator expects loaded s...</td>\n",
       "      <td>&lt;triplet&gt; UN grain coordinator &lt;subj&gt; loaded s...</td>\n",
       "    </tr>\n",
       "    <tr>\n",
       "      <th>1</th>\n",
       "      <td>8:04pm: Pro-Moscow force renews evacuation of ...</td>\n",
       "      <td>&lt;triplet&gt; which &lt;subj&gt; 70,000 people &lt;obj&gt; Yield</td>\n",
       "    </tr>\n",
       "    <tr>\n",
       "      <th>2</th>\n",
       "      <td>\"Wagner and its alleged boss Yevgeny Prigozhin...</td>\n",
       "      <td>&lt;triplet&gt; terror &lt;subj&gt; Ukraine &lt;obj&gt; Make Pub...</td>\n",
       "    </tr>\n",
       "    <tr>\n",
       "      <th>3</th>\n",
       "      <td>Finland and Sweden asked to join the NATO defe...</td>\n",
       "      <td>&lt;triplet&gt; Finland &lt;subj&gt; the NATO defence alli...</td>\n",
       "    </tr>\n",
       "    <tr>\n",
       "      <th>4</th>\n",
       "      <td>In a post on Telegram, Vladimir Saldo, the Rus...</td>\n",
       "      <td>&lt;triplet&gt; civilians &lt;subj&gt; an additional 15 ki...</td>\n",
       "    </tr>\n",
       "  </tbody>\n",
       "</table>\n",
       "</div>"
      ],
      "text/plain": [
       "                                                text  \\\n",
       "0  11:44pm: UN grain coordinator expects loaded s...   \n",
       "1  8:04pm: Pro-Moscow force renews evacuation of ...   \n",
       "2  \"Wagner and its alleged boss Yevgeny Prigozhin...   \n",
       "3  Finland and Sweden asked to join the NATO defe...   \n",
       "4  In a post on Telegram, Vladimir Saldo, the Rus...   \n",
       "\n",
       "                                               label  \n",
       "0  <triplet> UN grain coordinator <subj> loaded s...  \n",
       "1   <triplet> which <subj> 70,000 people <obj> Yield  \n",
       "2  <triplet> terror <subj> Ukraine <obj> Make Pub...  \n",
       "3  <triplet> Finland <subj> the NATO defence alli...  \n",
       "4  <triplet> civilians <subj> an additional 15 ki...  "
      ]
     },
     "execution_count": 23,
     "metadata": {},
     "output_type": "execute_result"
    }
   ],
   "source": [
    "df_new.head()"
   ]
  },
  {
   "cell_type": "code",
   "execution_count": 168,
   "metadata": {},
   "outputs": [
    {
     "data": {
      "text/plain": [
       "0.8752286434173584"
      ]
     },
     "execution_count": 168,
     "metadata": {},
     "output_type": "execute_result"
    }
   ],
   "source": [
    "premise = \"In early November, Olaf Scholz will be traveling to Beijing for the first time as German chancellor, and despite the ongoing debate about the German economy’s unsustainable dependence on China, Olaf Scholz will likely bring along a significant delegation of German executives\"\n",
    "subj = \"Olaf Scholz\"\n",
    "rel = \"Consult\"\n",
    "obj =  \"Beijing\"\n",
    "\n",
    "hypothesis = f'{subj} does {rel} towards {obj}.'\n",
    "\n",
    "# run through model pre-trained on MNLI\n",
    "x = tokenizer.encode(premise, hypothesis, return_tensors='pt',\n",
    "                    truncation_strategy='only_first')\n",
    "logits = nli_model(x)[0]\n",
    "\n",
    "entail_contradiction_logits = logits[:,[0,2]]\n",
    "probs = entail_contradiction_logits.softmax(dim=1)\n",
    "prob_label_is_true = probs[:,1]\n",
    "\n",
    "prob_label_is_true.item()"
   ]
  }
 ],
 "metadata": {
  "kernelspec": {
   "display_name": "Python 3.8.10 ('thesis_valentin': venv)",
   "language": "python",
   "name": "python3"
  },
  "language_info": {
   "codemirror_mode": {
    "name": "ipython",
    "version": 3
   },
   "file_extension": ".py",
   "mimetype": "text/x-python",
   "name": "python",
   "nbconvert_exporter": "python",
   "pygments_lexer": "ipython3",
   "version": "3.8.10"
  },
  "orig_nbformat": 4,
  "vscode": {
   "interpreter": {
    "hash": "a1350fe81f24607af7015099983099ac829ebf1f4acb969c2cf14b7230b10f2d"
   }
  }
 },
 "nbformat": 4,
 "nbformat_minor": 2
}
